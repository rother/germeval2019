{
 "cells": [
  {
   "cell_type": "markdown",
   "metadata": {},
   "source": [
    "# Germeval 2019 - Task 1 (hierarchical classification)"
   ]
  },
  {
   "cell_type": "markdown",
   "metadata": {},
   "source": [
    "This code is for Germeval 2019 Task 1. In this task, blurbs of German text that describe a book are provided and the challange is to predict classifications of different genres for the books from these blurbs.\n",
    "In subtask a, only the highest level classification (8 classes) is used and in subtask b, the entire hierarchy is used (343 classes total).\n",
    "\n",
    "Note that this is a multiclass (each book can have >1 class) and multilable problem (there are 8, 93 and 242 labels on each level of the hierarchy). It's also noteworthy that each book can have different leafs on the last level of the hierarchy, for example a/b/c1, a/b/c2\n",
    "\n",
    "The approach uses a combination of logistic regression and Naive Bayes. Best results on the dev-set (checked with the provided Python script and the gold file blurbs_dev_participants.txt):\n",
    "* F1-Score Task A: 0.826775214835\n",
    "* F1-Score Task B: 0.618365180467\n",
    "\n",
    "Tokenization Parameters:\n",
    "* spaCy was used as the tokenizer\n",
    "* unicode accents were stripped\n",
    "* casing was kept\n",
    "* no lemmatization\n",
    "* no stopwords\n",
    "\n",
    "Vectorization Parameters:\n",
    "* Only words that appeared in at least 4 documents were used\n",
    "* Words that appeared in more than 40% of documents were ignored\n",
    "* Inverse document-frequency-reweighting\n",
    "* Sublinear term frequency scaling\n",
    "* Smoothing\n",
    "* N-grams of 1,1 and 1,2 were used for the two submitted entries\n",
    "\n",
    "Logistic Regression Parameters:\n",
    "* Liblinear solver with a maximum number of 1000 iterations, automatic multiclass fitting and balanced class weights\n",
    "* L2 regularization with C=40.0\n",
    "* No dual formulation\n",
    "\n",
    "Final competition results:\n",
    "* Entry 1: 0.82 / 0.62\n",
    "* Entry 2: 0.82 / 0.61\n",
    "\n",
    "Link to the competition: https://www.inf.uni-hamburg.de/en/inst/ab/lt/resources/data/germeval-2019-hmc.html"
   ]
  },
  {
   "cell_type": "markdown",
   "metadata": {},
   "source": [
    "Note: This notebook is inspired by Jeremy Howard's post about a strong baseline system: https://www.kaggle.com/jhoward/nb-svm-strong-linear-baseline"
   ]
  },
  {
   "cell_type": "markdown",
   "metadata": {},
   "source": [
    "# 0) Imports and setup"
   ]
  },
  {
   "cell_type": "code",
   "execution_count": 1,
   "metadata": {
    "collapsed": false
   },
   "outputs": [],
   "source": [
    "# Time the entire notebook\n",
    "import timeit\n",
    "start_time = timeit.default_timer()"
   ]
  },
  {
   "cell_type": "markdown",
   "metadata": {},
   "source": [
    "## Imports"
   ]
  },
  {
   "cell_type": "code",
   "execution_count": 2,
   "metadata": {
    "collapsed": false
   },
   "outputs": [
    {
     "name": "stderr",
     "output_type": "stream",
     "text": [
      "//anaconda/envs/python3/lib/python3.5/site-packages/sklearn/utils/fixes.py:313: FutureWarning: numpy not_equal will not check object identity in the future. The comparison did not return the same result as suggested by the identity (`is`)) and will change.\n",
      "  _nan_object_mask = _nan_object_array != _nan_object_array\n"
     ]
    }
   ],
   "source": [
    "import pandas as pd, numpy as np\n",
    "from sklearn.linear_model import LogisticRegression\n",
    "from sklearn.feature_extraction.text import TfidfVectorizer, CountVectorizer\n",
    "from sklearn.model_selection import train_test_split\n",
    "from sklearn.multiclass import OneVsRestClassifier\n",
    "\n",
    "import re"
   ]
  },
  {
   "cell_type": "code",
   "execution_count": 3,
   "metadata": {
    "collapsed": false
   },
   "outputs": [
    {
     "name": "stdout",
     "output_type": "stream",
     "text": [
      "3.5.0 |Anaconda custom (64-bit)| (default, Oct 20 2015, 14:39:26) \n",
      "[GCC 4.2.1 (Apple Inc. build 5577)]\n",
      "0.20.0\n",
      "0.23.4\n",
      "1.11.3\n"
     ]
    }
   ],
   "source": [
    "import sys, sklearn\n",
    "print(sys.version)\n",
    "print(sklearn.__version__)\n",
    "print(pd.__version__)\n",
    "print(np.__version__)"
   ]
  },
  {
   "cell_type": "code",
   "execution_count": 4,
   "metadata": {
    "collapsed": false
   },
   "outputs": [
    {
     "name": "stdout",
     "output_type": "stream",
     "text": [
      "2.0.12\n"
     ]
    }
   ],
   "source": [
    "import spacy\n",
    "print(spacy.__version__)"
   ]
  },
  {
   "cell_type": "code",
   "execution_count": 5,
   "metadata": {
    "collapsed": false
   },
   "outputs": [
    {
     "name": "stdout",
     "output_type": "stream",
     "text": [
      "anaconda Command line client (version 1.1.0)\n",
      "4.0.0\n",
      "4.0.6\n"
     ]
    }
   ],
   "source": [
    "!anaconda --version\n",
    "!ipython --version\n",
    "!jupyter --version"
   ]
  },
  {
   "cell_type": "markdown",
   "metadata": {},
   "source": [
    "## Files"
   ]
  },
  {
   "cell_type": "code",
   "execution_count": 6,
   "metadata": {
    "collapsed": true
   },
   "outputs": [],
   "source": [
    "hierarchy_file = 'blurbs/hierarchy.txt'\n",
    "\n",
    "# Use this for testing (testset with goldfile)\n",
    "train_file = 'blurbs/blurbs_train.txt'\n",
    "test_file = 'blurbs/blurbs_dev_participants.txt'\n",
    "\n",
    "# Use this for the submission (bigger training set, correct testset) \n",
    "# train_file = 'blurbs/blurbs_train_and_dev.txt'\n",
    "# test_file = 'blurbs/blurbs_test_nolabel.txt'"
   ]
  },
  {
   "cell_type": "code",
   "execution_count": 7,
   "metadata": {
    "collapsed": true
   },
   "outputs": [],
   "source": [
    "# A dictionary of all labels. Taken from utilities.py from the organizers of Germeval 2019\n",
    "all_labels = {0: [u\"Ratgeber\", u\"Kinderbuch & Jugendbuch\", u\"Literatur & Unterhaltung\", u\"Sachbuch\", u\"Ganzheitliches Bewusstsein\", u\"Architektur & Garten\", u\"Glaube & Ethik\", u\"Künste\"],\n",
    "1: [u\"Eltern & Familie\", u\"Echtes Leben, Realistischer Roman\", u\"Abenteuer\", u\"Märchen, Sagen\", u\"Lyrik, Anthologien, Jahrbücher\", u\"Frauenunterhaltung\", u\"Fantasy\", u\"Kommunikation & Beruf\", u\"Lebenshilfe & Psychologie\", u\"Krimi & Thriller\", u\"Freizeit & Hobby\", u\"Liebe, Beziehung und Freundschaft\", u\"Familie\", u\"Natur, Wissenschaft, Technik\", u\"Fantasy und Science Fiction\", u\"Geister- und Gruselgeschichten\", u\"Schicksalsberichte\", u\"Romane & Erzählungen\", u\"Science Fiction\", u\"Politik & Gesellschaft\", u\"Ganzheitliche Psychologie\", u\"Natur, Tiere, Umwelt, Mensch\", u\"Psychologie\", u\"Lifestyle\", u\"Sport\", u\"Lebensgestaltung\", u\"Essen & Trinken\", u\"Gesundheit & Ernährung\", u\"Kunst, Musik\", u\"Architektur\", u\"Biographien & Autobiographien\", u\"Romance\", u\"Briefe, Essays, Gespräche\", u\"Kabarett & Satire\", u\"Krimis und Thriller\", u\"Erotik\", u\"Historische Romane\", u\"Theologie\", u\"Beschäftigung, Malen, Rätseln\", u\"Schulgeschichten\", u\"Biographien\", u\"Kunst\", u\"(Zeit-) Geschichte\", u\"Ganzheitlich Leben\", u\"Garten & Landschaftsarchitektur\", u\"Körper & Seele\", u\"Energieheilung\", u\"Abenteuer, Reisen, fremde Kulturen\", u\"Historische Romane, Zeitgeschichte\", u\"Klassiker & Lyrik\", u\"Fotografie\", u\"Design\", u\"Beauty & Wellness\", u\"Kunst & Kultur\", u\"Mystery\", u\"Ratgeber Partnerschaft & Sexualität\", u\"Detektivgeschichten\", u\"Spiritualität & Religion\", u\"Sachbuch Philosophie\", u\"Tiergeschichten\", u\"Horror\", u\"Literatur & Unterhaltung Satire\", u\"Infotainment & erzählendes Sachbuch\", u\"Fitness & Sport\", u\"Übernatürliches\", u\"Psychologie & Spiritualität\", u\"Handwerk Farbe\", u\"Weisheiten der Welt\", u\"Naturheilweisen\", u\"Lustige Geschichten, Witze\", u\"Wissen & Nachschlagewerke\", u\"Sterben, Tod und Trauer\", u\"Romantasy\", u\"Wirtschaft & Recht\", u\"Comic & Cartoon\", u\"Schullektüre\", u\"Glaube und Grenzerfahrungen\", u\"Mode & Lifestyle\", u\"Mondkräfte\", u\"Musik\", u\"Geschichte, Politik\", u\"Gemeindearbeit\", u\"Wohnen & Innenarchitektur\", u\"Esoterische Romane\", u\"Schicksalsdeutung\", u\"Religionsunterricht\", u\"Religiöse Literatur\", u\"Geld & Investment\", u\"Sportgeschichten\", u\"Religion, Glaube, Ethik, Philosophie\", u\"Recht & Steuern\", u\"Handwerk Holz\", u\"Regionalia\"],\n",
    "2: [u\"Vornamen\", u\"Heroische Fantasy\", u\"Joballtag & Karriere\", u\"Psychothriller\", u\"Große Gefühle\", u\"Feiern & Feste\", u\"Medizin & Forensik\", u\"Phantastik\", u\"Ökologie / Umweltschutz\", u\"Aktuelle Debatten\", u\"Ganzheitliche Psychologie Lebenshilfe\", u\"Nordamerikanische Literatur\", u\"Babys & Kleinkinder\", u\"Schwangerschaft & Geburt\", u\"Tod & Trauer\", u\"Nordische Krimis\", u\"Gesunde Ernährung\", u\"Junge Literatur\", u\"Kreatives\", u\"Einfamilienhausbau\", u\"Künstler, Dichter, Denker\", u\"Themenkochbuch\", u\"Abenteuer & Action\", u\"Science Thriller\", u\"Justizthriller\", u\"Besser leben\", u\"Starke Frauen\", u\"Gesellschaftskritik\", u\"Psychologie Partnerschaft & Sexualität\", u\"Krankheit\", u\"Abenteuer-Fantasy\", u\"Kirchen- und Theologiegeschichte\", u\"Biblische Theologie AT\", u\"Biblische Theologie NT\", u\"Politik & Gesellschaft Andere Länder & Kulturen\", u\"Hard Science Fiction\", u\"All Age Fantasy\", u\"Trauma\", u\"Krisen & Ängste\", u\"Space Opera\", u\"19./20. Jahrhundert\", u\"Agenten-/Spionage-Thriller\", u\"Französische Literatur\", u\"Selbstcoaching\", u\"Kopftraining\", u\"Erzählungen & Kurzgeschichten\", u\"Gartengestaltung\", u\"Weltpolitik & Globalisierung\", u\"Internet\", u\"Geschenkbuch & Briefkarten\", u\"Reiseberichte\", u\"Literatur aus Spanien und Lateinamerika\", u\"Romantische Komödien\", u\"Märchen, Legenden und Sagen\", u\"Humorvolle Unterhaltung\", u\"Natur, Wissenschaft, Technik Tiere\", u\"Familiensaga\", u\"Wellness\", u\"Romanbiographien\", u\"Patientenratgeber\", u\"Politische Theorien\", u\"Erotik & Sex\", u\"Rätsel & Spiele\", u\"Politiker\", u\"Future-History\", u\"Gerichtsmedizin / Pathologie\", u\"Spirituelles Leben\", u\"Nationalsozialismus\", u\"Musterbriefe & Rhetorik\", u\"Einzelthemen der Theologie\", u\"Dystopie\", u\"Lyrik\", u\"Literatur aus Russland und Osteuropa\", u\"Regionalkrimis\", u\"Starköche\", u\"Yoga, Pilates & Stretching\", u\"Pflanzen & Garten\", u\"Jenseits & Wiedergeburt\", u\"Fitnesstraining\", u\"Problemzonen\", u\"Italienische Literatur\", u\"Christlicher Glauben\", u\"Handwerk Farbe Praxis\", u\"Handwerk Farbe Grundlagenwissen\", u\"Östliche Weisheit\", u\"Ernährung\", u\"Magen & Darm\", u\"Nahrungsmittelintoleranz\", u\"Deutschsprachige Literatur\", u\"Mittelalter\", u\"Historische Krimis\", u\"Kindererziehung\", u\"Körpertherapien\", u\"High Fantasy\", u\"Science Fiction Sachbuch\", u\"Pubertät\", u\"Länderküche\", u\"Styling\", u\"Schönheitspflege\", u\"Getränke\", u\"Lady-Thriller\", u\"Abschied, Trauer, Neubeginn\", u\"Laufen & Nordic Walking\", u\"Neue Wirtschaftsmodelle\", u\"Utopie\", u\"Afrikanische Literatur\", u\"Science Fiction Science Fantasy\", u\"Englische Literatur\", u\"Steampunk\", u\"Alternativwelten\", u\"Geschichte nach '45\", u\"Spiritualität & Religion Weltreligionen\", u\"Theologie Religionspädagogik\", u\"Raucherentwöhnung\", u\"Funny Fantasy\", u\"Skandinavische Literatur\", u\"Film & Musik\", u\"Westliche Wege\", u\"Entspannung & Meditation\", u\"Kindergarten & Pädagogik\", u\"Schule & Lernen\", u\"Spiele & Beschäftigung\", u\"Psychologie Lebenshilfe\", u\"Persönlichkeitsentwicklung\", u\"Mystery-Thriller\", u\"Homöopathie & Bachblüten\", u\"Liebe & Beziehung\", u\"Literaturgeschichte / -kritik\", u\"Ernährung & Kochen\", u\"Wandern & Bergsteigen\", u\"Sucht & Abhängigkeit\", u\"Politthriller\", u\"Sterbebegleitung & Hospizarbeit\", u\"50 plus\", u\"Job & Karriere\", u\"Konfirmation\", u\"Gemeindearbeit Religionspädagogik\", u\"Kasualien und Sakramente\", u\"Schauspieler, Regisseure\", u\"Praktische Anleitungen\", u\"Rücken & Gelenke\", u\"Unternehmen & Manager\", u\"Landschaftsgestaltung\", u\"Krimikomödien\", u\"Musiker, Sänger\", u\"Freizeit & Hobby Tiere\", u\"Gebete und Andachten\", u\"Glauben mit Kindern\", u\"Dark Fantasy\", u\"Lesen & Kochen\", u\"Kunst & Kunstgeschichte\", u\"Flirt & Partnersuche\", u\"Partnerschaft & Sex\", u\"Kommunikation\", u\"Wissen der Naturvölker\", u\"Urban Fantasy\", u\"Andere Länder\", u\"21. Jahrhundert\", u\"Engel & Schutzgeister\", u\"Chakren & Aura\", u\"Science Fiction Satire\", u\"Bauherrenratgeber\", u\"Bautechnik\", u\"Systematische Theologie\", u\"Praktische Theologie\", u\"Kosmologie\", u\"Literatur aus Fernost\", u\"Bibeln & Katechismus\", u\"Humoristische Nachschlagewerke\", u\"Wohnen\", u\"Länder, Städte & Regionen\", u\"Spirituelle Entwicklung\", u\"Indische Literatur\", u\"Cyberpunk\", u\"Wissenschaftler\", u\"Dying Earth\", u\"Monographien\", u\"Gesang- und Liederbücher\", u\"Innenarchitektur\", u\"Baumaterialien\", u\"Antike und neulateinische Literatur\", u\"Gemeindearbeit mit Kindern & Jugendlichen\", u\"Wissenschaftsthriller\", u\"Ökothriller\", u\"Fantasy Science Fantasy\", u\"Psychotherapie\", u\"Farbratgeber\", u\"Hausmittel\", u\"Schicksalsberichte Andere Länder & Kulturen\", u\"Design / Lifestyle\", u\"Diakonie und Seelsorge\", u\"Gemeindearbeit Sachbuch\", u\"Gottesdienst und Predigt\", u\"Sprache & Sprechen\", u\"(Zeit-) Geschichte Andere Länder & Kulturen\", u\"Arbeitstechniken\", u\"Mantras & Mudras\", u\"NS-Zeit & Nachkriegszeit\", u\"Kinderschicksal\", u\"Altbausanierung / Denkmalpflege\", u\"Neuere Geschichte\", u\"Umgangsformen\", u\"Geschichte und Theorie\", u\"Familie & Religion\", u\"Niederländische Literatur\", u\"Handwerk Farbe Gestaltung\", u\"Historische Fantasy\", u\"Alte Geschichte\", u\"Fantasy-/SF-Thriller\", u\"Bewerbung\", u\"Wirtschaftsthriller\", u\"Bibel in gerechter Sprache\", u\"Fahrzeuge / Technik\", u\"Handwerk Holz Gestaltung\", u\"Handwerk Holz Grundlagenwissen\", u\"Anthologien\", u\"Handwerk Holz Praxis\", u\"Bibeln & Bibelarbeit\", u\"Theologie Weltreligionen\", u\"Dialog der Traditionen\", u\"Magie & Hexerei\", u\"Tierkrimis\", u\"Medizinthriller\", u\"Literatur des Nahen Ostens\", u\"Kirchenthriller\", u\"Spielewelten\", u\"Astrologie & Sternzeichen\", u\"Stadtplanung\", u\"Feministische Theologie\", u\"Entwurfs- und Detailplanung\", u\"Street Art\", u\"Trennung\", u\"Philosophie\", u\"Tarot\", u\"Systemische Therapie & Familienaufstellung\", u\"Bauaufgaben\", u\"Griechische Literatur\", u\"Gartendesigner\", u\"Urgeschichte\", u\"Reden & Glückwünsche\", u\"Antiquitäten\", u\"Theater / Ballett\"]}"
   ]
  },
  {
   "cell_type": "markdown",
   "metadata": {},
   "source": [
    "## Constants"
   ]
  },
  {
   "cell_type": "code",
   "execution_count": 461,
   "metadata": {
    "collapsed": true
   },
   "outputs": [],
   "source": [
    "TEXT_COLUMN = 'body'"
   ]
  },
  {
   "cell_type": "code",
   "execution_count": 8,
   "metadata": {
    "collapsed": true
   },
   "outputs": [],
   "source": [
    "LEMMATIZE = False"
   ]
  },
  {
   "cell_type": "markdown",
   "metadata": {},
   "source": [
    "## Set seed for reproducible results"
   ]
  },
  {
   "cell_type": "code",
   "execution_count": 283,
   "metadata": {
    "collapsed": true
   },
   "outputs": [],
   "source": [
    "import random\n",
    "\n",
    "seed = 23 # tried 23, 5, 42, 82\n",
    "np.random.seed(seed)\n",
    "random.seed(seed)"
   ]
  },
  {
   "cell_type": "markdown",
   "metadata": {},
   "source": [
    "## Tokenizer"
   ]
  },
  {
   "cell_type": "code",
   "execution_count": 10,
   "metadata": {
    "collapsed": true
   },
   "outputs": [],
   "source": [
    "nlp = spacy.load('de')\n",
    "\n",
    "def tokenize_spacy(corpus, lemma=LEMMATIZE):\n",
    "  doc = nlp(corpus)\n",
    "  if lemma:\n",
    "   return list(str(x.lemma_) for x in doc) # lemma_ to get string instead of hash\n",
    "  else:\n",
    "    return list(str(x) for x in doc)"
   ]
  },
  {
   "cell_type": "markdown",
   "metadata": {},
   "source": [
    "## Helpers"
   ]
  },
  {
   "cell_type": "markdown",
   "metadata": {},
   "source": [
    "### Data extraction"
   ]
  },
  {
   "cell_type": "code",
   "execution_count": 11,
   "metadata": {
    "collapsed": true
   },
   "outputs": [],
   "source": [
    "# Turn a provided XML-file into a string with an added root element\n",
    "def data_from_xml(xml_file):\n",
    "  # Read in the file\n",
    "  with open(xml_file, 'r') as file :\n",
    "    data = file.read()  \n",
    "    # Replace \"&\" with \"und\" to avoid parsing problems\n",
    "    data = data.replace(\"&\", \"und\")\n",
    "    # Add a root node\n",
    "    data = '<root>\\n' + data + '</root>\\n'\n",
    "    return data\n",
    "\n",
    "# Get the root element from a data-string\n",
    "def root_from_data(data, encoding='utf-8'):\n",
    "  import xml.etree.ElementTree as ET\n",
    "  xml_parser = ET.XMLParser(encoding=encoding)\n",
    "  xml_root = ET.fromstring(data)\n",
    "  return xml_root"
   ]
  },
  {
   "cell_type": "markdown",
   "metadata": {},
   "source": [
    "### Labels"
   ]
  },
  {
   "cell_type": "code",
   "execution_count": 12,
   "metadata": {
    "collapsed": true
   },
   "outputs": [],
   "source": [
    "# Turn a list of labels with all sorts of special characters into one that is usable for data frames\n",
    "# Examples: \n",
    "# 'Kinderbuch & Jugendbuch' -> 'kinderbuch_jugendbuch'\n",
    "# '(Zeit-) Geschichte' -> 'zeit geschichte'\n",
    "def labels_to_ids(labels):\n",
    "  ids = []\n",
    "  for label in labels:\n",
    "    label = label.replace(' & ', '_')\n",
    "    label = label.replace(' und ', '_')\n",
    "    label = label.lower()\n",
    "    # Stuff for depth-level 2 and 3\n",
    "    label = label.replace(\" / \", \"_\")\n",
    "    label = label.replace(\"/\", \"_\")\n",
    "    label = label.replace(\", \", \"_\")\n",
    "    label = label.replace(\"-\", \"\")\n",
    "    label = label.replace(\"(\", \"\")\n",
    "    label = label.replace(\")\", \"\")\n",
    "    label = label.replace(\".\", \"\")\n",
    "    label = label.replace(\"'\", \"\")\n",
    "    ids.append(label)\n",
    "  return ids"
   ]
  },
  {
   "cell_type": "code",
   "execution_count": 13,
   "metadata": {
    "collapsed": true
   },
   "outputs": [],
   "source": [
    "# Get the labels from the previous level\n",
    "# Examples:\n",
    "# u\"Romane & Erzählungen\" -> ['Literatur & Unterhaltung']\n",
    "# u\"Joballtag & Karriere\" -> ['Kommunikation & Beruf', 'Ratgeber']\n",
    "\n",
    "# TODO: refactor\n",
    "def find_previous_labels(label):\n",
    "  with open(hierarchy_file, 'r') as file :\n",
    "    data = file.read().split('\\n')\n",
    "  extra_labels = []\n",
    "  level_two_label = ''\n",
    "  for row in data:\n",
    "    # Note: this assumes, there's always two items per row\n",
    "    # Also assumes that every highest level item is only found once in the file\n",
    "    items = re.split(r'\\t+', row.rstrip('\\t')) # split on tab\n",
    "    if(( len(items) == 2 ) and items[1] == label):\n",
    "      extra_labels.append(items[0])\n",
    "      level_two_label = items[0]\n",
    "  for row in data:\n",
    "    # Note: this assumes, there's always two items per row\n",
    "    # Also assumes that every highest level item is only found once in the file\n",
    "    items = re.split(r'\\t+', row.rstrip('\\t')) # split on tab\n",
    "    if(( len(items) == 2 ) and items[1] == level_two_label):\n",
    "      extra_labels.append(items[0])\n",
    "  return extra_labels"
   ]
  },
  {
   "cell_type": "code",
   "execution_count": 14,
   "metadata": {
    "collapsed": true
   },
   "outputs": [],
   "source": [
    "# Get the labels from the next level\n",
    "# Example: u\"Ratgeber\"\n",
    "# ['Essen & Trinken', 'Gesundheit & Ernährung', 'Lebenshilfe & Psychologie', 'Eltern & Familie',\n",
    "#  'Ratgeber Partnerschaft & Sexualität', 'Beauty & Wellness', 'Fitness & Sport', 'Kommunikation & Beruf',\n",
    "#  'Geld & Investment', 'Recht & Steuern', 'Freizeit & Hobby', 'Wissen & Nachschlagewerke']\n",
    "def find_next_level(label):\n",
    "  extra_labels = []\n",
    "  with open(hierarchy_file, 'r') as file :\n",
    "    data = file.read().split('\\n')\n",
    "  for row in data:\n",
    "    # Note: this assumes, there's always two items per row\n",
    "    # Also assumes that every highest level item is only found once in the file\n",
    "    items = re.split(r'\\t+', row.rstrip('\\t')) # split on tab\n",
    "    if(( len(items) == 2 ) and items[0] == label):\n",
    "      extra_labels.append(items[1])\n",
    "  return extra_labels"
   ]
  },
  {
   "cell_type": "markdown",
   "metadata": {},
   "source": [
    "### Data frame construction"
   ]
  },
  {
   "cell_type": "code",
   "execution_count": 15,
   "metadata": {
    "collapsed": true
   },
   "outputs": [],
   "source": [
    "# Construct an empty data frame from a provided list of santized label_ids\n",
    "def dataframe_from_labels(label_ids=[]):\n",
    "  base_columns = ['isbn', 'title', 'body', 'copyright', 'authors', 'published']\n",
    "  # The testfile has no url and no labels (just the base columns)\n",
    "  if(label_ids==[]):\n",
    "    columns = base_columns\n",
    "  else:\n",
    "    base_columns.append('url')\n",
    "    columns = base_columns + label_ids\n",
    "  return pd.DataFrame(columns = columns)"
   ]
  },
  {
   "cell_type": "code",
   "execution_count": 16,
   "metadata": {
    "collapsed": true
   },
   "outputs": [],
   "source": [
    "# Write a 1 for every label that matches the ones passed and a 0 for every other label\n",
    "def entries_from_labels(matching_labels, label_ids):\n",
    "  entries = [0 for x in label_ids]\n",
    "  for item in labels_to_ids(matching_labels):\n",
    "    entries[label_ids.index(item)] = 1\n",
    "  return entries\n",
    "\n",
    "# Build a dataframe from a given root-element. Works for both training and test data.\n",
    "# d is the depth of the labels to consider: 0 = level 1, 1=level 2, 2=level 3\n",
    "def dataframe_from_root(root, label_ids=[], d=0):\n",
    "  if(label_ids==[]):\n",
    "    is_test = True\n",
    "  else:\n",
    "    is_test = False\n",
    "  # Empty dataframe for the given label_ids\n",
    "  df = dataframe_from_labels(label_ids)\n",
    "\n",
    "  for node in root:\n",
    "    matching_labels = []\n",
    "    \n",
    "    isbn = node.find(\"isbn\").text\n",
    "    title = node.find(\"title\").text\n",
    "    body = node.find(\"body\").text\n",
    "    copyright = node.find(\"copyright\").text\n",
    "    authors = node.find(\"authors\").text\n",
    "    published = node.find(\"published\").text\n",
    "    \n",
    "    # Training-set\n",
    "    if(is_test == False):\n",
    "      url = node.find(\"url\").text\n",
    "    \n",
    "      categories = node.find(\"categories\").findall(\"category\")\n",
    "      for c in categories:\n",
    "        topics = c.findall(\"topic\")\n",
    "        # Use all top-level matching_labels\n",
    "        for t in topics:\n",
    "          if t.attrib.get(\"d\") == str(d):\n",
    "            matching_labels.append(t.text)\n",
    "    \n",
    "      df = df.append(pd.Series([isbn, title, body, copyright, authors, published, url]+entries_from_labels(matching_labels, label_ids),\n",
    "                               index = df.columns), ignore_index = True)\n",
    "    \n",
    "    # Test-set\n",
    "    else:\n",
    "      df = df.append(pd.Series([isbn, title, body, copyright, authors, published],\n",
    "                               index = df.columns), ignore_index = True)\n",
    "    \n",
    "  return df"
   ]
  },
  {
   "cell_type": "code",
   "execution_count": 17,
   "metadata": {
    "collapsed": true
   },
   "outputs": [],
   "source": [
    "# Create dataframes for training and test from given labels and a level depth\n",
    "# depth=0 -> level 1 only (suitable for subtask a)\n",
    "def get_train_test(label_ids, depth=0):\n",
    "  train_df = dataframe_from_root(train_root, label_ids, d=depth)\n",
    "  test_df = dataframe_from_root(test_root)\n",
    "  # Add 0s for all labels for the test_df\n",
    "  test_df = test_df.reindex(columns=[*test_df.columns.tolist(), *label_ids], fill_value=0)\n",
    "  return train_df, test_df"
   ]
  },
  {
   "cell_type": "markdown",
   "metadata": {},
   "source": [
    "### Predictions to expected answer-format"
   ]
  },
  {
   "cell_type": "code",
   "execution_count": 18,
   "metadata": {
    "collapsed": true
   },
   "outputs": [],
   "source": [
    "def write_answerfile(ansers_taskA, answers_TaskB, filename='ORGNAME__MODEL.txt'):\n",
    "  # Add the required subtask-headers\n",
    "  final_answers = 'subtask_a\\n' + answers_taskA + '\\nsubtask_b\\n' + answers_taskB\n",
    "\n",
    "  out = open(filename, 'w')\n",
    "  out.write(final_answers)\n",
    "  out.close()"
   ]
  },
  {
   "cell_type": "markdown",
   "metadata": {},
   "source": [
    "## 1) Data loading and labels"
   ]
  },
  {
   "cell_type": "code",
   "execution_count": 19,
   "metadata": {
    "collapsed": false
   },
   "outputs": [],
   "source": [
    "# XML->data-string\n",
    "train_data = data_from_xml(train_file)\n",
    "test_data = data_from_xml(test_file)\n",
    "\n",
    "# Root element from data-string\n",
    "train_root = root_from_data(train_data)\n",
    "test_root = root_from_data(test_data)"
   ]
  },
  {
   "cell_type": "code",
   "execution_count": 20,
   "metadata": {
    "collapsed": false
   },
   "outputs": [],
   "source": [
    "# Level 1 labels\n",
    "labels = all_labels[0]\n",
    "label_ids = labels_to_ids(labels)\n",
    "# labels, label_ids"
   ]
  },
  {
   "cell_type": "code",
   "execution_count": 21,
   "metadata": {
    "collapsed": false
   },
   "outputs": [
    {
     "data": {
      "text/plain": [
       "8"
      ]
     },
     "execution_count": 21,
     "metadata": {},
     "output_type": "execute_result"
    }
   ],
   "source": [
    "len(labels) # 8"
   ]
  },
  {
   "cell_type": "code",
   "execution_count": 22,
   "metadata": {
    "collapsed": false
   },
   "outputs": [],
   "source": [
    "# Level 2 labels\n",
    "labels_level2 = all_labels[1]\n",
    "label_ids_level2 = labels_to_ids(labels_level2)\n",
    "# labels_level2, label_ids_level2"
   ]
  },
  {
   "cell_type": "code",
   "execution_count": 23,
   "metadata": {
    "collapsed": false
   },
   "outputs": [
    {
     "data": {
      "text/plain": [
       "93"
      ]
     },
     "execution_count": 23,
     "metadata": {},
     "output_type": "execute_result"
    }
   ],
   "source": [
    "len(labels_level2) # 93"
   ]
  },
  {
   "cell_type": "code",
   "execution_count": 24,
   "metadata": {
    "collapsed": false
   },
   "outputs": [],
   "source": [
    "# Level 3 labels\n",
    "labels_level3 = all_labels[2]\n",
    "label_ids_level3 = labels_to_ids(labels_level3)\n",
    "# labels_level3, label_ids_level3"
   ]
  },
  {
   "cell_type": "code",
   "execution_count": 25,
   "metadata": {
    "collapsed": false
   },
   "outputs": [
    {
     "data": {
      "text/plain": [
       "242"
      ]
     },
     "execution_count": 25,
     "metadata": {},
     "output_type": "execute_result"
    }
   ],
   "source": [
    "len(labels_level3) # 242"
   ]
  },
  {
   "cell_type": "markdown",
   "metadata": {},
   "source": [
    "# 2) Subtask A (level 1)"
   ]
  },
  {
   "cell_type": "markdown",
   "metadata": {},
   "source": [
    "## Load and sanitize the training and test data"
   ]
  },
  {
   "cell_type": "code",
   "execution_count": 26,
   "metadata": {
    "collapsed": false
   },
   "outputs": [],
   "source": [
    "train_df, test_df = get_train_test(label_ids, depth=0)"
   ]
  },
  {
   "cell_type": "code",
   "execution_count": 27,
   "metadata": {
    "collapsed": false
   },
   "outputs": [
    {
     "data": {
      "text/html": [
       "<div>\n",
       "<style scoped>\n",
       "    .dataframe tbody tr th:only-of-type {\n",
       "        vertical-align: middle;\n",
       "    }\n",
       "\n",
       "    .dataframe tbody tr th {\n",
       "        vertical-align: top;\n",
       "    }\n",
       "\n",
       "    .dataframe thead th {\n",
       "        text-align: right;\n",
       "    }\n",
       "</style>\n",
       "<table border=\"1\" class=\"dataframe\">\n",
       "  <thead>\n",
       "    <tr style=\"text-align: right;\">\n",
       "      <th></th>\n",
       "      <th>isbn</th>\n",
       "      <th>title</th>\n",
       "      <th>body</th>\n",
       "      <th>copyright</th>\n",
       "      <th>authors</th>\n",
       "      <th>published</th>\n",
       "      <th>url</th>\n",
       "      <th>ratgeber</th>\n",
       "      <th>kinderbuch_jugendbuch</th>\n",
       "      <th>literatur_unterhaltung</th>\n",
       "      <th>sachbuch</th>\n",
       "      <th>ganzheitliches bewusstsein</th>\n",
       "      <th>architektur_garten</th>\n",
       "      <th>glaube_ethik</th>\n",
       "      <th>künste</th>\n",
       "    </tr>\n",
       "  </thead>\n",
       "  <tbody>\n",
       "    <tr>\n",
       "      <th>0</th>\n",
       "      <td>9783641136291</td>\n",
       "      <td>Die Klinik</td>\n",
       "      <td>Ein Blick hinter die Kulissen eines Krankenhau...</td>\n",
       "      <td>(c) Verlagsgruppe Random House GmbH</td>\n",
       "      <td>Noah Gordon</td>\n",
       "      <td>2013-12-02</td>\n",
       "      <td>https://www.randomhouse.de/ebook/Die-Klinik/No...</td>\n",
       "      <td>0</td>\n",
       "      <td>0</td>\n",
       "      <td>1</td>\n",
       "      <td>0</td>\n",
       "      <td>0</td>\n",
       "      <td>0</td>\n",
       "      <td>0</td>\n",
       "      <td>0</td>\n",
       "    </tr>\n",
       "    <tr>\n",
       "      <th>1</th>\n",
       "      <td>9783641185787</td>\n",
       "      <td>Die Erben von Midkemia 4</td>\n",
       "      <td>Die Bedrohungen für Midkemia und Kelewan wolle...</td>\n",
       "      <td>(c) Verlagsgruppe Random House GmbH</td>\n",
       "      <td>Raymond Feist</td>\n",
       "      <td>2016-06-20</td>\n",
       "      <td>https://www.randomhouse.de/ebook/Die-Erben-von...</td>\n",
       "      <td>0</td>\n",
       "      <td>0</td>\n",
       "      <td>1</td>\n",
       "      <td>0</td>\n",
       "      <td>0</td>\n",
       "      <td>0</td>\n",
       "      <td>0</td>\n",
       "      <td>0</td>\n",
       "    </tr>\n",
       "    <tr>\n",
       "      <th>2</th>\n",
       "      <td>9783328103646</td>\n",
       "      <td>Völlig losgelöst</td>\n",
       "      <td>In der Dreizimmerwohnung stapeln sich Flohmark...</td>\n",
       "      <td>(c) Verlagsgruppe Random House GmbH</td>\n",
       "      <td>Susanne Weingarten</td>\n",
       "      <td>2019-01-14</td>\n",
       "      <td>https://www.randomhouse.de/Taschenbuch/Voellig...</td>\n",
       "      <td>1</td>\n",
       "      <td>0</td>\n",
       "      <td>0</td>\n",
       "      <td>0</td>\n",
       "      <td>0</td>\n",
       "      <td>0</td>\n",
       "      <td>0</td>\n",
       "      <td>0</td>\n",
       "    </tr>\n",
       "    <tr>\n",
       "      <th>3</th>\n",
       "      <td>9783453357792</td>\n",
       "      <td>Dich erfüllen</td>\n",
       "      <td>An der Seite von Damien fühlt sich Nikki zum e...</td>\n",
       "      <td>(c) Verlagsgruppe Random House GmbH</td>\n",
       "      <td>J. Kenner</td>\n",
       "      <td>2014-04-14</td>\n",
       "      <td>https://www.randomhouse.de/Taschenbuch/Dich-er...</td>\n",
       "      <td>0</td>\n",
       "      <td>0</td>\n",
       "      <td>1</td>\n",
       "      <td>0</td>\n",
       "      <td>0</td>\n",
       "      <td>0</td>\n",
       "      <td>0</td>\n",
       "      <td>0</td>\n",
       "    </tr>\n",
       "    <tr>\n",
       "      <th>4</th>\n",
       "      <td>9783844504958</td>\n",
       "      <td>Der Orientzyklus</td>\n",
       "      <td>Wer Kara Ben Nemsi, Hadschi Halef Omar und Sir...</td>\n",
       "      <td>(c) Verlagsgruppe Random House GmbH</td>\n",
       "      <td>Karl May</td>\n",
       "      <td>2007-08-13</td>\n",
       "      <td>https://www.randomhouse.de/Hoerbuch-Download/D...</td>\n",
       "      <td>0</td>\n",
       "      <td>0</td>\n",
       "      <td>1</td>\n",
       "      <td>0</td>\n",
       "      <td>0</td>\n",
       "      <td>0</td>\n",
       "      <td>0</td>\n",
       "      <td>0</td>\n",
       "    </tr>\n",
       "  </tbody>\n",
       "</table>\n",
       "</div>"
      ],
      "text/plain": [
       "            isbn                     title  \\\n",
       "0  9783641136291                Die Klinik   \n",
       "1  9783641185787  Die Erben von Midkemia 4   \n",
       "2  9783328103646          Völlig losgelöst   \n",
       "3  9783453357792             Dich erfüllen   \n",
       "4  9783844504958          Der Orientzyklus   \n",
       "\n",
       "                                                body  \\\n",
       "0  Ein Blick hinter die Kulissen eines Krankenhau...   \n",
       "1  Die Bedrohungen für Midkemia und Kelewan wolle...   \n",
       "2  In der Dreizimmerwohnung stapeln sich Flohmark...   \n",
       "3  An der Seite von Damien fühlt sich Nikki zum e...   \n",
       "4  Wer Kara Ben Nemsi, Hadschi Halef Omar und Sir...   \n",
       "\n",
       "                             copyright             authors   published  \\\n",
       "0  (c) Verlagsgruppe Random House GmbH         Noah Gordon  2013-12-02   \n",
       "1  (c) Verlagsgruppe Random House GmbH       Raymond Feist  2016-06-20   \n",
       "2  (c) Verlagsgruppe Random House GmbH  Susanne Weingarten  2019-01-14   \n",
       "3  (c) Verlagsgruppe Random House GmbH           J. Kenner  2014-04-14   \n",
       "4  (c) Verlagsgruppe Random House GmbH            Karl May  2007-08-13   \n",
       "\n",
       "                                                 url ratgeber  \\\n",
       "0  https://www.randomhouse.de/ebook/Die-Klinik/No...        0   \n",
       "1  https://www.randomhouse.de/ebook/Die-Erben-von...        0   \n",
       "2  https://www.randomhouse.de/Taschenbuch/Voellig...        1   \n",
       "3  https://www.randomhouse.de/Taschenbuch/Dich-er...        0   \n",
       "4  https://www.randomhouse.de/Hoerbuch-Download/D...        0   \n",
       "\n",
       "  kinderbuch_jugendbuch literatur_unterhaltung sachbuch  \\\n",
       "0                     0                      1        0   \n",
       "1                     0                      1        0   \n",
       "2                     0                      0        0   \n",
       "3                     0                      1        0   \n",
       "4                     0                      1        0   \n",
       "\n",
       "  ganzheitliches bewusstsein architektur_garten glaube_ethik künste  \n",
       "0                          0                  0            0      0  \n",
       "1                          0                  0            0      0  \n",
       "2                          0                  0            0      0  \n",
       "3                          0                  0            0      0  \n",
       "4                          0                  0            0      0  "
      ]
     },
     "execution_count": 27,
     "metadata": {},
     "output_type": "execute_result"
    }
   ],
   "source": [
    "train_df.head()"
   ]
  },
  {
   "cell_type": "code",
   "execution_count": 28,
   "metadata": {
    "collapsed": false
   },
   "outputs": [
    {
     "data": {
      "text/html": [
       "<div>\n",
       "<style scoped>\n",
       "    .dataframe tbody tr th:only-of-type {\n",
       "        vertical-align: middle;\n",
       "    }\n",
       "\n",
       "    .dataframe tbody tr th {\n",
       "        vertical-align: top;\n",
       "    }\n",
       "\n",
       "    .dataframe thead th {\n",
       "        text-align: right;\n",
       "    }\n",
       "</style>\n",
       "<table border=\"1\" class=\"dataframe\">\n",
       "  <thead>\n",
       "    <tr style=\"text-align: right;\">\n",
       "      <th></th>\n",
       "      <th>isbn</th>\n",
       "      <th>title</th>\n",
       "      <th>body</th>\n",
       "      <th>copyright</th>\n",
       "      <th>authors</th>\n",
       "      <th>published</th>\n",
       "      <th>url</th>\n",
       "      <th>ratgeber</th>\n",
       "      <th>kinderbuch_jugendbuch</th>\n",
       "      <th>literatur_unterhaltung</th>\n",
       "      <th>sachbuch</th>\n",
       "      <th>ganzheitliches bewusstsein</th>\n",
       "      <th>architektur_garten</th>\n",
       "      <th>glaube_ethik</th>\n",
       "      <th>künste</th>\n",
       "    </tr>\n",
       "  </thead>\n",
       "  <tbody>\n",
       "    <tr>\n",
       "      <th>200</th>\n",
       "      <td>9783570309971</td>\n",
       "      <td>Seelenkuss</td>\n",
       "      <td>Prinzessin Darejan erkennt ihre Schwester nich...</td>\n",
       "      <td>(c) Verlagsgruppe Random House GmbH</td>\n",
       "      <td>Lynn Raven</td>\n",
       "      <td>2015-07-13</td>\n",
       "      <td>https://www.randomhouse.de/Taschenbuch/Seelenk...</td>\n",
       "      <td>0</td>\n",
       "      <td>1</td>\n",
       "      <td>0</td>\n",
       "      <td>0</td>\n",
       "      <td>0</td>\n",
       "      <td>0</td>\n",
       "      <td>0</td>\n",
       "      <td>0</td>\n",
       "    </tr>\n",
       "    <tr>\n",
       "      <th>201</th>\n",
       "      <td>9783466372157</td>\n",
       "      <td>Benedikt XVI.</td>\n",
       "      <td>Mit Joseph Ratzinger verbindet sich eine atemb...</td>\n",
       "      <td>(c) Verlagsgruppe Random House GmbH</td>\n",
       "      <td>Peter Seewald, Diözese Passau Körperschaft des...</td>\n",
       "      <td>2017-10-30</td>\n",
       "      <td>https://www.randomhouse.de/Buch/Benedikt-XVI./...</td>\n",
       "      <td>0</td>\n",
       "      <td>0</td>\n",
       "      <td>0</td>\n",
       "      <td>1</td>\n",
       "      <td>0</td>\n",
       "      <td>0</td>\n",
       "      <td>0</td>\n",
       "      <td>0</td>\n",
       "    </tr>\n",
       "    <tr>\n",
       "      <th>202</th>\n",
       "      <td>9783844504392</td>\n",
       "      <td>Karl Valentins sprachliche Wirrungen</td>\n",
       "      <td>Vor Karl Valentin und Liesl Karlstadt ist nich...</td>\n",
       "      <td>(c) Verlagsgruppe Random House GmbH</td>\n",
       "      <td>Karl Valentin</td>\n",
       "      <td>2007-04-13</td>\n",
       "      <td>https://www.randomhouse.de/Hoerbuch-Download/K...</td>\n",
       "      <td>0</td>\n",
       "      <td>0</td>\n",
       "      <td>1</td>\n",
       "      <td>0</td>\n",
       "      <td>0</td>\n",
       "      <td>0</td>\n",
       "      <td>0</td>\n",
       "      <td>0</td>\n",
       "    </tr>\n",
       "    <tr>\n",
       "      <th>203</th>\n",
       "      <td>9783641103750</td>\n",
       "      <td>Mein Laufbuch für die ersten 10 Kilometer</td>\n",
       "      <td>Ihr Entschluss steht fest: Sie möchten gern mi...</td>\n",
       "      <td>(c) Verlagsgruppe Random House GmbH</td>\n",
       "      <td>Thomas Wessinghage</td>\n",
       "      <td>2014-04-24</td>\n",
       "      <td>https://www.randomhouse.de/ebook/Mein-Laufbuch...</td>\n",
       "      <td>1</td>\n",
       "      <td>0</td>\n",
       "      <td>0</td>\n",
       "      <td>0</td>\n",
       "      <td>0</td>\n",
       "      <td>0</td>\n",
       "      <td>0</td>\n",
       "      <td>0</td>\n",
       "    </tr>\n",
       "    <tr>\n",
       "      <th>204</th>\n",
       "      <td>9783453151659</td>\n",
       "      <td>Der Partner</td>\n",
       "      <td>Bevor sie die Falle zuschnappen ließen, hatten...</td>\n",
       "      <td>(c) Verlagsgruppe Random House GmbH</td>\n",
       "      <td>John Grisham</td>\n",
       "      <td>1999-09-01</td>\n",
       "      <td>https://www.randomhouse.de/Taschenbuch/Der-Par...</td>\n",
       "      <td>0</td>\n",
       "      <td>0</td>\n",
       "      <td>1</td>\n",
       "      <td>0</td>\n",
       "      <td>0</td>\n",
       "      <td>0</td>\n",
       "      <td>0</td>\n",
       "      <td>0</td>\n",
       "    </tr>\n",
       "    <tr>\n",
       "      <th>205</th>\n",
       "      <td>9783641118556</td>\n",
       "      <td>Saat der Angst</td>\n",
       "      <td>Unter mysteriösen Umständen verschwinden drei ...</td>\n",
       "      <td>(c) Verlagsgruppe Random House GmbH</td>\n",
       "      <td>Emily Benedek</td>\n",
       "      <td>2014-03-17</td>\n",
       "      <td>https://www.randomhouse.de/ebook/Saat-der-Angs...</td>\n",
       "      <td>0</td>\n",
       "      <td>0</td>\n",
       "      <td>1</td>\n",
       "      <td>0</td>\n",
       "      <td>0</td>\n",
       "      <td>0</td>\n",
       "      <td>0</td>\n",
       "      <td>0</td>\n",
       "    </tr>\n",
       "    <tr>\n",
       "      <th>206</th>\n",
       "      <td>9783641039363</td>\n",
       "      <td>Die Goldmacherin</td>\n",
       "      <td>Mainz 1461: Die junge Aurelia erlernt von ihre...</td>\n",
       "      <td>(c) Verlagsgruppe Random House GmbH</td>\n",
       "      <td>Sybille Conrad</td>\n",
       "      <td>2010-08-13</td>\n",
       "      <td>https://www.randomhouse.de/ebook/Die-Goldmache...</td>\n",
       "      <td>0</td>\n",
       "      <td>0</td>\n",
       "      <td>1</td>\n",
       "      <td>0</td>\n",
       "      <td>0</td>\n",
       "      <td>0</td>\n",
       "      <td>0</td>\n",
       "      <td>0</td>\n",
       "    </tr>\n",
       "    <tr>\n",
       "      <th>207</th>\n",
       "      <td>9783641192396</td>\n",
       "      <td>Denk blau, zähl bis zwei</td>\n",
       "      <td>Bevor die großen Schiffe planoformen konnten, ...</td>\n",
       "      <td>(c) Verlagsgruppe Random House GmbH</td>\n",
       "      <td>Cordwainer Smith</td>\n",
       "      <td>2016-04-28</td>\n",
       "      <td>https://www.randomhouse.de/ebook/Denk-blau,-za...</td>\n",
       "      <td>0</td>\n",
       "      <td>0</td>\n",
       "      <td>1</td>\n",
       "      <td>0</td>\n",
       "      <td>0</td>\n",
       "      <td>0</td>\n",
       "      <td>0</td>\n",
       "      <td>0</td>\n",
       "    </tr>\n",
       "    <tr>\n",
       "      <th>208</th>\n",
       "      <td>9783844504552</td>\n",
       "      <td>Beweise, daß es böse ist</td>\n",
       "      <td>Nicht einmal die Gondeln tragen Trauer, als di...</td>\n",
       "      <td>(c) Verlagsgruppe Random House GmbH</td>\n",
       "      <td>Donna Leon</td>\n",
       "      <td>2005-08-15</td>\n",
       "      <td>https://www.randomhouse.de/Hoerbuch-Download/B...</td>\n",
       "      <td>0</td>\n",
       "      <td>0</td>\n",
       "      <td>1</td>\n",
       "      <td>0</td>\n",
       "      <td>0</td>\n",
       "      <td>0</td>\n",
       "      <td>0</td>\n",
       "      <td>0</td>\n",
       "    </tr>\n",
       "    <tr>\n",
       "      <th>209</th>\n",
       "      <td>9783641145651</td>\n",
       "      <td>Im Bann der Liebe</td>\n",
       "      <td>Atemberaubend schön und in den raffiniertesten...</td>\n",
       "      <td>(c) Verlagsgruppe Random House GmbH</td>\n",
       "      <td>Sylvia Day</td>\n",
       "      <td>2015-01-12</td>\n",
       "      <td>https://www.randomhouse.de/ebook/Im-Bann-der-L...</td>\n",
       "      <td>0</td>\n",
       "      <td>0</td>\n",
       "      <td>1</td>\n",
       "      <td>0</td>\n",
       "      <td>0</td>\n",
       "      <td>0</td>\n",
       "      <td>0</td>\n",
       "      <td>0</td>\n",
       "    </tr>\n",
       "    <tr>\n",
       "      <th>210</th>\n",
       "      <td>9783570007112</td>\n",
       "      <td>Bertelsmann im Dritten Reich</td>\n",
       "      <td>An der Geschichte des Verlagshauses Bertelsman...</td>\n",
       "      <td>(c) Verlagsgruppe Random House GmbH</td>\n",
       "      <td>None</td>\n",
       "      <td>2002-10-07</td>\n",
       "      <td>https://www.randomhouse.de/Buch/Bertelsmann-im...</td>\n",
       "      <td>0</td>\n",
       "      <td>0</td>\n",
       "      <td>0</td>\n",
       "      <td>1</td>\n",
       "      <td>0</td>\n",
       "      <td>0</td>\n",
       "      <td>0</td>\n",
       "      <td>0</td>\n",
       "    </tr>\n",
       "    <tr>\n",
       "      <th>211</th>\n",
       "      <td>9783641106683</td>\n",
       "      <td>So wie Kupfer und Gold</td>\n",
       "      <td>Boston, 1855. Sophia ist 17, als sie nach dem ...</td>\n",
       "      <td>(c) Verlagsgruppe Random House GmbH</td>\n",
       "      <td>Jane Nickerson</td>\n",
       "      <td>2013-09-23</td>\n",
       "      <td>https://www.randomhouse.de/ebook/So-wie-Kupfer...</td>\n",
       "      <td>0</td>\n",
       "      <td>1</td>\n",
       "      <td>0</td>\n",
       "      <td>0</td>\n",
       "      <td>0</td>\n",
       "      <td>0</td>\n",
       "      <td>0</td>\n",
       "      <td>0</td>\n",
       "    </tr>\n",
       "    <tr>\n",
       "      <th>212</th>\n",
       "      <td>9783442748204</td>\n",
       "      <td>Die Springflut</td>\n",
       "      <td>Eine laue Sommernacht im Jahre 1987. Es ist Vo...</td>\n",
       "      <td>(c) Verlagsgruppe Random House GmbH</td>\n",
       "      <td>Cilla Börjlind, Rolf Börjlind</td>\n",
       "      <td>2015-01-12</td>\n",
       "      <td>https://www.randomhouse.de/Taschenbuch/Die-Spr...</td>\n",
       "      <td>0</td>\n",
       "      <td>0</td>\n",
       "      <td>1</td>\n",
       "      <td>0</td>\n",
       "      <td>0</td>\n",
       "      <td>0</td>\n",
       "      <td>0</td>\n",
       "      <td>0</td>\n",
       "    </tr>\n",
       "    <tr>\n",
       "      <th>213</th>\n",
       "      <td>9783641211998</td>\n",
       "      <td>Zeugen der Anklage</td>\n",
       "      <td>Lacy Stoltz, Anwältin bei der Rechtsaufsichtsb...</td>\n",
       "      <td>(c) Verlagsgruppe Random House GmbH</td>\n",
       "      <td>John Grisham</td>\n",
       "      <td>2017-03-13</td>\n",
       "      <td>https://www.randomhouse.de/ebook/Zeugen-der-An...</td>\n",
       "      <td>0</td>\n",
       "      <td>0</td>\n",
       "      <td>1</td>\n",
       "      <td>0</td>\n",
       "      <td>0</td>\n",
       "      <td>0</td>\n",
       "      <td>0</td>\n",
       "      <td>0</td>\n",
       "    </tr>\n",
       "    <tr>\n",
       "      <th>214</th>\n",
       "      <td>9783641192563</td>\n",
       "      <td>Planet der Stürme</td>\n",
       "      <td>Auf Henriada, dem Planeten der Stürme, trifft ...</td>\n",
       "      <td>(c) Verlagsgruppe Random House GmbH</td>\n",
       "      <td>Cordwainer Smith</td>\n",
       "      <td>2016-04-28</td>\n",
       "      <td>https://www.randomhouse.de/ebook/Planet-der-St...</td>\n",
       "      <td>0</td>\n",
       "      <td>0</td>\n",
       "      <td>1</td>\n",
       "      <td>0</td>\n",
       "      <td>0</td>\n",
       "      <td>0</td>\n",
       "      <td>0</td>\n",
       "      <td>0</td>\n",
       "    </tr>\n",
       "    <tr>\n",
       "      <th>215</th>\n",
       "      <td>9783570310045</td>\n",
       "      <td>Küss mich unterm Nordlicht</td>\n",
       "      <td>Seit dem Tod ihrer Mutter betreibt die achtzeh...</td>\n",
       "      <td>(c) Verlagsgruppe Random House GmbH</td>\n",
       "      <td>Joanna Wolfe</td>\n",
       "      <td>2015-11-09</td>\n",
       "      <td>https://www.randomhouse.de/Taschenbuch/Kuess-m...</td>\n",
       "      <td>0</td>\n",
       "      <td>1</td>\n",
       "      <td>0</td>\n",
       "      <td>0</td>\n",
       "      <td>0</td>\n",
       "      <td>0</td>\n",
       "      <td>0</td>\n",
       "      <td>0</td>\n",
       "    </tr>\n",
       "    <tr>\n",
       "      <th>216</th>\n",
       "      <td>9783453528482</td>\n",
       "      <td>Blutdämon</td>\n",
       "      <td>Rachel Morgan soll in San Francisco vor der jä...</td>\n",
       "      <td>(c) Verlagsgruppe Random House GmbH</td>\n",
       "      <td>Kim Harrison</td>\n",
       "      <td>2011-07-11</td>\n",
       "      <td>https://www.randomhouse.de/Paperback/Blutdaemo...</td>\n",
       "      <td>0</td>\n",
       "      <td>0</td>\n",
       "      <td>1</td>\n",
       "      <td>0</td>\n",
       "      <td>0</td>\n",
       "      <td>0</td>\n",
       "      <td>0</td>\n",
       "      <td>0</td>\n",
       "    </tr>\n",
       "    <tr>\n",
       "      <th>217</th>\n",
       "      <td>9783641054984</td>\n",
       "      <td>Gezeiten der Begierde</td>\n",
       "      <td>Rayne Kenyon, der unwiderstehliche Earl von Ha...</td>\n",
       "      <td>(c) Verlagsgruppe Random House GmbH</td>\n",
       "      <td>Nicole Jordan</td>\n",
       "      <td>2011-04-19</td>\n",
       "      <td>https://www.randomhouse.de/ebook/Gezeiten-der-...</td>\n",
       "      <td>0</td>\n",
       "      <td>0</td>\n",
       "      <td>1</td>\n",
       "      <td>0</td>\n",
       "      <td>0</td>\n",
       "      <td>0</td>\n",
       "      <td>0</td>\n",
       "      <td>0</td>\n",
       "    </tr>\n",
       "    <tr>\n",
       "      <th>218</th>\n",
       "      <td>9783837172669</td>\n",
       "      <td>Nur nicht unsichtbar werden</td>\n",
       "      <td>Monica Bleibtreu liest „Nur nicht unsichtbar w...</td>\n",
       "      <td>(c) Verlagsgruppe Random House GmbH</td>\n",
       "      <td>Nuala O'Faolain</td>\n",
       "      <td>2005-07-01</td>\n",
       "      <td>https://www.randomhouse.de/Hoerbuch-Download/N...</td>\n",
       "      <td>0</td>\n",
       "      <td>0</td>\n",
       "      <td>1</td>\n",
       "      <td>0</td>\n",
       "      <td>0</td>\n",
       "      <td>0</td>\n",
       "      <td>0</td>\n",
       "      <td>0</td>\n",
       "    </tr>\n",
       "    <tr>\n",
       "      <th>219</th>\n",
       "      <td>9783570225493</td>\n",
       "      <td>Die Chaosschwestern sind die Größten</td>\n",
       "      <td>Helle Aufregung bei den Chaosschwestern: Spukt...</td>\n",
       "      <td>(c) Verlagsgruppe Random House GmbH</td>\n",
       "      <td>Dagmar H. Mueller</td>\n",
       "      <td>2015-07-20</td>\n",
       "      <td>https://www.randomhouse.de/Taschenbuch/Die-Cha...</td>\n",
       "      <td>0</td>\n",
       "      <td>1</td>\n",
       "      <td>0</td>\n",
       "      <td>0</td>\n",
       "      <td>0</td>\n",
       "      <td>0</td>\n",
       "      <td>0</td>\n",
       "      <td>0</td>\n",
       "    </tr>\n",
       "    <tr>\n",
       "      <th>220</th>\n",
       "      <td>9783641143527</td>\n",
       "      <td>999 Antworten zu Schwangerschaft, Geburt und B...</td>\n",
       "      <td>Juhu, schwanger! Die Freude über diese Nachric...</td>\n",
       "      <td>(c) Verlagsgruppe Random House GmbH</td>\n",
       "      <td>BabyCare</td>\n",
       "      <td>2015-10-12</td>\n",
       "      <td>https://www.randomhouse.de/ebook/999-Antworten...</td>\n",
       "      <td>1</td>\n",
       "      <td>0</td>\n",
       "      <td>0</td>\n",
       "      <td>0</td>\n",
       "      <td>0</td>\n",
       "      <td>0</td>\n",
       "      <td>0</td>\n",
       "      <td>0</td>\n",
       "    </tr>\n",
       "    <tr>\n",
       "      <th>221</th>\n",
       "      <td>9783579020600</td>\n",
       "      <td>Predigtlehre</td>\n",
       "      <td>Das Buch ist nicht nur lesbar, es ist um eigen...</td>\n",
       "      <td>(c) Verlagsgruppe Random House GmbH</td>\n",
       "      <td>Rudolf Bohren</td>\n",
       "      <td>1971-01-02</td>\n",
       "      <td>https://www.randomhouse.de/Paperback/Predigtle...</td>\n",
       "      <td>0</td>\n",
       "      <td>0</td>\n",
       "      <td>0</td>\n",
       "      <td>0</td>\n",
       "      <td>0</td>\n",
       "      <td>0</td>\n",
       "      <td>1</td>\n",
       "      <td>0</td>\n",
       "    </tr>\n",
       "    <tr>\n",
       "      <th>222</th>\n",
       "      <td>9783424630558</td>\n",
       "      <td>Selbstmitgefühl</td>\n",
       "      <td>Unser unermüdliches Streben danach, in allen B...</td>\n",
       "      <td>(c) Verlagsgruppe Random House GmbH</td>\n",
       "      <td>Kristin Neff</td>\n",
       "      <td>2012-09-17</td>\n",
       "      <td>https://www.randomhouse.de/Buch/Selbstmitgefue...</td>\n",
       "      <td>0</td>\n",
       "      <td>0</td>\n",
       "      <td>0</td>\n",
       "      <td>0</td>\n",
       "      <td>1</td>\n",
       "      <td>0</td>\n",
       "      <td>0</td>\n",
       "      <td>0</td>\n",
       "    </tr>\n",
       "    <tr>\n",
       "      <th>223</th>\n",
       "      <td>9783844514445</td>\n",
       "      <td>Ist das ein Witz? Kommt ein Komiker zum Arzt ...</td>\n",
       "      <td>Nach dem Bestsellererfolg des Formates \"Ist da...</td>\n",
       "      <td>(c) Verlagsgruppe Random House GmbH</td>\n",
       "      <td>Eckart von Hirschhausen, Jürgen von der Lippe</td>\n",
       "      <td>2014-03-31</td>\n",
       "      <td>https://www.randomhouse.de/Hoerbuch/Ist-das-ei...</td>\n",
       "      <td>0</td>\n",
       "      <td>0</td>\n",
       "      <td>1</td>\n",
       "      <td>1</td>\n",
       "      <td>0</td>\n",
       "      <td>0</td>\n",
       "      <td>0</td>\n",
       "      <td>0</td>\n",
       "    </tr>\n",
       "    <tr>\n",
       "      <th>224</th>\n",
       "      <td>9783809436140</td>\n",
       "      <td>Pancakes und Pancake-Art (mit Links zu Filmanl...</td>\n",
       "      <td>Sie sind rund, etwas dicklich, ca. 10 cm groß ...</td>\n",
       "      <td>(c) Verlagsgruppe Random House GmbH</td>\n",
       "      <td>Christine Sinnwell-Backes</td>\n",
       "      <td>2016-06-20</td>\n",
       "      <td>https://www.randomhouse.de/Buch/Pancakes-und-P...</td>\n",
       "      <td>1</td>\n",
       "      <td>0</td>\n",
       "      <td>0</td>\n",
       "      <td>0</td>\n",
       "      <td>0</td>\n",
       "      <td>0</td>\n",
       "      <td>0</td>\n",
       "      <td>0</td>\n",
       "    </tr>\n",
       "    <tr>\n",
       "      <th>225</th>\n",
       "      <td>9783894809591</td>\n",
       "      <td>Die Herrin</td>\n",
       "      <td>Tabulos, erotisch, spannend! Tagsüber spielt C...</td>\n",
       "      <td>(c) Verlagsgruppe Random House GmbH</td>\n",
       "      <td>Ira Miller</td>\n",
       "      <td>2006-03-01</td>\n",
       "      <td>https://www.randomhouse.de/ebook/Die-Herrin/Ir...</td>\n",
       "      <td>0</td>\n",
       "      <td>0</td>\n",
       "      <td>1</td>\n",
       "      <td>0</td>\n",
       "      <td>0</td>\n",
       "      <td>0</td>\n",
       "      <td>0</td>\n",
       "      <td>0</td>\n",
       "    </tr>\n",
       "    <tr>\n",
       "      <th>226</th>\n",
       "      <td>9783442460878</td>\n",
       "      <td>Göttin in Gummistiefeln</td>\n",
       "      <td>Samantha, eine junge, höchst erfolgreiche Lond...</td>\n",
       "      <td>(c) Verlagsgruppe Random House GmbH</td>\n",
       "      <td>Sophie Kinsella</td>\n",
       "      <td>2006-03-20</td>\n",
       "      <td>https://www.randomhouse.de/Taschenbuch/Goettin...</td>\n",
       "      <td>0</td>\n",
       "      <td>0</td>\n",
       "      <td>1</td>\n",
       "      <td>0</td>\n",
       "      <td>0</td>\n",
       "      <td>0</td>\n",
       "      <td>0</td>\n",
       "      <td>0</td>\n",
       "    </tr>\n",
       "    <tr>\n",
       "      <th>227</th>\n",
       "      <td>9783570402320</td>\n",
       "      <td>VIRALS - Nur die Tote kennt die Wahrheit</td>\n",
       "      <td>Das Forschungslabor, in dem Tory Brennans Vate...</td>\n",
       "      <td>(c) Verlagsgruppe Random House GmbH</td>\n",
       "      <td>Kathy Reichs</td>\n",
       "      <td>2014-03-17</td>\n",
       "      <td>https://www.randomhouse.de/Taschenbuch/VIRALS-...</td>\n",
       "      <td>0</td>\n",
       "      <td>1</td>\n",
       "      <td>0</td>\n",
       "      <td>0</td>\n",
       "      <td>0</td>\n",
       "      <td>0</td>\n",
       "      <td>0</td>\n",
       "      <td>0</td>\n",
       "    </tr>\n",
       "    <tr>\n",
       "      <th>228</th>\n",
       "      <td>9783641583712</td>\n",
       "      <td>Farbenfrohe Weihnachten</td>\n",
       "      <td>Endlich zahlt sich das Aufbewahren von Geschen...</td>\n",
       "      <td>(c) Verlagsgruppe Random House GmbH</td>\n",
       "      <td>Ruth Laing</td>\n",
       "      <td>2013-12-19</td>\n",
       "      <td>https://www.randomhouse.de/ebook/Farbenfrohe-W...</td>\n",
       "      <td>1</td>\n",
       "      <td>0</td>\n",
       "      <td>0</td>\n",
       "      <td>0</td>\n",
       "      <td>0</td>\n",
       "      <td>0</td>\n",
       "      <td>0</td>\n",
       "      <td>0</td>\n",
       "    </tr>\n",
       "    <tr>\n",
       "      <th>229</th>\n",
       "      <td>9783791382821</td>\n",
       "      <td>Aroma-Kochbuch</td>\n",
       "      <td>Das \"Aroma-Kochbuch\" ist ein Fest der (Geschma...</td>\n",
       "      <td>(c) Verlagsgruppe Random House GmbH</td>\n",
       "      <td>Kille Enna</td>\n",
       "      <td>2017-08-21</td>\n",
       "      <td>https://www.randomhouse.de/Buch/Aroma-Kochbuch...</td>\n",
       "      <td>1</td>\n",
       "      <td>0</td>\n",
       "      <td>0</td>\n",
       "      <td>0</td>\n",
       "      <td>0</td>\n",
       "      <td>0</td>\n",
       "      <td>0</td>\n",
       "      <td>0</td>\n",
       "    </tr>\n",
       "    <tr>\n",
       "      <th>230</th>\n",
       "      <td>9783641046170</td>\n",
       "      <td>Hart auf hart</td>\n",
       "      <td>»Fliehe oder kämpfe!« Diese zwei Möglichkeiten...</td>\n",
       "      <td>(c) Verlagsgruppe Random House GmbH</td>\n",
       "      <td>Jeff Wise</td>\n",
       "      <td>2010-11-29</td>\n",
       "      <td>https://www.randomhouse.de/ebook/Hart-auf-hart...</td>\n",
       "      <td>0</td>\n",
       "      <td>0</td>\n",
       "      <td>0</td>\n",
       "      <td>1</td>\n",
       "      <td>0</td>\n",
       "      <td>0</td>\n",
       "      <td>0</td>\n",
       "      <td>0</td>\n",
       "    </tr>\n",
       "    <tr>\n",
       "      <th>231</th>\n",
       "      <td>9783641175917</td>\n",
       "      <td>Ein Ufo, dachte sie</td>\n",
       "      <td>Spätestens seit dem »Kleinen Wörterbuch für Li...</td>\n",
       "      <td>(c) Verlagsgruppe Random House GmbH</td>\n",
       "      <td>Xiaolu Guo</td>\n",
       "      <td>2015-03-12</td>\n",
       "      <td>https://www.randomhouse.de/ebook/Ein-Ufo,-dach...</td>\n",
       "      <td>0</td>\n",
       "      <td>0</td>\n",
       "      <td>1</td>\n",
       "      <td>0</td>\n",
       "      <td>0</td>\n",
       "      <td>0</td>\n",
       "      <td>0</td>\n",
       "      <td>0</td>\n",
       "    </tr>\n",
       "    <tr>\n",
       "      <th>232</th>\n",
       "      <td>9783641061333</td>\n",
       "      <td>Der Duft von Safran</td>\n",
       "      <td>Albany, eine amerikanische Kleinstadt, Anfang ...</td>\n",
       "      <td>(c) Verlagsgruppe Random House GmbH</td>\n",
       "      <td>Linda Holeman</td>\n",
       "      <td>2011-09-26</td>\n",
       "      <td>https://www.randomhouse.de/ebook/Der-Duft-von-...</td>\n",
       "      <td>0</td>\n",
       "      <td>0</td>\n",
       "      <td>1</td>\n",
       "      <td>0</td>\n",
       "      <td>0</td>\n",
       "      <td>0</td>\n",
       "      <td>0</td>\n",
       "      <td>0</td>\n",
       "    </tr>\n",
       "    <tr>\n",
       "      <th>233</th>\n",
       "      <td>9783641113674</td>\n",
       "      <td>Lauschangriff - Im Visier der Feinde</td>\n",
       "      <td>Die USA stehen vor ihrer größten Herausforderu...</td>\n",
       "      <td>(c) Verlagsgruppe Random House GmbH</td>\n",
       "      <td>Patrick Robinson</td>\n",
       "      <td>2013-05-30</td>\n",
       "      <td>https://www.randomhouse.de/ebook/Lauschangriff...</td>\n",
       "      <td>0</td>\n",
       "      <td>0</td>\n",
       "      <td>1</td>\n",
       "      <td>0</td>\n",
       "      <td>0</td>\n",
       "      <td>0</td>\n",
       "      <td>0</td>\n",
       "      <td>0</td>\n",
       "    </tr>\n",
       "    <tr>\n",
       "      <th>234</th>\n",
       "      <td>9783641131562</td>\n",
       "      <td>Der letzte Verdacht. Private Suspect</td>\n",
       "      <td>Als Jack Morgan, Besitzer der weltweit renommi...</td>\n",
       "      <td>(c) Verlagsgruppe Random House GmbH</td>\n",
       "      <td>James Patterson, Maxine Paetro</td>\n",
       "      <td>2014-09-15</td>\n",
       "      <td>https://www.randomhouse.de/ebook/Der-letzte-Ve...</td>\n",
       "      <td>0</td>\n",
       "      <td>0</td>\n",
       "      <td>1</td>\n",
       "      <td>0</td>\n",
       "      <td>0</td>\n",
       "      <td>0</td>\n",
       "      <td>0</td>\n",
       "      <td>0</td>\n",
       "    </tr>\n",
       "    <tr>\n",
       "      <th>235</th>\n",
       "      <td>9783570403075</td>\n",
       "      <td>Dreamwalker - Das Geheimnis des Magierordens</td>\n",
       "      <td>Die Zukunft aller in den Zwillingskönigreichen...</td>\n",
       "      <td>(c) Verlagsgruppe Random House GmbH</td>\n",
       "      <td>James Oswald</td>\n",
       "      <td>2016-02-08</td>\n",
       "      <td>https://www.randomhouse.de/Taschenbuch/Dreamwa...</td>\n",
       "      <td>0</td>\n",
       "      <td>1</td>\n",
       "      <td>0</td>\n",
       "      <td>0</td>\n",
       "      <td>0</td>\n",
       "      <td>0</td>\n",
       "      <td>0</td>\n",
       "      <td>0</td>\n",
       "    </tr>\n",
       "    <tr>\n",
       "      <th>236</th>\n",
       "      <td>9783442478859</td>\n",
       "      <td>Das Bild der Erinnerung</td>\n",
       "      <td>Einem Münchner Auktionshaus wird ein Bild des ...</td>\n",
       "      <td>(c) Verlagsgruppe Random House GmbH</td>\n",
       "      <td>Micaela Jary</td>\n",
       "      <td>2013-09-16</td>\n",
       "      <td>https://www.randomhouse.de/Taschenbuch/Das-Bil...</td>\n",
       "      <td>0</td>\n",
       "      <td>0</td>\n",
       "      <td>1</td>\n",
       "      <td>0</td>\n",
       "      <td>0</td>\n",
       "      <td>0</td>\n",
       "      <td>0</td>\n",
       "      <td>0</td>\n",
       "    </tr>\n",
       "    <tr>\n",
       "      <th>237</th>\n",
       "      <td>9783837116748</td>\n",
       "      <td>Erna, der Baum nadelt</td>\n",
       "      <td>Unglaublich! Völlig unerwartet werden Schorsch...</td>\n",
       "      <td>(c) Verlagsgruppe Random House GmbH</td>\n",
       "      <td>Robert Gernhardt</td>\n",
       "      <td>2012-10-22</td>\n",
       "      <td>https://www.randomhouse.de/Hoerbuch/Erna,-der-...</td>\n",
       "      <td>0</td>\n",
       "      <td>0</td>\n",
       "      <td>1</td>\n",
       "      <td>0</td>\n",
       "      <td>0</td>\n",
       "      <td>0</td>\n",
       "      <td>0</td>\n",
       "      <td>0</td>\n",
       "    </tr>\n",
       "    <tr>\n",
       "      <th>238</th>\n",
       "      <td>9783442757282</td>\n",
       "      <td>Der Fall Kallmann</td>\n",
       "      <td>Wer war Eugen Kallmann? Warum musste der belie...</td>\n",
       "      <td>(c) Verlagsgruppe Random House GmbH</td>\n",
       "      <td>Håkan Nesser</td>\n",
       "      <td>2017-10-30</td>\n",
       "      <td>https://www.randomhouse.de/Buch/Der-Fall-Kallm...</td>\n",
       "      <td>0</td>\n",
       "      <td>0</td>\n",
       "      <td>1</td>\n",
       "      <td>0</td>\n",
       "      <td>0</td>\n",
       "      <td>0</td>\n",
       "      <td>0</td>\n",
       "      <td>0</td>\n",
       "    </tr>\n",
       "    <tr>\n",
       "      <th>239</th>\n",
       "      <td>9783641556341</td>\n",
       "      <td>Donnerstag ist Veggietag</td>\n",
       "      <td>Vegetarische Ernährung ist mehr als ein Trend:...</td>\n",
       "      <td>(c) Verlagsgruppe Random House GmbH</td>\n",
       "      <td>Miki Duerinck, Kristin Leybaert</td>\n",
       "      <td>2011-03-18</td>\n",
       "      <td>https://www.randomhouse.de/ebook/Donnerstag-is...</td>\n",
       "      <td>1</td>\n",
       "      <td>0</td>\n",
       "      <td>0</td>\n",
       "      <td>0</td>\n",
       "      <td>0</td>\n",
       "      <td>0</td>\n",
       "      <td>0</td>\n",
       "      <td>0</td>\n",
       "    </tr>\n",
       "    <tr>\n",
       "      <th>240</th>\n",
       "      <td>9783453811423</td>\n",
       "      <td>Die Ares-Entscheidung</td>\n",
       "      <td>Im Norden Ugandas wird ein Spezialkommando der...</td>\n",
       "      <td>(c) Verlagsgruppe Random House GmbH</td>\n",
       "      <td>Robert Ludlum, Kyle Mills</td>\n",
       "      <td>2011-12-12</td>\n",
       "      <td>https://www.randomhouse.de/Taschenbuch/Die-Are...</td>\n",
       "      <td>0</td>\n",
       "      <td>0</td>\n",
       "      <td>1</td>\n",
       "      <td>0</td>\n",
       "      <td>0</td>\n",
       "      <td>0</td>\n",
       "      <td>0</td>\n",
       "      <td>0</td>\n",
       "    </tr>\n",
       "    <tr>\n",
       "      <th>241</th>\n",
       "      <td>9783453360075</td>\n",
       "      <td>Der Schatten</td>\n",
       "      <td>Die ehrgeizige Filmproduzentin Stella Helling ...</td>\n",
       "      <td>(c) Verlagsgruppe Random House GmbH</td>\n",
       "      <td>Petra Hammesfahr</td>\n",
       "      <td>2019-01-14</td>\n",
       "      <td>https://www.randomhouse.de/Taschenbuch/Der-Sch...</td>\n",
       "      <td>0</td>\n",
       "      <td>0</td>\n",
       "      <td>1</td>\n",
       "      <td>0</td>\n",
       "      <td>0</td>\n",
       "      <td>0</td>\n",
       "      <td>0</td>\n",
       "      <td>0</td>\n",
       "    </tr>\n",
       "    <tr>\n",
       "      <th>242</th>\n",
       "      <td>9783641179687</td>\n",
       "      <td>Warum nehme ich nicht ab?</td>\n",
       "      <td>Die bekannte Journalistin und Autorin Susanne ...</td>\n",
       "      <td>(c) Verlagsgruppe Random House GmbH</td>\n",
       "      <td>Susanne Walsleben</td>\n",
       "      <td>2015-12-21</td>\n",
       "      <td>https://www.randomhouse.de/ebook/Warum-nehme-i...</td>\n",
       "      <td>1</td>\n",
       "      <td>0</td>\n",
       "      <td>0</td>\n",
       "      <td>0</td>\n",
       "      <td>0</td>\n",
       "      <td>0</td>\n",
       "      <td>0</td>\n",
       "      <td>0</td>\n",
       "    </tr>\n",
       "    <tr>\n",
       "      <th>243</th>\n",
       "      <td>9783734101366</td>\n",
       "      <td>Der Weihnachtswald</td>\n",
       "      <td>Wie jedes Jahr an Weihnachten macht sich die a...</td>\n",
       "      <td>(c) Verlagsgruppe Random House GmbH</td>\n",
       "      <td>Angelika Schwarzhuber</td>\n",
       "      <td>2017-09-18</td>\n",
       "      <td>https://www.randomhouse.de/Taschenbuch/Der-Wei...</td>\n",
       "      <td>0</td>\n",
       "      <td>0</td>\n",
       "      <td>1</td>\n",
       "      <td>0</td>\n",
       "      <td>0</td>\n",
       "      <td>0</td>\n",
       "      <td>0</td>\n",
       "      <td>0</td>\n",
       "    </tr>\n",
       "    <tr>\n",
       "      <th>244</th>\n",
       "      <td>9783641091514</td>\n",
       "      <td>Falscher Mann</td>\n",
       "      <td>Über Bayern wölbt sich der Himmel blau-weiß, u...</td>\n",
       "      <td>(c) Verlagsgruppe Random House GmbH</td>\n",
       "      <td>Franz Xaver Roth</td>\n",
       "      <td>2013-03-04</td>\n",
       "      <td>https://www.randomhouse.de/ebook/Falscher-Mann...</td>\n",
       "      <td>0</td>\n",
       "      <td>0</td>\n",
       "      <td>1</td>\n",
       "      <td>0</td>\n",
       "      <td>0</td>\n",
       "      <td>0</td>\n",
       "      <td>0</td>\n",
       "      <td>0</td>\n",
       "    </tr>\n",
       "    <tr>\n",
       "      <th>245</th>\n",
       "      <td>9783442740475</td>\n",
       "      <td>Eine verlässliche Frau</td>\n",
       "      <td>Eine Kleinstadt in Wisconsin 1907. Er ist ein ...</td>\n",
       "      <td>(c) Verlagsgruppe Random House GmbH</td>\n",
       "      <td>Robert Goolrick</td>\n",
       "      <td>2012-09-10</td>\n",
       "      <td>https://www.randomhouse.de/Taschenbuch/Eine-ve...</td>\n",
       "      <td>0</td>\n",
       "      <td>0</td>\n",
       "      <td>1</td>\n",
       "      <td>0</td>\n",
       "      <td>0</td>\n",
       "      <td>0</td>\n",
       "      <td>0</td>\n",
       "      <td>0</td>\n",
       "    </tr>\n",
       "    <tr>\n",
       "      <th>246</th>\n",
       "      <td>9783442716517</td>\n",
       "      <td>Der große Augenblick</td>\n",
       "      <td>Macabéa schlägt sich in der rauen Hafengegend ...</td>\n",
       "      <td>(c) Verlagsgruppe Random House GmbH</td>\n",
       "      <td>Clarice Lispector</td>\n",
       "      <td>2018-05-14</td>\n",
       "      <td>https://www.randomhouse.de/Taschenbuch/Der-gro...</td>\n",
       "      <td>0</td>\n",
       "      <td>0</td>\n",
       "      <td>1</td>\n",
       "      <td>0</td>\n",
       "      <td>0</td>\n",
       "      <td>0</td>\n",
       "      <td>0</td>\n",
       "      <td>0</td>\n",
       "    </tr>\n",
       "    <tr>\n",
       "      <th>247</th>\n",
       "      <td>9783442716807</td>\n",
       "      <td>Wer die Goldkehlchen stört</td>\n",
       "      <td>Jim hat keinen Bock - keinen Bock auf Oslo, ke...</td>\n",
       "      <td>(c) Verlagsgruppe Random House GmbH</td>\n",
       "      <td>Levi Henriksen</td>\n",
       "      <td>2018-08-13</td>\n",
       "      <td>https://www.randomhouse.de/Taschenbuch/Wer-die...</td>\n",
       "      <td>0</td>\n",
       "      <td>0</td>\n",
       "      <td>1</td>\n",
       "      <td>0</td>\n",
       "      <td>0</td>\n",
       "      <td>0</td>\n",
       "      <td>0</td>\n",
       "      <td>0</td>\n",
       "    </tr>\n",
       "    <tr>\n",
       "      <th>248</th>\n",
       "      <td>9783442266289</td>\n",
       "      <td>Der Weg in die Schatten</td>\n",
       "      <td>Durzo Blint ist ein gefährlicher Mann, ein unü...</td>\n",
       "      <td>(c) Verlagsgruppe Random House GmbH</td>\n",
       "      <td>Brent Weeks</td>\n",
       "      <td>2009-12-07</td>\n",
       "      <td>https://www.randomhouse.de/Paperback/Der-Weg-i...</td>\n",
       "      <td>0</td>\n",
       "      <td>0</td>\n",
       "      <td>1</td>\n",
       "      <td>0</td>\n",
       "      <td>0</td>\n",
       "      <td>0</td>\n",
       "      <td>0</td>\n",
       "      <td>0</td>\n",
       "    </tr>\n",
       "    <tr>\n",
       "      <th>249</th>\n",
       "      <td>9783641191665</td>\n",
       "      <td>Ärger mit der Unsterblichkeit</td>\n",
       "      <td>Auf der Suche nach einem Antibiotikum hat Fran...</td>\n",
       "      <td>(c) Verlagsgruppe Random House GmbH</td>\n",
       "      <td>John Wyndham</td>\n",
       "      <td>2016-10-31</td>\n",
       "      <td>https://www.randomhouse.de/ebook/Aerger-mit-de...</td>\n",
       "      <td>0</td>\n",
       "      <td>0</td>\n",
       "      <td>1</td>\n",
       "      <td>0</td>\n",
       "      <td>0</td>\n",
       "      <td>0</td>\n",
       "      <td>0</td>\n",
       "      <td>0</td>\n",
       "    </tr>\n",
       "  </tbody>\n",
       "</table>\n",
       "</div>"
      ],
      "text/plain": [
       "              isbn                                              title  \\\n",
       "200  9783570309971                                         Seelenkuss   \n",
       "201  9783466372157                                      Benedikt XVI.   \n",
       "202  9783844504392               Karl Valentins sprachliche Wirrungen   \n",
       "203  9783641103750          Mein Laufbuch für die ersten 10 Kilometer   \n",
       "204  9783453151659                                        Der Partner   \n",
       "205  9783641118556                                     Saat der Angst   \n",
       "206  9783641039363                                   Die Goldmacherin   \n",
       "207  9783641192396                           Denk blau, zähl bis zwei   \n",
       "208  9783844504552                           Beweise, daß es böse ist   \n",
       "209  9783641145651                                  Im Bann der Liebe   \n",
       "210  9783570007112                       Bertelsmann im Dritten Reich   \n",
       "211  9783641106683                             So wie Kupfer und Gold   \n",
       "212  9783442748204                                     Die Springflut   \n",
       "213  9783641211998                                 Zeugen der Anklage   \n",
       "214  9783641192563                                  Planet der Stürme   \n",
       "215  9783570310045                         Küss mich unterm Nordlicht   \n",
       "216  9783453528482                                          Blutdämon   \n",
       "217  9783641054984                              Gezeiten der Begierde   \n",
       "218  9783837172669                        Nur nicht unsichtbar werden   \n",
       "219  9783570225493               Die Chaosschwestern sind die Größten   \n",
       "220  9783641143527  999 Antworten zu Schwangerschaft, Geburt und B...   \n",
       "221  9783579020600                                       Predigtlehre   \n",
       "222  9783424630558                                    Selbstmitgefühl   \n",
       "223  9783844514445   Ist das ein Witz? Kommt ein Komiker zum Arzt ...   \n",
       "224  9783809436140  Pancakes und Pancake-Art (mit Links zu Filmanl...   \n",
       "225  9783894809591                                         Die Herrin   \n",
       "226  9783442460878                            Göttin in Gummistiefeln   \n",
       "227  9783570402320           VIRALS - Nur die Tote kennt die Wahrheit   \n",
       "228  9783641583712                            Farbenfrohe Weihnachten   \n",
       "229  9783791382821                                     Aroma-Kochbuch   \n",
       "230  9783641046170                                      Hart auf hart   \n",
       "231  9783641175917                                Ein Ufo, dachte sie   \n",
       "232  9783641061333                                Der Duft von Safran   \n",
       "233  9783641113674               Lauschangriff - Im Visier der Feinde   \n",
       "234  9783641131562               Der letzte Verdacht. Private Suspect   \n",
       "235  9783570403075       Dreamwalker - Das Geheimnis des Magierordens   \n",
       "236  9783442478859                            Das Bild der Erinnerung   \n",
       "237  9783837116748                              Erna, der Baum nadelt   \n",
       "238  9783442757282                                  Der Fall Kallmann   \n",
       "239  9783641556341                           Donnerstag ist Veggietag   \n",
       "240  9783453811423                              Die Ares-Entscheidung   \n",
       "241  9783453360075                                       Der Schatten   \n",
       "242  9783641179687                          Warum nehme ich nicht ab?   \n",
       "243  9783734101366                                 Der Weihnachtswald   \n",
       "244  9783641091514                                      Falscher Mann   \n",
       "245  9783442740475                             Eine verlässliche Frau   \n",
       "246  9783442716517                               Der große Augenblick   \n",
       "247  9783442716807                         Wer die Goldkehlchen stört   \n",
       "248  9783442266289                            Der Weg in die Schatten   \n",
       "249  9783641191665                      Ärger mit der Unsterblichkeit   \n",
       "\n",
       "                                                  body  \\\n",
       "200  Prinzessin Darejan erkennt ihre Schwester nich...   \n",
       "201  Mit Joseph Ratzinger verbindet sich eine atemb...   \n",
       "202  Vor Karl Valentin und Liesl Karlstadt ist nich...   \n",
       "203  Ihr Entschluss steht fest: Sie möchten gern mi...   \n",
       "204  Bevor sie die Falle zuschnappen ließen, hatten...   \n",
       "205  Unter mysteriösen Umständen verschwinden drei ...   \n",
       "206  Mainz 1461: Die junge Aurelia erlernt von ihre...   \n",
       "207  Bevor die großen Schiffe planoformen konnten, ...   \n",
       "208  Nicht einmal die Gondeln tragen Trauer, als di...   \n",
       "209  Atemberaubend schön und in den raffiniertesten...   \n",
       "210  An der Geschichte des Verlagshauses Bertelsman...   \n",
       "211  Boston, 1855. Sophia ist 17, als sie nach dem ...   \n",
       "212  Eine laue Sommernacht im Jahre 1987. Es ist Vo...   \n",
       "213  Lacy Stoltz, Anwältin bei der Rechtsaufsichtsb...   \n",
       "214  Auf Henriada, dem Planeten der Stürme, trifft ...   \n",
       "215  Seit dem Tod ihrer Mutter betreibt die achtzeh...   \n",
       "216  Rachel Morgan soll in San Francisco vor der jä...   \n",
       "217  Rayne Kenyon, der unwiderstehliche Earl von Ha...   \n",
       "218  Monica Bleibtreu liest „Nur nicht unsichtbar w...   \n",
       "219  Helle Aufregung bei den Chaosschwestern: Spukt...   \n",
       "220  Juhu, schwanger! Die Freude über diese Nachric...   \n",
       "221  Das Buch ist nicht nur lesbar, es ist um eigen...   \n",
       "222  Unser unermüdliches Streben danach, in allen B...   \n",
       "223  Nach dem Bestsellererfolg des Formates \"Ist da...   \n",
       "224  Sie sind rund, etwas dicklich, ca. 10 cm groß ...   \n",
       "225  Tabulos, erotisch, spannend! Tagsüber spielt C...   \n",
       "226  Samantha, eine junge, höchst erfolgreiche Lond...   \n",
       "227  Das Forschungslabor, in dem Tory Brennans Vate...   \n",
       "228  Endlich zahlt sich das Aufbewahren von Geschen...   \n",
       "229  Das \"Aroma-Kochbuch\" ist ein Fest der (Geschma...   \n",
       "230  »Fliehe oder kämpfe!« Diese zwei Möglichkeiten...   \n",
       "231  Spätestens seit dem »Kleinen Wörterbuch für Li...   \n",
       "232  Albany, eine amerikanische Kleinstadt, Anfang ...   \n",
       "233  Die USA stehen vor ihrer größten Herausforderu...   \n",
       "234  Als Jack Morgan, Besitzer der weltweit renommi...   \n",
       "235  Die Zukunft aller in den Zwillingskönigreichen...   \n",
       "236  Einem Münchner Auktionshaus wird ein Bild des ...   \n",
       "237  Unglaublich! Völlig unerwartet werden Schorsch...   \n",
       "238  Wer war Eugen Kallmann? Warum musste der belie...   \n",
       "239  Vegetarische Ernährung ist mehr als ein Trend:...   \n",
       "240  Im Norden Ugandas wird ein Spezialkommando der...   \n",
       "241  Die ehrgeizige Filmproduzentin Stella Helling ...   \n",
       "242  Die bekannte Journalistin und Autorin Susanne ...   \n",
       "243  Wie jedes Jahr an Weihnachten macht sich die a...   \n",
       "244  Über Bayern wölbt sich der Himmel blau-weiß, u...   \n",
       "245  Eine Kleinstadt in Wisconsin 1907. Er ist ein ...   \n",
       "246  Macabéa schlägt sich in der rauen Hafengegend ...   \n",
       "247  Jim hat keinen Bock - keinen Bock auf Oslo, ke...   \n",
       "248  Durzo Blint ist ein gefährlicher Mann, ein unü...   \n",
       "249  Auf der Suche nach einem Antibiotikum hat Fran...   \n",
       "\n",
       "                               copyright  \\\n",
       "200  (c) Verlagsgruppe Random House GmbH   \n",
       "201  (c) Verlagsgruppe Random House GmbH   \n",
       "202  (c) Verlagsgruppe Random House GmbH   \n",
       "203  (c) Verlagsgruppe Random House GmbH   \n",
       "204  (c) Verlagsgruppe Random House GmbH   \n",
       "205  (c) Verlagsgruppe Random House GmbH   \n",
       "206  (c) Verlagsgruppe Random House GmbH   \n",
       "207  (c) Verlagsgruppe Random House GmbH   \n",
       "208  (c) Verlagsgruppe Random House GmbH   \n",
       "209  (c) Verlagsgruppe Random House GmbH   \n",
       "210  (c) Verlagsgruppe Random House GmbH   \n",
       "211  (c) Verlagsgruppe Random House GmbH   \n",
       "212  (c) Verlagsgruppe Random House GmbH   \n",
       "213  (c) Verlagsgruppe Random House GmbH   \n",
       "214  (c) Verlagsgruppe Random House GmbH   \n",
       "215  (c) Verlagsgruppe Random House GmbH   \n",
       "216  (c) Verlagsgruppe Random House GmbH   \n",
       "217  (c) Verlagsgruppe Random House GmbH   \n",
       "218  (c) Verlagsgruppe Random House GmbH   \n",
       "219  (c) Verlagsgruppe Random House GmbH   \n",
       "220  (c) Verlagsgruppe Random House GmbH   \n",
       "221  (c) Verlagsgruppe Random House GmbH   \n",
       "222  (c) Verlagsgruppe Random House GmbH   \n",
       "223  (c) Verlagsgruppe Random House GmbH   \n",
       "224  (c) Verlagsgruppe Random House GmbH   \n",
       "225  (c) Verlagsgruppe Random House GmbH   \n",
       "226  (c) Verlagsgruppe Random House GmbH   \n",
       "227  (c) Verlagsgruppe Random House GmbH   \n",
       "228  (c) Verlagsgruppe Random House GmbH   \n",
       "229  (c) Verlagsgruppe Random House GmbH   \n",
       "230  (c) Verlagsgruppe Random House GmbH   \n",
       "231  (c) Verlagsgruppe Random House GmbH   \n",
       "232  (c) Verlagsgruppe Random House GmbH   \n",
       "233  (c) Verlagsgruppe Random House GmbH   \n",
       "234  (c) Verlagsgruppe Random House GmbH   \n",
       "235  (c) Verlagsgruppe Random House GmbH   \n",
       "236  (c) Verlagsgruppe Random House GmbH   \n",
       "237  (c) Verlagsgruppe Random House GmbH   \n",
       "238  (c) Verlagsgruppe Random House GmbH   \n",
       "239  (c) Verlagsgruppe Random House GmbH   \n",
       "240  (c) Verlagsgruppe Random House GmbH   \n",
       "241  (c) Verlagsgruppe Random House GmbH   \n",
       "242  (c) Verlagsgruppe Random House GmbH   \n",
       "243  (c) Verlagsgruppe Random House GmbH   \n",
       "244  (c) Verlagsgruppe Random House GmbH   \n",
       "245  (c) Verlagsgruppe Random House GmbH   \n",
       "246  (c) Verlagsgruppe Random House GmbH   \n",
       "247  (c) Verlagsgruppe Random House GmbH   \n",
       "248  (c) Verlagsgruppe Random House GmbH   \n",
       "249  (c) Verlagsgruppe Random House GmbH   \n",
       "\n",
       "                                               authors   published  \\\n",
       "200                                         Lynn Raven  2015-07-13   \n",
       "201  Peter Seewald, Diözese Passau Körperschaft des...  2017-10-30   \n",
       "202                                      Karl Valentin  2007-04-13   \n",
       "203                                 Thomas Wessinghage  2014-04-24   \n",
       "204                                       John Grisham  1999-09-01   \n",
       "205                                      Emily Benedek  2014-03-17   \n",
       "206                                     Sybille Conrad  2010-08-13   \n",
       "207                                   Cordwainer Smith  2016-04-28   \n",
       "208                                         Donna Leon  2005-08-15   \n",
       "209                                         Sylvia Day  2015-01-12   \n",
       "210                                               None  2002-10-07   \n",
       "211                                     Jane Nickerson  2013-09-23   \n",
       "212                      Cilla Börjlind, Rolf Börjlind  2015-01-12   \n",
       "213                                       John Grisham  2017-03-13   \n",
       "214                                   Cordwainer Smith  2016-04-28   \n",
       "215                                       Joanna Wolfe  2015-11-09   \n",
       "216                                       Kim Harrison  2011-07-11   \n",
       "217                                      Nicole Jordan  2011-04-19   \n",
       "218                                    Nuala O'Faolain  2005-07-01   \n",
       "219                                  Dagmar H. Mueller  2015-07-20   \n",
       "220                                           BabyCare  2015-10-12   \n",
       "221                                      Rudolf Bohren  1971-01-02   \n",
       "222                                       Kristin Neff  2012-09-17   \n",
       "223      Eckart von Hirschhausen, Jürgen von der Lippe  2014-03-31   \n",
       "224                          Christine Sinnwell-Backes  2016-06-20   \n",
       "225                                         Ira Miller  2006-03-01   \n",
       "226                                    Sophie Kinsella  2006-03-20   \n",
       "227                                       Kathy Reichs  2014-03-17   \n",
       "228                                         Ruth Laing  2013-12-19   \n",
       "229                                         Kille Enna  2017-08-21   \n",
       "230                                          Jeff Wise  2010-11-29   \n",
       "231                                         Xiaolu Guo  2015-03-12   \n",
       "232                                      Linda Holeman  2011-09-26   \n",
       "233                                   Patrick Robinson  2013-05-30   \n",
       "234                     James Patterson, Maxine Paetro  2014-09-15   \n",
       "235                                       James Oswald  2016-02-08   \n",
       "236                                       Micaela Jary  2013-09-16   \n",
       "237                                   Robert Gernhardt  2012-10-22   \n",
       "238                                       Håkan Nesser  2017-10-30   \n",
       "239                    Miki Duerinck, Kristin Leybaert  2011-03-18   \n",
       "240                          Robert Ludlum, Kyle Mills  2011-12-12   \n",
       "241                                   Petra Hammesfahr  2019-01-14   \n",
       "242                                  Susanne Walsleben  2015-12-21   \n",
       "243                              Angelika Schwarzhuber  2017-09-18   \n",
       "244                                   Franz Xaver Roth  2013-03-04   \n",
       "245                                    Robert Goolrick  2012-09-10   \n",
       "246                                  Clarice Lispector  2018-05-14   \n",
       "247                                     Levi Henriksen  2018-08-13   \n",
       "248                                        Brent Weeks  2009-12-07   \n",
       "249                                       John Wyndham  2016-10-31   \n",
       "\n",
       "                                                   url ratgeber  \\\n",
       "200  https://www.randomhouse.de/Taschenbuch/Seelenk...        0   \n",
       "201  https://www.randomhouse.de/Buch/Benedikt-XVI./...        0   \n",
       "202  https://www.randomhouse.de/Hoerbuch-Download/K...        0   \n",
       "203  https://www.randomhouse.de/ebook/Mein-Laufbuch...        1   \n",
       "204  https://www.randomhouse.de/Taschenbuch/Der-Par...        0   \n",
       "205  https://www.randomhouse.de/ebook/Saat-der-Angs...        0   \n",
       "206  https://www.randomhouse.de/ebook/Die-Goldmache...        0   \n",
       "207  https://www.randomhouse.de/ebook/Denk-blau,-za...        0   \n",
       "208  https://www.randomhouse.de/Hoerbuch-Download/B...        0   \n",
       "209  https://www.randomhouse.de/ebook/Im-Bann-der-L...        0   \n",
       "210  https://www.randomhouse.de/Buch/Bertelsmann-im...        0   \n",
       "211  https://www.randomhouse.de/ebook/So-wie-Kupfer...        0   \n",
       "212  https://www.randomhouse.de/Taschenbuch/Die-Spr...        0   \n",
       "213  https://www.randomhouse.de/ebook/Zeugen-der-An...        0   \n",
       "214  https://www.randomhouse.de/ebook/Planet-der-St...        0   \n",
       "215  https://www.randomhouse.de/Taschenbuch/Kuess-m...        0   \n",
       "216  https://www.randomhouse.de/Paperback/Blutdaemo...        0   \n",
       "217  https://www.randomhouse.de/ebook/Gezeiten-der-...        0   \n",
       "218  https://www.randomhouse.de/Hoerbuch-Download/N...        0   \n",
       "219  https://www.randomhouse.de/Taschenbuch/Die-Cha...        0   \n",
       "220  https://www.randomhouse.de/ebook/999-Antworten...        1   \n",
       "221  https://www.randomhouse.de/Paperback/Predigtle...        0   \n",
       "222  https://www.randomhouse.de/Buch/Selbstmitgefue...        0   \n",
       "223  https://www.randomhouse.de/Hoerbuch/Ist-das-ei...        0   \n",
       "224  https://www.randomhouse.de/Buch/Pancakes-und-P...        1   \n",
       "225  https://www.randomhouse.de/ebook/Die-Herrin/Ir...        0   \n",
       "226  https://www.randomhouse.de/Taschenbuch/Goettin...        0   \n",
       "227  https://www.randomhouse.de/Taschenbuch/VIRALS-...        0   \n",
       "228  https://www.randomhouse.de/ebook/Farbenfrohe-W...        1   \n",
       "229  https://www.randomhouse.de/Buch/Aroma-Kochbuch...        1   \n",
       "230  https://www.randomhouse.de/ebook/Hart-auf-hart...        0   \n",
       "231  https://www.randomhouse.de/ebook/Ein-Ufo,-dach...        0   \n",
       "232  https://www.randomhouse.de/ebook/Der-Duft-von-...        0   \n",
       "233  https://www.randomhouse.de/ebook/Lauschangriff...        0   \n",
       "234  https://www.randomhouse.de/ebook/Der-letzte-Ve...        0   \n",
       "235  https://www.randomhouse.de/Taschenbuch/Dreamwa...        0   \n",
       "236  https://www.randomhouse.de/Taschenbuch/Das-Bil...        0   \n",
       "237  https://www.randomhouse.de/Hoerbuch/Erna,-der-...        0   \n",
       "238  https://www.randomhouse.de/Buch/Der-Fall-Kallm...        0   \n",
       "239  https://www.randomhouse.de/ebook/Donnerstag-is...        1   \n",
       "240  https://www.randomhouse.de/Taschenbuch/Die-Are...        0   \n",
       "241  https://www.randomhouse.de/Taschenbuch/Der-Sch...        0   \n",
       "242  https://www.randomhouse.de/ebook/Warum-nehme-i...        1   \n",
       "243  https://www.randomhouse.de/Taschenbuch/Der-Wei...        0   \n",
       "244  https://www.randomhouse.de/ebook/Falscher-Mann...        0   \n",
       "245  https://www.randomhouse.de/Taschenbuch/Eine-ve...        0   \n",
       "246  https://www.randomhouse.de/Taschenbuch/Der-gro...        0   \n",
       "247  https://www.randomhouse.de/Taschenbuch/Wer-die...        0   \n",
       "248  https://www.randomhouse.de/Paperback/Der-Weg-i...        0   \n",
       "249  https://www.randomhouse.de/ebook/Aerger-mit-de...        0   \n",
       "\n",
       "    kinderbuch_jugendbuch literatur_unterhaltung sachbuch  \\\n",
       "200                     1                      0        0   \n",
       "201                     0                      0        1   \n",
       "202                     0                      1        0   \n",
       "203                     0                      0        0   \n",
       "204                     0                      1        0   \n",
       "205                     0                      1        0   \n",
       "206                     0                      1        0   \n",
       "207                     0                      1        0   \n",
       "208                     0                      1        0   \n",
       "209                     0                      1        0   \n",
       "210                     0                      0        1   \n",
       "211                     1                      0        0   \n",
       "212                     0                      1        0   \n",
       "213                     0                      1        0   \n",
       "214                     0                      1        0   \n",
       "215                     1                      0        0   \n",
       "216                     0                      1        0   \n",
       "217                     0                      1        0   \n",
       "218                     0                      1        0   \n",
       "219                     1                      0        0   \n",
       "220                     0                      0        0   \n",
       "221                     0                      0        0   \n",
       "222                     0                      0        0   \n",
       "223                     0                      1        1   \n",
       "224                     0                      0        0   \n",
       "225                     0                      1        0   \n",
       "226                     0                      1        0   \n",
       "227                     1                      0        0   \n",
       "228                     0                      0        0   \n",
       "229                     0                      0        0   \n",
       "230                     0                      0        1   \n",
       "231                     0                      1        0   \n",
       "232                     0                      1        0   \n",
       "233                     0                      1        0   \n",
       "234                     0                      1        0   \n",
       "235                     1                      0        0   \n",
       "236                     0                      1        0   \n",
       "237                     0                      1        0   \n",
       "238                     0                      1        0   \n",
       "239                     0                      0        0   \n",
       "240                     0                      1        0   \n",
       "241                     0                      1        0   \n",
       "242                     0                      0        0   \n",
       "243                     0                      1        0   \n",
       "244                     0                      1        0   \n",
       "245                     0                      1        0   \n",
       "246                     0                      1        0   \n",
       "247                     0                      1        0   \n",
       "248                     0                      1        0   \n",
       "249                     0                      1        0   \n",
       "\n",
       "    ganzheitliches bewusstsein architektur_garten glaube_ethik künste  \n",
       "200                          0                  0            0      0  \n",
       "201                          0                  0            0      0  \n",
       "202                          0                  0            0      0  \n",
       "203                          0                  0            0      0  \n",
       "204                          0                  0            0      0  \n",
       "205                          0                  0            0      0  \n",
       "206                          0                  0            0      0  \n",
       "207                          0                  0            0      0  \n",
       "208                          0                  0            0      0  \n",
       "209                          0                  0            0      0  \n",
       "210                          0                  0            0      0  \n",
       "211                          0                  0            0      0  \n",
       "212                          0                  0            0      0  \n",
       "213                          0                  0            0      0  \n",
       "214                          0                  0            0      0  \n",
       "215                          0                  0            0      0  \n",
       "216                          0                  0            0      0  \n",
       "217                          0                  0            0      0  \n",
       "218                          0                  0            0      0  \n",
       "219                          0                  0            0      0  \n",
       "220                          0                  0            0      0  \n",
       "221                          0                  0            1      0  \n",
       "222                          1                  0            0      0  \n",
       "223                          0                  0            0      0  \n",
       "224                          0                  0            0      0  \n",
       "225                          0                  0            0      0  \n",
       "226                          0                  0            0      0  \n",
       "227                          0                  0            0      0  \n",
       "228                          0                  0            0      0  \n",
       "229                          0                  0            0      0  \n",
       "230                          0                  0            0      0  \n",
       "231                          0                  0            0      0  \n",
       "232                          0                  0            0      0  \n",
       "233                          0                  0            0      0  \n",
       "234                          0                  0            0      0  \n",
       "235                          0                  0            0      0  \n",
       "236                          0                  0            0      0  \n",
       "237                          0                  0            0      0  \n",
       "238                          0                  0            0      0  \n",
       "239                          0                  0            0      0  \n",
       "240                          0                  0            0      0  \n",
       "241                          0                  0            0      0  \n",
       "242                          0                  0            0      0  \n",
       "243                          0                  0            0      0  \n",
       "244                          0                  0            0      0  \n",
       "245                          0                  0            0      0  \n",
       "246                          0                  0            0      0  \n",
       "247                          0                  0            0      0  \n",
       "248                          0                  0            0      0  \n",
       "249                          0                  0            0      0  "
      ]
     },
     "execution_count": 28,
     "metadata": {},
     "output_type": "execute_result"
    }
   ],
   "source": [
    "train_df[200:250]"
   ]
  },
  {
   "cell_type": "code",
   "execution_count": 29,
   "metadata": {
    "collapsed": false
   },
   "outputs": [
    {
     "data": {
      "text/plain": [
       "(14548, 2079)"
      ]
     },
     "execution_count": 29,
     "metadata": {},
     "output_type": "execute_result"
    }
   ],
   "source": [
    "train = train_df.copy()\n",
    "test = test_df.copy()\n",
    "len(train), len(test)"
   ]
  },
  {
   "cell_type": "markdown",
   "metadata": {},
   "source": [
    "### Fix empty text in the train and test set"
   ]
  },
  {
   "cell_type": "code",
   "execution_count": 30,
   "metadata": {
    "collapsed": false
   },
   "outputs": [
    {
     "data": {
      "text/plain": [
       "(array([], dtype=int64),)"
      ]
     },
     "execution_count": 30,
     "metadata": {},
     "output_type": "execute_result"
    }
   ],
   "source": [
    "np.where(pd.isnull(test['body']))"
   ]
  },
  {
   "cell_type": "code",
   "execution_count": 31,
   "metadata": {
    "collapsed": false
   },
   "outputs": [
    {
     "data": {
      "text/plain": [
       "(array([  623,   911,  3989,  4381,  4642,  7372,  8094,  8422, 11158,\n",
       "        12850, 14060]),)"
      ]
     },
     "execution_count": 31,
     "metadata": {},
     "output_type": "execute_result"
    }
   ],
   "source": [
    "np.where(pd.isnull(train['body']))"
   ]
  },
  {
   "cell_type": "code",
   "execution_count": 32,
   "metadata": {
    "collapsed": false
   },
   "outputs": [
    {
     "data": {
      "text/html": [
       "<div>\n",
       "<style scoped>\n",
       "    .dataframe tbody tr th:only-of-type {\n",
       "        vertical-align: middle;\n",
       "    }\n",
       "\n",
       "    .dataframe tbody tr th {\n",
       "        vertical-align: top;\n",
       "    }\n",
       "\n",
       "    .dataframe thead th {\n",
       "        text-align: right;\n",
       "    }\n",
       "</style>\n",
       "<table border=\"1\" class=\"dataframe\">\n",
       "  <thead>\n",
       "    <tr style=\"text-align: right;\">\n",
       "      <th></th>\n",
       "      <th>isbn</th>\n",
       "      <th>title</th>\n",
       "      <th>body</th>\n",
       "      <th>copyright</th>\n",
       "      <th>authors</th>\n",
       "      <th>published</th>\n",
       "      <th>url</th>\n",
       "      <th>ratgeber</th>\n",
       "      <th>kinderbuch_jugendbuch</th>\n",
       "      <th>literatur_unterhaltung</th>\n",
       "      <th>sachbuch</th>\n",
       "      <th>ganzheitliches bewusstsein</th>\n",
       "      <th>architektur_garten</th>\n",
       "      <th>glaube_ethik</th>\n",
       "      <th>künste</th>\n",
       "    </tr>\n",
       "  </thead>\n",
       "  <tbody>\n",
       "    <tr>\n",
       "      <th>623</th>\n",
       "      <td>9783442158485</td>\n",
       "      <td>Der alte Mann und das Netz</td>\n",
       "      <td>None</td>\n",
       "      <td>(c) Verlagsgruppe Random House GmbH</td>\n",
       "      <td>Christian Humberg</td>\n",
       "      <td>2015-08-17</td>\n",
       "      <td>https://www.randomhouse.de/Taschenbuch/Der-alt...</td>\n",
       "      <td>0</td>\n",
       "      <td>0</td>\n",
       "      <td>0</td>\n",
       "      <td>1</td>\n",
       "      <td>0</td>\n",
       "      <td>0</td>\n",
       "      <td>0</td>\n",
       "      <td>0</td>\n",
       "    </tr>\n",
       "  </tbody>\n",
       "</table>\n",
       "</div>"
      ],
      "text/plain": [
       "              isbn                       title  body  \\\n",
       "623  9783442158485  Der alte Mann und das Netz  None   \n",
       "\n",
       "                               copyright            authors   published  \\\n",
       "623  (c) Verlagsgruppe Random House GmbH  Christian Humberg  2015-08-17   \n",
       "\n",
       "                                                   url ratgeber  \\\n",
       "623  https://www.randomhouse.de/Taschenbuch/Der-alt...        0   \n",
       "\n",
       "    kinderbuch_jugendbuch literatur_unterhaltung sachbuch  \\\n",
       "623                     0                      0        1   \n",
       "\n",
       "    ganzheitliches bewusstsein architektur_garten glaube_ethik künste  \n",
       "623                          0                  0            0      0  "
      ]
     },
     "execution_count": 32,
     "metadata": {},
     "output_type": "execute_result"
    }
   ],
   "source": [
    "train[623:624]"
   ]
  },
  {
   "cell_type": "code",
   "execution_count": 33,
   "metadata": {
    "collapsed": false
   },
   "outputs": [],
   "source": [
    "# Fill empty body with just the title (better results than author+title)\n",
    "train.body = np.where(train.body.isnull(), train.title , train.body)\n",
    "#Fill empty body with the title+authors\n",
    "#train.body = np.where(train.body.isnull(), train.title + ' ' + train.authors, train.body)"
   ]
  },
  {
   "cell_type": "code",
   "execution_count": 34,
   "metadata": {
    "collapsed": false
   },
   "outputs": [
    {
     "data": {
      "text/html": [
       "<div>\n",
       "<style scoped>\n",
       "    .dataframe tbody tr th:only-of-type {\n",
       "        vertical-align: middle;\n",
       "    }\n",
       "\n",
       "    .dataframe tbody tr th {\n",
       "        vertical-align: top;\n",
       "    }\n",
       "\n",
       "    .dataframe thead th {\n",
       "        text-align: right;\n",
       "    }\n",
       "</style>\n",
       "<table border=\"1\" class=\"dataframe\">\n",
       "  <thead>\n",
       "    <tr style=\"text-align: right;\">\n",
       "      <th></th>\n",
       "      <th>isbn</th>\n",
       "      <th>title</th>\n",
       "      <th>body</th>\n",
       "      <th>copyright</th>\n",
       "      <th>authors</th>\n",
       "      <th>published</th>\n",
       "      <th>url</th>\n",
       "      <th>ratgeber</th>\n",
       "      <th>kinderbuch_jugendbuch</th>\n",
       "      <th>literatur_unterhaltung</th>\n",
       "      <th>sachbuch</th>\n",
       "      <th>ganzheitliches bewusstsein</th>\n",
       "      <th>architektur_garten</th>\n",
       "      <th>glaube_ethik</th>\n",
       "      <th>künste</th>\n",
       "    </tr>\n",
       "  </thead>\n",
       "  <tbody>\n",
       "    <tr>\n",
       "      <th>623</th>\n",
       "      <td>9783442158485</td>\n",
       "      <td>Der alte Mann und das Netz</td>\n",
       "      <td>Der alte Mann und das Netz</td>\n",
       "      <td>(c) Verlagsgruppe Random House GmbH</td>\n",
       "      <td>Christian Humberg</td>\n",
       "      <td>2015-08-17</td>\n",
       "      <td>https://www.randomhouse.de/Taschenbuch/Der-alt...</td>\n",
       "      <td>0</td>\n",
       "      <td>0</td>\n",
       "      <td>0</td>\n",
       "      <td>1</td>\n",
       "      <td>0</td>\n",
       "      <td>0</td>\n",
       "      <td>0</td>\n",
       "      <td>0</td>\n",
       "    </tr>\n",
       "  </tbody>\n",
       "</table>\n",
       "</div>"
      ],
      "text/plain": [
       "              isbn                       title                        body  \\\n",
       "623  9783442158485  Der alte Mann und das Netz  Der alte Mann und das Netz   \n",
       "\n",
       "                               copyright            authors   published  \\\n",
       "623  (c) Verlagsgruppe Random House GmbH  Christian Humberg  2015-08-17   \n",
       "\n",
       "                                                   url ratgeber  \\\n",
       "623  https://www.randomhouse.de/Taschenbuch/Der-alt...        0   \n",
       "\n",
       "    kinderbuch_jugendbuch literatur_unterhaltung sachbuch  \\\n",
       "623                     0                      0        1   \n",
       "\n",
       "    ganzheitliches bewusstsein architektur_garten glaube_ethik künste  \n",
       "623                          0                  0            0      0  "
      ]
     },
     "execution_count": 34,
     "metadata": {},
     "output_type": "execute_result"
    }
   ],
   "source": [
    "train[623:624]"
   ]
  },
  {
   "cell_type": "markdown",
   "metadata": {},
   "source": [
    "## Tokenize & Vectorize"
   ]
  },
  {
   "cell_type": "code",
   "execution_count": 462,
   "metadata": {
    "collapsed": true
   },
   "outputs": [],
   "source": [
    "# https://scikit-learn.org/stable/modules/generated/sklearn.feature_extraction.text.TfidfVectorizer.html\n",
    "\n",
    "# analyzer='char': character level; 'char_wb': only in words; 'word' (default): word based\n",
    "# lowercase defaults to True\n",
    "# norm = 'l1'/'l2' (defaults to l2)\n",
    "# smooth_idf: Add \"fake document\" with all 1s (don't use for char?!)\n",
    "# use_idf: inverse-document-frequency reweighting\n",
    "# sublinear_tf: Apply sublinear tf scaling, i.e. replace tf with 1 + log(tf).\n",
    "# binary (defaults to False)\n",
    "# Note: Set use_idf to False and norm to None to get 0/1 outputs.\n",
    "\n",
    "# TF-IDF (Term Frequency - Inverse Document Frequency) Vectorizer\n",
    "# Normalize term counts by taking into account how often they appear in a document,\n",
    "# how long the document is and how common/rare a term is\n",
    "vec = TfidfVectorizer(analyzer='word', ngram_range=(1,1), tokenizer=tokenize_spacy,\n",
    "               min_df=4, max_df=0.4, strip_accents='unicode', use_idf=True,\n",
    "               smooth_idf=True, sublinear_tf=True, lowercase=False, binary=False)\n",
    "\n",
    "# Best: ngram 1,1; 4/0.4; T/T/T; lowercase=False; spacy-word tokenization\n",
    "\n",
    "# C=40.0; dual=False; class_weight='balanced' \n",
    "# For multi-label: limit=0.04"
   ]
  },
  {
   "cell_type": "code",
   "execution_count": 463,
   "metadata": {
    "collapsed": false
   },
   "outputs": [],
   "source": [
    "trn_term_doc = vec.fit_transform(train[TEXT_COLUMN])\n",
    "test_term_doc = vec.transform(test[TEXT_COLUMN])"
   ]
  },
  {
   "cell_type": "code",
   "execution_count": 464,
   "metadata": {
    "collapsed": false
   },
   "outputs": [
    {
     "data": {
      "text/plain": [
       "(<14548x23648 sparse matrix of type '<class 'numpy.float64'>'\n",
       " \twith 865403 stored elements in Compressed Sparse Row format>,\n",
       " <2079x23648 sparse matrix of type '<class 'numpy.float64'>'\n",
       " \twith 123452 stored elements in Compressed Sparse Row format>)"
      ]
     },
     "execution_count": 464,
     "metadata": {},
     "output_type": "execute_result"
    }
   ],
   "source": [
    "trn_term_doc, test_term_doc"
   ]
  },
  {
   "cell_type": "code",
   "execution_count": 509,
   "metadata": {
    "collapsed": true
   },
   "outputs": [],
   "source": [
    "# SAVE\n",
    "scipy.sparse.save_npz('trn_term_doc_level1.npz', trn_term_doc)\n",
    "scipy.sparse.save_npz('test_term_doc_level1.npz', test_term_doc)"
   ]
  },
  {
   "cell_type": "code",
   "execution_count": 511,
   "metadata": {
    "collapsed": false
   },
   "outputs": [],
   "source": [
    "# LOAD - SKIP TO HERE\n",
    "trn_term_doc = scipy.sparse.load_npz('trn_term_doc_level1.npz')\n",
    "test_term_doc = scipy.sparse.load_npz('test_term_doc_level1.npz')"
   ]
  },
  {
   "cell_type": "markdown",
   "metadata": {},
   "source": [
    "## Naive Bayes Logistic Regression"
   ]
  },
  {
   "cell_type": "markdown",
   "metadata": {},
   "source": [
    "### Build the model"
   ]
  },
  {
   "cell_type": "code",
   "execution_count": 512,
   "metadata": {
    "collapsed": true
   },
   "outputs": [],
   "source": [
    "def pr(y_i, y, trn_term_doc):\n",
    "    p = trn_term_doc[y==y_i].sum(0)\n",
    "    return (p+1) / ((y==y_i).sum()+1)"
   ]
  },
  {
   "cell_type": "code",
   "execution_count": 513,
   "metadata": {
    "collapsed": false
   },
   "outputs": [],
   "source": [
    "def get_model(label_values, trn_term_doc):\n",
    "    y = label_values.astype('int') # convert objects to ints\n",
    "    \n",
    "    r = np.log(pr(1,y, trn_term_doc) / pr(0,y, trn_term_doc))\n",
    "    model = LogisticRegression(C=40.0, dual=False, solver='liblinear', multi_class='auto', max_iter=1000,\n",
    "                           penalty='l2', class_weight='balanced', verbose=1)\n",
    "    x_nb = trn_term_doc.multiply(r)\n",
    "    return model.fit(x_nb, y), r # x_nb=training; y=targets"
   ]
  },
  {
   "cell_type": "markdown",
   "metadata": {},
   "source": [
    "### Predictions from the model"
   ]
  },
  {
   "cell_type": "code",
   "execution_count": 514,
   "metadata": {
    "collapsed": false
   },
   "outputs": [
    {
     "name": "stdout",
     "output_type": "stream",
     "text": [
      "Fitting:  ratgeber\n",
      "[LibLinear]Fitting:  kinderbuch_jugendbuch\n",
      "[LibLinear]Fitting:  literatur_unterhaltung\n",
      "[LibLinear]Fitting:  sachbuch\n",
      "[LibLinear]Fitting:  ganzheitliches bewusstsein\n",
      "[LibLinear]Fitting:  architektur_garten\n",
      "[LibLinear]Fitting:  glaube_ethik\n",
      "[LibLinear]Fitting:  künste\n",
      "[LibLinear]"
     ]
    }
   ],
   "source": [
    "preds = np.zeros((len(test), len(label_ids)))\n",
    "\n",
    "for index, label_id in enumerate(label_ids):\n",
    "    label_values = train[label_id].values\n",
    "    print('Fitting: ', label_id)\n",
    "    m,r = get_model(label_values, trn_term_doc)\n",
    "    preds[:,index] = m.predict_proba(test_term_doc.multiply(r))[:,1] # why all rows, first column?!"
   ]
  },
  {
   "cell_type": "code",
   "execution_count": 515,
   "metadata": {
    "collapsed": false
   },
   "outputs": [
    {
     "data": {
      "text/plain": [
       "array([  4.10145004e-02,   8.96660999e-02,   1.50870231e-02,\n",
       "         5.08189619e-04,   4.82644210e-03,   1.25780924e-03,\n",
       "         9.99994847e-01,   3.10462204e-03])"
      ]
     },
     "execution_count": 515,
     "metadata": {},
     "output_type": "execute_result"
    }
   ],
   "source": [
    "preds[0,:]"
   ]
  },
  {
   "cell_type": "markdown",
   "metadata": {},
   "source": [
    "## Write Submission File"
   ]
  },
  {
   "cell_type": "markdown",
   "metadata": {},
   "source": [
    "### Get answers"
   ]
  },
  {
   "cell_type": "code",
   "execution_count": 516,
   "metadata": {
    "collapsed": false
   },
   "outputs": [],
   "source": [
    "# Given preds and corresponding labels, produce an answer-file of format isbn <TAB> label\n",
    "# The best default-value for for the limit has been empirically found (0.08)\n",
    "# The default max_labels is 2, that is find up to two different labels\n",
    "def answers_from_preds_multi(preds, labels, limit=0.08, max_labels=2):\n",
    "  label_column_strings = labels\n",
    "  test_isbn_df = test['isbn']\n",
    "  isbn_list = list(test_isbn_df)\n",
    "  answers_list = []\n",
    "  for index, item in enumerate(preds):\n",
    "    #max_index = np.argmax(item)\n",
    "    \n",
    "    # Sort probabilities from highest to lowest, since there were no examples with more than\n",
    "    # three categories in the provided data, we'll stop there\n",
    "    sorted_indexes = (-item).argsort()\n",
    "    index_first = sorted_indexes[0]\n",
    "    index_second = sorted_indexes[1]\n",
    "    index_third = sorted_indexes[2]\n",
    "    \n",
    "    max_index = index_first\n",
    "    \n",
    "    # TODO: refactor\n",
    "    # Multi-label \n",
    "    if(max_labels > 1 and (item[index_first] - item[index_second]) < limit):\n",
    "      label_first = label_column_strings[index_first]\n",
    "      label_first = [label_first] + find_previous_labels(label_first)\n",
    "\n",
    "      label_second = label_column_strings[index_second]\n",
    "      label_second = [label_second] + find_previous_labels(label_second)\n",
    "      ls = label_first + label_second\n",
    "    \n",
    "      if(max_labels > 2 and (item[index_second] - item[index_third]) < 0.005):\n",
    "        label_third = label_column_strings[index_third]\n",
    "        ls.append(label_third)\n",
    "    else:\n",
    "      label_first = label_column_strings[max_index]\n",
    "      label_first = [label_first] + find_previous_labels(label_first)\n",
    "      ls = label_first\n",
    "    isbn = isbn_list[index]\n",
    "    answers_list += [[isbn, ls]]\n",
    "  return answers_list # this is a list of lists to keep the order, in python 3.7+ a dict can be used"
   ]
  },
  {
   "cell_type": "code",
   "execution_count": 517,
   "metadata": {
    "collapsed": false
   },
   "outputs": [],
   "source": [
    "answers_list = answers_from_preds_multi(preds, labels)"
   ]
  },
  {
   "cell_type": "code",
   "execution_count": 518,
   "metadata": {
    "collapsed": false
   },
   "outputs": [],
   "source": [
    "# TODO: refactor\n",
    "def answers_list_to_file(answers_list):\n",
    "  answers = ''\n",
    "\n",
    "  for item in answers_list:\n",
    "    isbn = item[0]\n",
    "    labels_level1 = item[1]\n",
    "    if(len(item) == 3):\n",
    "      labels_level2 = item[2]\n",
    "      answers += isbn + '\\t' + '\\t'.join(labels_level1) + '\\t' + '\\t'.join(labels_level2) + '\\n'\n",
    "    elif(len(item) == 4):\n",
    "      labels_level2 = item[2]\n",
    "      labels_level3_nested = item[3] # can be a list of lists or a list\n",
    "      # flatten if list of lists\n",
    "      if(isinstance(labels_level3_nested[0], list)):\n",
    "        labels_level3 = [item for sublist in labels_level3_nested for item in sublist] # flatten the list\n",
    "      answers += isbn + '\\t' + '\\t'.join(labels_level1) + '\\t' + '\\t'.join(labels_level2) + '\\t' + '\\t'.join(labels_level3) + '\\n'\n",
    "    else:\n",
    "      answers += isbn + '\\t' + '\\t'.join(labels_level1) + '\\n'\n",
    "  return answers[:-1] # Remove trailing \\n"
   ]
  },
  {
   "cell_type": "code",
   "execution_count": 519,
   "metadata": {
    "collapsed": false
   },
   "outputs": [],
   "source": [
    "answers_taskA = answers_list_to_file(answers_list)"
   ]
  },
  {
   "cell_type": "code",
   "execution_count": 520,
   "metadata": {
    "collapsed": true
   },
   "outputs": [],
   "source": [
    "answers_taskB = answers_list_to_file(answers_list) # dummy that just takes subtask a results for subtask b"
   ]
  },
  {
   "cell_type": "code",
   "execution_count": 521,
   "metadata": {
    "collapsed": true
   },
   "outputs": [],
   "source": [
    "write_answerfile(answers_taskA, answers_taskB)"
   ]
  },
  {
   "cell_type": "code",
   "execution_count": 522,
   "metadata": {
    "collapsed": true
   },
   "outputs": [],
   "source": [
    "elapsed_first = timeit.default_timer() - start_time"
   ]
  },
  {
   "cell_type": "markdown",
   "metadata": {},
   "source": [
    "## Subtask B (level 2)"
   ]
  },
  {
   "cell_type": "markdown",
   "metadata": {},
   "source": [
    "### Level 2 Setup"
   ]
  },
  {
   "cell_type": "code",
   "execution_count": 476,
   "metadata": {
    "collapsed": false
   },
   "outputs": [],
   "source": [
    "train_df_level2, test_df_level2 = get_train_test(label_ids_level2, depth=1)"
   ]
  },
  {
   "cell_type": "code",
   "execution_count": 477,
   "metadata": {
    "collapsed": false
   },
   "outputs": [
    {
     "data": {
      "text/html": [
       "<div>\n",
       "<style scoped>\n",
       "    .dataframe tbody tr th:only-of-type {\n",
       "        vertical-align: middle;\n",
       "    }\n",
       "\n",
       "    .dataframe tbody tr th {\n",
       "        vertical-align: top;\n",
       "    }\n",
       "\n",
       "    .dataframe thead th {\n",
       "        text-align: right;\n",
       "    }\n",
       "</style>\n",
       "<table border=\"1\" class=\"dataframe\">\n",
       "  <thead>\n",
       "    <tr style=\"text-align: right;\">\n",
       "      <th></th>\n",
       "      <th>isbn</th>\n",
       "      <th>title</th>\n",
       "      <th>body</th>\n",
       "      <th>copyright</th>\n",
       "      <th>authors</th>\n",
       "      <th>published</th>\n",
       "      <th>url</th>\n",
       "      <th>eltern_familie</th>\n",
       "      <th>echtes leben_realistischer roman</th>\n",
       "      <th>abenteuer</th>\n",
       "      <th>...</th>\n",
       "      <th>esoterische romane</th>\n",
       "      <th>schicksalsdeutung</th>\n",
       "      <th>religionsunterricht</th>\n",
       "      <th>religiöse literatur</th>\n",
       "      <th>geld_investment</th>\n",
       "      <th>sportgeschichten</th>\n",
       "      <th>religion_glaube_ethik_philosophie</th>\n",
       "      <th>recht_steuern</th>\n",
       "      <th>handwerk holz</th>\n",
       "      <th>regionalia</th>\n",
       "    </tr>\n",
       "  </thead>\n",
       "  <tbody>\n",
       "    <tr>\n",
       "      <th>0</th>\n",
       "      <td>9783641136291</td>\n",
       "      <td>Die Klinik</td>\n",
       "      <td>Ein Blick hinter die Kulissen eines Krankenhau...</td>\n",
       "      <td>(c) Verlagsgruppe Random House GmbH</td>\n",
       "      <td>Noah Gordon</td>\n",
       "      <td>2013-12-02</td>\n",
       "      <td>https://www.randomhouse.de/ebook/Die-Klinik/No...</td>\n",
       "      <td>0</td>\n",
       "      <td>0</td>\n",
       "      <td>0</td>\n",
       "      <td>...</td>\n",
       "      <td>0</td>\n",
       "      <td>0</td>\n",
       "      <td>0</td>\n",
       "      <td>0</td>\n",
       "      <td>0</td>\n",
       "      <td>0</td>\n",
       "      <td>0</td>\n",
       "      <td>0</td>\n",
       "      <td>0</td>\n",
       "      <td>0</td>\n",
       "    </tr>\n",
       "    <tr>\n",
       "      <th>1</th>\n",
       "      <td>9783641185787</td>\n",
       "      <td>Die Erben von Midkemia 4</td>\n",
       "      <td>Die Bedrohungen für Midkemia und Kelewan wolle...</td>\n",
       "      <td>(c) Verlagsgruppe Random House GmbH</td>\n",
       "      <td>Raymond Feist</td>\n",
       "      <td>2016-06-20</td>\n",
       "      <td>https://www.randomhouse.de/ebook/Die-Erben-von...</td>\n",
       "      <td>0</td>\n",
       "      <td>0</td>\n",
       "      <td>0</td>\n",
       "      <td>...</td>\n",
       "      <td>0</td>\n",
       "      <td>0</td>\n",
       "      <td>0</td>\n",
       "      <td>0</td>\n",
       "      <td>0</td>\n",
       "      <td>0</td>\n",
       "      <td>0</td>\n",
       "      <td>0</td>\n",
       "      <td>0</td>\n",
       "      <td>0</td>\n",
       "    </tr>\n",
       "    <tr>\n",
       "      <th>2</th>\n",
       "      <td>9783328103646</td>\n",
       "      <td>Völlig losgelöst</td>\n",
       "      <td>In der Dreizimmerwohnung stapeln sich Flohmark...</td>\n",
       "      <td>(c) Verlagsgruppe Random House GmbH</td>\n",
       "      <td>Susanne Weingarten</td>\n",
       "      <td>2019-01-14</td>\n",
       "      <td>https://www.randomhouse.de/Taschenbuch/Voellig...</td>\n",
       "      <td>0</td>\n",
       "      <td>0</td>\n",
       "      <td>0</td>\n",
       "      <td>...</td>\n",
       "      <td>0</td>\n",
       "      <td>0</td>\n",
       "      <td>0</td>\n",
       "      <td>0</td>\n",
       "      <td>0</td>\n",
       "      <td>0</td>\n",
       "      <td>0</td>\n",
       "      <td>0</td>\n",
       "      <td>0</td>\n",
       "      <td>0</td>\n",
       "    </tr>\n",
       "    <tr>\n",
       "      <th>3</th>\n",
       "      <td>9783453357792</td>\n",
       "      <td>Dich erfüllen</td>\n",
       "      <td>An der Seite von Damien fühlt sich Nikki zum e...</td>\n",
       "      <td>(c) Verlagsgruppe Random House GmbH</td>\n",
       "      <td>J. Kenner</td>\n",
       "      <td>2014-04-14</td>\n",
       "      <td>https://www.randomhouse.de/Taschenbuch/Dich-er...</td>\n",
       "      <td>0</td>\n",
       "      <td>0</td>\n",
       "      <td>0</td>\n",
       "      <td>...</td>\n",
       "      <td>0</td>\n",
       "      <td>0</td>\n",
       "      <td>0</td>\n",
       "      <td>0</td>\n",
       "      <td>0</td>\n",
       "      <td>0</td>\n",
       "      <td>0</td>\n",
       "      <td>0</td>\n",
       "      <td>0</td>\n",
       "      <td>0</td>\n",
       "    </tr>\n",
       "    <tr>\n",
       "      <th>4</th>\n",
       "      <td>9783844504958</td>\n",
       "      <td>Der Orientzyklus</td>\n",
       "      <td>Wer Kara Ben Nemsi, Hadschi Halef Omar und Sir...</td>\n",
       "      <td>(c) Verlagsgruppe Random House GmbH</td>\n",
       "      <td>Karl May</td>\n",
       "      <td>2007-08-13</td>\n",
       "      <td>https://www.randomhouse.de/Hoerbuch-Download/D...</td>\n",
       "      <td>0</td>\n",
       "      <td>0</td>\n",
       "      <td>0</td>\n",
       "      <td>...</td>\n",
       "      <td>0</td>\n",
       "      <td>0</td>\n",
       "      <td>0</td>\n",
       "      <td>0</td>\n",
       "      <td>0</td>\n",
       "      <td>0</td>\n",
       "      <td>0</td>\n",
       "      <td>0</td>\n",
       "      <td>0</td>\n",
       "      <td>0</td>\n",
       "    </tr>\n",
       "  </tbody>\n",
       "</table>\n",
       "<p>5 rows × 100 columns</p>\n",
       "</div>"
      ],
      "text/plain": [
       "            isbn                     title  \\\n",
       "0  9783641136291                Die Klinik   \n",
       "1  9783641185787  Die Erben von Midkemia 4   \n",
       "2  9783328103646          Völlig losgelöst   \n",
       "3  9783453357792             Dich erfüllen   \n",
       "4  9783844504958          Der Orientzyklus   \n",
       "\n",
       "                                                body  \\\n",
       "0  Ein Blick hinter die Kulissen eines Krankenhau...   \n",
       "1  Die Bedrohungen für Midkemia und Kelewan wolle...   \n",
       "2  In der Dreizimmerwohnung stapeln sich Flohmark...   \n",
       "3  An der Seite von Damien fühlt sich Nikki zum e...   \n",
       "4  Wer Kara Ben Nemsi, Hadschi Halef Omar und Sir...   \n",
       "\n",
       "                             copyright             authors   published  \\\n",
       "0  (c) Verlagsgruppe Random House GmbH         Noah Gordon  2013-12-02   \n",
       "1  (c) Verlagsgruppe Random House GmbH       Raymond Feist  2016-06-20   \n",
       "2  (c) Verlagsgruppe Random House GmbH  Susanne Weingarten  2019-01-14   \n",
       "3  (c) Verlagsgruppe Random House GmbH           J. Kenner  2014-04-14   \n",
       "4  (c) Verlagsgruppe Random House GmbH            Karl May  2007-08-13   \n",
       "\n",
       "                                                 url eltern_familie  \\\n",
       "0  https://www.randomhouse.de/ebook/Die-Klinik/No...              0   \n",
       "1  https://www.randomhouse.de/ebook/Die-Erben-von...              0   \n",
       "2  https://www.randomhouse.de/Taschenbuch/Voellig...              0   \n",
       "3  https://www.randomhouse.de/Taschenbuch/Dich-er...              0   \n",
       "4  https://www.randomhouse.de/Hoerbuch-Download/D...              0   \n",
       "\n",
       "  echtes leben_realistischer roman abenteuer    ...     esoterische romane  \\\n",
       "0                                0         0    ...                      0   \n",
       "1                                0         0    ...                      0   \n",
       "2                                0         0    ...                      0   \n",
       "3                                0         0    ...                      0   \n",
       "4                                0         0    ...                      0   \n",
       "\n",
       "  schicksalsdeutung religionsunterricht religiöse literatur geld_investment  \\\n",
       "0                 0                   0                   0               0   \n",
       "1                 0                   0                   0               0   \n",
       "2                 0                   0                   0               0   \n",
       "3                 0                   0                   0               0   \n",
       "4                 0                   0                   0               0   \n",
       "\n",
       "  sportgeschichten religion_glaube_ethik_philosophie recht_steuern  \\\n",
       "0                0                                 0             0   \n",
       "1                0                                 0             0   \n",
       "2                0                                 0             0   \n",
       "3                0                                 0             0   \n",
       "4                0                                 0             0   \n",
       "\n",
       "  handwerk holz regionalia  \n",
       "0             0          0  \n",
       "1             0          0  \n",
       "2             0          0  \n",
       "3             0          0  \n",
       "4             0          0  \n",
       "\n",
       "[5 rows x 100 columns]"
      ]
     },
     "execution_count": 477,
     "metadata": {},
     "output_type": "execute_result"
    }
   ],
   "source": [
    "train_df_level2.head()"
   ]
  },
  {
   "cell_type": "code",
   "execution_count": 478,
   "metadata": {
    "collapsed": false
   },
   "outputs": [
    {
     "data": {
      "text/plain": [
       "(14548, 2079)"
      ]
     },
     "execution_count": 478,
     "metadata": {},
     "output_type": "execute_result"
    }
   ],
   "source": [
    "train2 = train_df_level2.copy()\n",
    "test2 = test_df_level2.copy()\n",
    "len(train2), len(test2)"
   ]
  },
  {
   "cell_type": "code",
   "execution_count": 479,
   "metadata": {
    "collapsed": false
   },
   "outputs": [
    {
     "data": {
      "text/plain": [
       "(array([], dtype=int64),)"
      ]
     },
     "execution_count": 479,
     "metadata": {},
     "output_type": "execute_result"
    }
   ],
   "source": [
    "np.where(pd.isnull(test2['body']))"
   ]
  },
  {
   "cell_type": "code",
   "execution_count": 480,
   "metadata": {
    "collapsed": false
   },
   "outputs": [
    {
     "data": {
      "text/plain": [
       "(array([  623,   911,  3989,  4381,  4642,  7372,  8094,  8422, 11158,\n",
       "        12850, 14060]),)"
      ]
     },
     "execution_count": 480,
     "metadata": {},
     "output_type": "execute_result"
    }
   ],
   "source": [
    "np.where(pd.isnull(train2['body']))"
   ]
  },
  {
   "cell_type": "code",
   "execution_count": 481,
   "metadata": {
    "collapsed": true
   },
   "outputs": [],
   "source": [
    "# Fill empty body with just the title (better results than author+title)\n",
    "train2.body = np.where(train2.body.isnull(), train2.title , train2.body)"
   ]
  },
  {
   "cell_type": "code",
   "execution_count": 482,
   "metadata": {
    "collapsed": false
   },
   "outputs": [],
   "source": [
    "trn_term_doc_level2 = vec.fit_transform(train2[TEXT_COLUMN])\n",
    "test_term_doc_level2 = vec.transform(test2[TEXT_COLUMN])"
   ]
  },
  {
   "cell_type": "code",
   "execution_count": 483,
   "metadata": {
    "collapsed": false
   },
   "outputs": [
    {
     "data": {
      "text/plain": [
       "(<14548x23648 sparse matrix of type '<class 'numpy.float64'>'\n",
       " \twith 865403 stored elements in Compressed Sparse Row format>,\n",
       " <2079x23648 sparse matrix of type '<class 'numpy.float64'>'\n",
       " \twith 123452 stored elements in Compressed Sparse Row format>)"
      ]
     },
     "execution_count": 483,
     "metadata": {},
     "output_type": "execute_result"
    }
   ],
   "source": [
    "trn_term_doc_level2, test_term_doc_level2"
   ]
  },
  {
   "cell_type": "code",
   "execution_count": 523,
   "metadata": {
    "collapsed": true
   },
   "outputs": [],
   "source": [
    "# SAVE\n",
    "scipy.sparse.save_npz('trn_term_doc_level2.npz', trn_term_doc_level2)\n",
    "scipy.sparse.save_npz('test_term_doc_level2.npz', test_term_doc_level2)"
   ]
  },
  {
   "cell_type": "code",
   "execution_count": 524,
   "metadata": {
    "collapsed": true
   },
   "outputs": [],
   "source": [
    "# LOAD - SKIP TO HERE\n",
    "trn_term_doc_level2 = scipy.sparse.load_npz('trn_term_doc_level2.npz')\n",
    "test_term_doc_level2 = scipy.sparse.load_npz('test_term_doc_level2.npz')"
   ]
  },
  {
   "cell_type": "code",
   "execution_count": 484,
   "metadata": {
    "collapsed": false
   },
   "outputs": [
    {
     "name": "stdout",
     "output_type": "stream",
     "text": [
      "Fitting:  eltern_familie\n",
      "[LibLinear]Fitting:  echtes leben_realistischer roman\n",
      "[LibLinear]Fitting:  abenteuer\n",
      "[LibLinear]Fitting:  märchen_sagen\n",
      "[LibLinear]Fitting:  lyrik_anthologien_jahrbücher\n",
      "[LibLinear]Fitting:  frauenunterhaltung\n",
      "[LibLinear]Fitting:  fantasy\n",
      "[LibLinear]Fitting:  kommunikation_beruf\n",
      "[LibLinear]Fitting:  lebenshilfe_psychologie\n",
      "[LibLinear]Fitting:  krimi_thriller\n",
      "[LibLinear]Fitting:  freizeit_hobby\n",
      "[LibLinear]Fitting:  liebe_beziehung_freundschaft\n",
      "[LibLinear]Fitting:  familie\n",
      "[LibLinear]Fitting:  natur_wissenschaft_technik\n",
      "[LibLinear]Fitting:  fantasy_science fiction\n",
      "[LibLinear]Fitting:  geister_gruselgeschichten\n",
      "[LibLinear]Fitting:  schicksalsberichte\n",
      "[LibLinear]Fitting:  romane_erzählungen\n",
      "[LibLinear]Fitting:  science fiction\n",
      "[LibLinear]Fitting:  politik_gesellschaft\n",
      "[LibLinear]Fitting:  ganzheitliche psychologie\n",
      "[LibLinear]Fitting:  natur_tiere_umwelt_mensch\n",
      "[LibLinear]Fitting:  psychologie\n",
      "[LibLinear]Fitting:  lifestyle\n",
      "[LibLinear]Fitting:  sport\n",
      "[LibLinear]Fitting:  lebensgestaltung\n",
      "[LibLinear]Fitting:  essen_trinken\n",
      "[LibLinear]Fitting:  gesundheit_ernährung\n",
      "[LibLinear]Fitting:  kunst_musik\n",
      "[LibLinear]Fitting:  architektur\n",
      "[LibLinear]Fitting:  biographien_autobiographien\n",
      "[LibLinear]Fitting:  romance\n",
      "[LibLinear]Fitting:  briefe_essays_gespräche\n",
      "[LibLinear]Fitting:  kabarett_satire\n",
      "[LibLinear]Fitting:  krimis_thriller\n",
      "[LibLinear]Fitting:  erotik\n",
      "[LibLinear]Fitting:  historische romane\n",
      "[LibLinear]Fitting:  theologie\n",
      "[LibLinear]Fitting:  beschäftigung_malen_rätseln\n",
      "[LibLinear]Fitting:  schulgeschichten\n",
      "[LibLinear]Fitting:  biographien\n",
      "[LibLinear]Fitting:  kunst\n",
      "[LibLinear]Fitting:  zeit geschichte\n",
      "[LibLinear]Fitting:  ganzheitlich leben\n",
      "[LibLinear]Fitting:  garten_landschaftsarchitektur\n",
      "[LibLinear]Fitting:  körper_seele\n",
      "[LibLinear]Fitting:  energieheilung\n",
      "[LibLinear]Fitting:  abenteuer_reisen_fremde kulturen\n",
      "[LibLinear]Fitting:  historische romane_zeitgeschichte\n",
      "[LibLinear]Fitting:  klassiker_lyrik\n",
      "[LibLinear]Fitting:  fotografie\n",
      "[LibLinear]Fitting:  design\n",
      "[LibLinear]Fitting:  beauty_wellness\n",
      "[LibLinear]Fitting:  kunst_kultur\n",
      "[LibLinear]Fitting:  mystery\n",
      "[LibLinear]Fitting:  ratgeber partnerschaft_sexualität\n",
      "[LibLinear]Fitting:  detektivgeschichten\n",
      "[LibLinear]Fitting:  spiritualität_religion\n",
      "[LibLinear]Fitting:  sachbuch philosophie\n",
      "[LibLinear]Fitting:  tiergeschichten\n",
      "[LibLinear]Fitting:  horror\n",
      "[LibLinear]Fitting:  literatur_unterhaltung satire\n",
      "[LibLinear]Fitting:  infotainment_erzählendes sachbuch\n",
      "[LibLinear]Fitting:  fitness_sport\n",
      "[LibLinear]Fitting:  übernatürliches\n",
      "[LibLinear]Fitting:  psychologie_spiritualität\n",
      "[LibLinear]Fitting:  handwerk farbe\n",
      "[LibLinear]Fitting:  weisheiten der welt\n",
      "[LibLinear]Fitting:  naturheilweisen\n",
      "[LibLinear]Fitting:  lustige geschichten_witze\n",
      "[LibLinear]Fitting:  wissen_nachschlagewerke\n",
      "[LibLinear]Fitting:  sterben_tod_trauer\n",
      "[LibLinear]Fitting:  romantasy\n",
      "[LibLinear]Fitting:  wirtschaft_recht\n",
      "[LibLinear]Fitting:  comic_cartoon\n",
      "[LibLinear]Fitting:  schullektüre\n",
      "[LibLinear]Fitting:  glaube_grenzerfahrungen\n",
      "[LibLinear]Fitting:  mode_lifestyle\n",
      "[LibLinear]Fitting:  mondkräfte\n",
      "[LibLinear]Fitting:  musik\n",
      "[LibLinear]Fitting:  geschichte_politik\n",
      "[LibLinear]Fitting:  gemeindearbeit\n",
      "[LibLinear]Fitting:  wohnen_innenarchitektur\n",
      "[LibLinear]Fitting:  esoterische romane\n",
      "[LibLinear]Fitting:  schicksalsdeutung\n",
      "[LibLinear]Fitting:  religionsunterricht\n",
      "[LibLinear]Fitting:  religiöse literatur\n",
      "[LibLinear]Fitting:  geld_investment\n",
      "[LibLinear]Fitting:  sportgeschichten\n",
      "[LibLinear]Fitting:  religion_glaube_ethik_philosophie\n",
      "[LibLinear]Fitting:  recht_steuern\n",
      "[LibLinear]Fitting:  handwerk holz\n",
      "[LibLinear]Fitting:  regionalia\n",
      "[LibLinear]"
     ]
    }
   ],
   "source": [
    "preds_level2 = np.zeros((len(test), len(label_ids_level2)))\n",
    "\n",
    "for index, label_id in enumerate(label_ids_level2):\n",
    "    label_values = train2[label_id].values\n",
    "    print('Fitting: ', label_id)\n",
    "    m,r = get_model(label_values, trn_term_doc_level2)\n",
    "    preds_level2[:,index] = m.predict_proba(test_term_doc_level2.multiply(r))[:,1] # why all rows, first column?!"
   ]
  },
  {
   "cell_type": "code",
   "execution_count": 486,
   "metadata": {
    "collapsed": false
   },
   "outputs": [
    {
     "data": {
      "text/plain": [
       "(2079, 93)"
      ]
     },
     "execution_count": 486,
     "metadata": {},
     "output_type": "execute_result"
    }
   ],
   "source": [
    "len(preds_level2), len(preds_level2[0,:]) # 2079 elements, 93 classes"
   ]
  },
  {
   "cell_type": "markdown",
   "metadata": {},
   "source": [
    "### Level 2 predictions"
   ]
  },
  {
   "cell_type": "code",
   "execution_count": 487,
   "metadata": {
    "collapsed": false
   },
   "outputs": [],
   "source": [
    "# Takes predictions and corresponding labels (of same length and order)\n",
    "# and a target list and returns a list of lists, each item has the format [label, probability]\n",
    "# The labels have to be in a specified target_list\n",
    "def get_nextlevel_preds(preds, labels, target_list):\n",
    "  if(len(preds) != len(labels)):\n",
    "    raise Exception('The length of the predictions and the corresponding labels should be the same!')\n",
    "  new_list = []\n",
    "  for index, item in enumerate(labels):\n",
    "    if item in target_list:\n",
    "      new_list.append([labels[index], preds[index]])\n",
    "  return new_list"
   ]
  },
  {
   "cell_type": "code",
   "execution_count": 488,
   "metadata": {
    "collapsed": false
   },
   "outputs": [],
   "source": [
    "# Takes a list of lists, each item has the format [label, probability]\n",
    "# Returns a list of the format [label, probability] that contains the label with the highest probability\n",
    "def get_max_from_list(list, cutoff=0.0):\n",
    "  max = 0\n",
    "  l = ''\n",
    "    \n",
    "  for item in list:\n",
    "    label = item[0]\n",
    "    probability = item[1]\n",
    "    if probability > max:\n",
    "        max = probability\n",
    "        l = label\n",
    "  if(max > cutoff):\n",
    "    return l, max\n",
    "  else:\n",
    "    return ()\n",
    "\n",
    "# Takes a list of lists, each item has the format [label, probability]\n",
    "# Returns a list of lists containing all items that meet the cutoff. The items have the format [label, probability]\n",
    "def get_max_from_list_multi(list, cutoff=1.0):\n",
    "  items = []\n",
    "  for item in list:\n",
    "    label = item[0]\n",
    "    probability = item[1]\n",
    "    if probability > cutoff:\n",
    "      items.append(label)\n",
    "  return items"
   ]
  },
  {
   "cell_type": "code",
   "execution_count": 489,
   "metadata": {
    "collapsed": false
   },
   "outputs": [],
   "source": [
    "# Iterate over all level 1 classifications and get the level 2 label with\n",
    "# the highest probability, but only if it is in the hirarchy that corresponds to the label from level 1\n",
    "def new_answers(answers_list, cutoff=0.0):\n",
    "    new_ansers_list = []\n",
    "    \n",
    "    for index, item in enumerate(answers_list):\n",
    "      new_label_strings = []\n",
    "\n",
    "      isbn = item[0]\n",
    "      labels_level1 = item[1] #  can contain one or two labels\n",
    "\n",
    "      labels_next = find_next_level(labels_level1[0])\n",
    "      new_labels = get_nextlevel_preds(preds_level2[index],labels_level2,labels_next) \n",
    "      # Get the label with the highest probability\n",
    "      # Format: [label, probability]\n",
    "      max_label = get_max_from_list(new_labels, cutoff=cutoff)\n",
    "\n",
    "      if(max_label != ()):\n",
    "        new_label_strings.append(max_label[0])\n",
    "\n",
    "      # Add extra level 2 labels if level 1 had two labels\n",
    "      # TODO: refactor\n",
    "      if(len(labels_level1) == 2):\n",
    "        labels_next2 = find_next_level(labels_level1[1])    \n",
    "        new_labels2 = get_nextlevel_preds(preds_level2[index],labels_level2,labels_next2)\n",
    "        max_label2 = get_max_from_list(new_labels2, cutoff=cutoff)\n",
    "        \n",
    "        if(max_label2 != ()):\n",
    "          new_label_strings.append(max_label2[0])\n",
    "\n",
    "      new_entry = [isbn, labels_level1, new_label_strings]\n",
    "      new_ansers_list.append(new_entry)\n",
    "    return new_ansers_list"
   ]
  },
  {
   "cell_type": "markdown",
   "metadata": {},
   "source": [
    "### Write output file"
   ]
  },
  {
   "cell_type": "code",
   "execution_count": 490,
   "metadata": {
    "collapsed": false
   },
   "outputs": [],
   "source": [
    "answers_list2 = new_answers(answers_list, cutoff=0.09)"
   ]
  },
  {
   "cell_type": "code",
   "execution_count": 491,
   "metadata": {
    "collapsed": false
   },
   "outputs": [],
   "source": [
    "answers_taskB = answers_list_to_file(answers_list2)"
   ]
  },
  {
   "cell_type": "code",
   "execution_count": 492,
   "metadata": {
    "collapsed": true
   },
   "outputs": [],
   "source": [
    "write_answerfile(answers_taskA, answers_taskB)"
   ]
  },
  {
   "cell_type": "code",
   "execution_count": 493,
   "metadata": {
    "collapsed": true
   },
   "outputs": [],
   "source": [
    "elapsed_second = timeit.default_timer() - start_time"
   ]
  },
  {
   "cell_type": "markdown",
   "metadata": {},
   "source": [
    "## Subtask B (level 3)"
   ]
  },
  {
   "cell_type": "markdown",
   "metadata": {},
   "source": [
    "### Level 3 Setup"
   ]
  },
  {
   "cell_type": "code",
   "execution_count": 494,
   "metadata": {
    "collapsed": true
   },
   "outputs": [],
   "source": [
    "# Depth level 3\n",
    "train_df_level3, test_df_level3 = get_train_test(label_ids_level3, depth=2)"
   ]
  },
  {
   "cell_type": "code",
   "execution_count": 495,
   "metadata": {
    "collapsed": false
   },
   "outputs": [
    {
     "data": {
      "text/html": [
       "<div>\n",
       "<style scoped>\n",
       "    .dataframe tbody tr th:only-of-type {\n",
       "        vertical-align: middle;\n",
       "    }\n",
       "\n",
       "    .dataframe tbody tr th {\n",
       "        vertical-align: top;\n",
       "    }\n",
       "\n",
       "    .dataframe thead th {\n",
       "        text-align: right;\n",
       "    }\n",
       "</style>\n",
       "<table border=\"1\" class=\"dataframe\">\n",
       "  <thead>\n",
       "    <tr style=\"text-align: right;\">\n",
       "      <th></th>\n",
       "      <th>isbn</th>\n",
       "      <th>title</th>\n",
       "      <th>body</th>\n",
       "      <th>copyright</th>\n",
       "      <th>authors</th>\n",
       "      <th>published</th>\n",
       "      <th>url</th>\n",
       "      <th>vornamen</th>\n",
       "      <th>heroische fantasy</th>\n",
       "      <th>joballtag_karriere</th>\n",
       "      <th>...</th>\n",
       "      <th>philosophie</th>\n",
       "      <th>tarot</th>\n",
       "      <th>systemische therapie_familienaufstellung</th>\n",
       "      <th>bauaufgaben</th>\n",
       "      <th>griechische literatur</th>\n",
       "      <th>gartendesigner</th>\n",
       "      <th>urgeschichte</th>\n",
       "      <th>reden_glückwünsche</th>\n",
       "      <th>antiquitäten</th>\n",
       "      <th>theater_ballett</th>\n",
       "    </tr>\n",
       "  </thead>\n",
       "  <tbody>\n",
       "    <tr>\n",
       "      <th>0</th>\n",
       "      <td>9783641136291</td>\n",
       "      <td>Die Klinik</td>\n",
       "      <td>Ein Blick hinter die Kulissen eines Krankenhau...</td>\n",
       "      <td>(c) Verlagsgruppe Random House GmbH</td>\n",
       "      <td>Noah Gordon</td>\n",
       "      <td>2013-12-02</td>\n",
       "      <td>https://www.randomhouse.de/ebook/Die-Klinik/No...</td>\n",
       "      <td>0</td>\n",
       "      <td>0</td>\n",
       "      <td>0</td>\n",
       "      <td>...</td>\n",
       "      <td>0</td>\n",
       "      <td>0</td>\n",
       "      <td>0</td>\n",
       "      <td>0</td>\n",
       "      <td>0</td>\n",
       "      <td>0</td>\n",
       "      <td>0</td>\n",
       "      <td>0</td>\n",
       "      <td>0</td>\n",
       "      <td>0</td>\n",
       "    </tr>\n",
       "    <tr>\n",
       "      <th>1</th>\n",
       "      <td>9783641185787</td>\n",
       "      <td>Die Erben von Midkemia 4</td>\n",
       "      <td>Die Bedrohungen für Midkemia und Kelewan wolle...</td>\n",
       "      <td>(c) Verlagsgruppe Random House GmbH</td>\n",
       "      <td>Raymond Feist</td>\n",
       "      <td>2016-06-20</td>\n",
       "      <td>https://www.randomhouse.de/ebook/Die-Erben-von...</td>\n",
       "      <td>0</td>\n",
       "      <td>1</td>\n",
       "      <td>0</td>\n",
       "      <td>...</td>\n",
       "      <td>0</td>\n",
       "      <td>0</td>\n",
       "      <td>0</td>\n",
       "      <td>0</td>\n",
       "      <td>0</td>\n",
       "      <td>0</td>\n",
       "      <td>0</td>\n",
       "      <td>0</td>\n",
       "      <td>0</td>\n",
       "      <td>0</td>\n",
       "    </tr>\n",
       "    <tr>\n",
       "      <th>2</th>\n",
       "      <td>9783328103646</td>\n",
       "      <td>Völlig losgelöst</td>\n",
       "      <td>In der Dreizimmerwohnung stapeln sich Flohmark...</td>\n",
       "      <td>(c) Verlagsgruppe Random House GmbH</td>\n",
       "      <td>Susanne Weingarten</td>\n",
       "      <td>2019-01-14</td>\n",
       "      <td>https://www.randomhouse.de/Taschenbuch/Voellig...</td>\n",
       "      <td>0</td>\n",
       "      <td>0</td>\n",
       "      <td>0</td>\n",
       "      <td>...</td>\n",
       "      <td>0</td>\n",
       "      <td>0</td>\n",
       "      <td>0</td>\n",
       "      <td>0</td>\n",
       "      <td>0</td>\n",
       "      <td>0</td>\n",
       "      <td>0</td>\n",
       "      <td>0</td>\n",
       "      <td>0</td>\n",
       "      <td>0</td>\n",
       "    </tr>\n",
       "    <tr>\n",
       "      <th>3</th>\n",
       "      <td>9783453357792</td>\n",
       "      <td>Dich erfüllen</td>\n",
       "      <td>An der Seite von Damien fühlt sich Nikki zum e...</td>\n",
       "      <td>(c) Verlagsgruppe Random House GmbH</td>\n",
       "      <td>J. Kenner</td>\n",
       "      <td>2014-04-14</td>\n",
       "      <td>https://www.randomhouse.de/Taschenbuch/Dich-er...</td>\n",
       "      <td>0</td>\n",
       "      <td>0</td>\n",
       "      <td>0</td>\n",
       "      <td>...</td>\n",
       "      <td>0</td>\n",
       "      <td>0</td>\n",
       "      <td>0</td>\n",
       "      <td>0</td>\n",
       "      <td>0</td>\n",
       "      <td>0</td>\n",
       "      <td>0</td>\n",
       "      <td>0</td>\n",
       "      <td>0</td>\n",
       "      <td>0</td>\n",
       "    </tr>\n",
       "    <tr>\n",
       "      <th>4</th>\n",
       "      <td>9783844504958</td>\n",
       "      <td>Der Orientzyklus</td>\n",
       "      <td>Wer Kara Ben Nemsi, Hadschi Halef Omar und Sir...</td>\n",
       "      <td>(c) Verlagsgruppe Random House GmbH</td>\n",
       "      <td>Karl May</td>\n",
       "      <td>2007-08-13</td>\n",
       "      <td>https://www.randomhouse.de/Hoerbuch-Download/D...</td>\n",
       "      <td>0</td>\n",
       "      <td>0</td>\n",
       "      <td>0</td>\n",
       "      <td>...</td>\n",
       "      <td>0</td>\n",
       "      <td>0</td>\n",
       "      <td>0</td>\n",
       "      <td>0</td>\n",
       "      <td>0</td>\n",
       "      <td>0</td>\n",
       "      <td>0</td>\n",
       "      <td>0</td>\n",
       "      <td>0</td>\n",
       "      <td>0</td>\n",
       "    </tr>\n",
       "  </tbody>\n",
       "</table>\n",
       "<p>5 rows × 249 columns</p>\n",
       "</div>"
      ],
      "text/plain": [
       "            isbn                     title  \\\n",
       "0  9783641136291                Die Klinik   \n",
       "1  9783641185787  Die Erben von Midkemia 4   \n",
       "2  9783328103646          Völlig losgelöst   \n",
       "3  9783453357792             Dich erfüllen   \n",
       "4  9783844504958          Der Orientzyklus   \n",
       "\n",
       "                                                body  \\\n",
       "0  Ein Blick hinter die Kulissen eines Krankenhau...   \n",
       "1  Die Bedrohungen für Midkemia und Kelewan wolle...   \n",
       "2  In der Dreizimmerwohnung stapeln sich Flohmark...   \n",
       "3  An der Seite von Damien fühlt sich Nikki zum e...   \n",
       "4  Wer Kara Ben Nemsi, Hadschi Halef Omar und Sir...   \n",
       "\n",
       "                             copyright             authors   published  \\\n",
       "0  (c) Verlagsgruppe Random House GmbH         Noah Gordon  2013-12-02   \n",
       "1  (c) Verlagsgruppe Random House GmbH       Raymond Feist  2016-06-20   \n",
       "2  (c) Verlagsgruppe Random House GmbH  Susanne Weingarten  2019-01-14   \n",
       "3  (c) Verlagsgruppe Random House GmbH           J. Kenner  2014-04-14   \n",
       "4  (c) Verlagsgruppe Random House GmbH            Karl May  2007-08-13   \n",
       "\n",
       "                                                 url vornamen  \\\n",
       "0  https://www.randomhouse.de/ebook/Die-Klinik/No...        0   \n",
       "1  https://www.randomhouse.de/ebook/Die-Erben-von...        0   \n",
       "2  https://www.randomhouse.de/Taschenbuch/Voellig...        0   \n",
       "3  https://www.randomhouse.de/Taschenbuch/Dich-er...        0   \n",
       "4  https://www.randomhouse.de/Hoerbuch-Download/D...        0   \n",
       "\n",
       "  heroische fantasy joballtag_karriere       ...       philosophie tarot  \\\n",
       "0                 0                  0       ...                 0     0   \n",
       "1                 1                  0       ...                 0     0   \n",
       "2                 0                  0       ...                 0     0   \n",
       "3                 0                  0       ...                 0     0   \n",
       "4                 0                  0       ...                 0     0   \n",
       "\n",
       "  systemische therapie_familienaufstellung bauaufgaben griechische literatur  \\\n",
       "0                                        0           0                     0   \n",
       "1                                        0           0                     0   \n",
       "2                                        0           0                     0   \n",
       "3                                        0           0                     0   \n",
       "4                                        0           0                     0   \n",
       "\n",
       "  gartendesigner urgeschichte reden_glückwünsche antiquitäten theater_ballett  \n",
       "0              0            0                  0            0               0  \n",
       "1              0            0                  0            0               0  \n",
       "2              0            0                  0            0               0  \n",
       "3              0            0                  0            0               0  \n",
       "4              0            0                  0            0               0  \n",
       "\n",
       "[5 rows x 249 columns]"
      ]
     },
     "execution_count": 495,
     "metadata": {},
     "output_type": "execute_result"
    }
   ],
   "source": [
    "train_df_level3.head()"
   ]
  },
  {
   "cell_type": "code",
   "execution_count": 496,
   "metadata": {
    "collapsed": false
   },
   "outputs": [
    {
     "data": {
      "text/plain": [
       "(14548, 2079)"
      ]
     },
     "execution_count": 496,
     "metadata": {},
     "output_type": "execute_result"
    }
   ],
   "source": [
    "train3 = train_df_level3.copy()\n",
    "test3 = test_df_level3.copy()\n",
    "len(train3), len(test3)"
   ]
  },
  {
   "cell_type": "code",
   "execution_count": 497,
   "metadata": {
    "collapsed": false
   },
   "outputs": [
    {
     "data": {
      "text/plain": [
       "(array([], dtype=int64),)"
      ]
     },
     "execution_count": 497,
     "metadata": {},
     "output_type": "execute_result"
    }
   ],
   "source": [
    "np.where(pd.isnull(test3['body']))"
   ]
  },
  {
   "cell_type": "code",
   "execution_count": 498,
   "metadata": {
    "collapsed": false
   },
   "outputs": [
    {
     "data": {
      "text/plain": [
       "(array([  623,   911,  3989,  4381,  4642,  7372,  8094,  8422, 11158,\n",
       "        12850, 14060]),)"
      ]
     },
     "execution_count": 498,
     "metadata": {},
     "output_type": "execute_result"
    }
   ],
   "source": [
    "np.where(pd.isnull(train3['body']))"
   ]
  },
  {
   "cell_type": "code",
   "execution_count": 499,
   "metadata": {
    "collapsed": true
   },
   "outputs": [],
   "source": [
    "# Fill empty body with just the title (better results than author+title)\n",
    "train3.body = np.where(train3.body.isnull(), train3.title , train3.body)"
   ]
  },
  {
   "cell_type": "code",
   "execution_count": 500,
   "metadata": {
    "collapsed": true
   },
   "outputs": [],
   "source": [
    "trn_term_doc_level3 = vec.fit_transform(train3[TEXT_COLUMN])\n",
    "test_term_doc_level3 = vec.transform(test3[TEXT_COLUMN])"
   ]
  },
  {
   "cell_type": "code",
   "execution_count": 501,
   "metadata": {
    "collapsed": false
   },
   "outputs": [
    {
     "data": {
      "text/plain": [
       "(<14548x23648 sparse matrix of type '<class 'numpy.float64'>'\n",
       " \twith 865403 stored elements in Compressed Sparse Row format>,\n",
       " <2079x23648 sparse matrix of type '<class 'numpy.float64'>'\n",
       " \twith 123452 stored elements in Compressed Sparse Row format>)"
      ]
     },
     "execution_count": 501,
     "metadata": {},
     "output_type": "execute_result"
    }
   ],
   "source": [
    "trn_term_doc_level3, test_term_doc_level3"
   ]
  },
  {
   "cell_type": "code",
   "execution_count": 525,
   "metadata": {
    "collapsed": true
   },
   "outputs": [],
   "source": [
    "# SAVE\n",
    "scipy.sparse.save_npz('trn_term_doc_level3.npz', trn_term_doc_level3)\n",
    "scipy.sparse.save_npz('test_term_doc_level3.npz', test_term_doc_level3)"
   ]
  },
  {
   "cell_type": "code",
   "execution_count": 526,
   "metadata": {
    "collapsed": true
   },
   "outputs": [],
   "source": [
    "# LOAD - SKIP TO HERE\n",
    "trn_term_doc_level3 = scipy.sparse.load_npz('trn_term_doc_level3.npz')\n",
    "test_term_doc_level3 = scipy.sparse.load_npz('test_term_doc_level3.npz')"
   ]
  },
  {
   "cell_type": "code",
   "execution_count": 502,
   "metadata": {
    "collapsed": false
   },
   "outputs": [
    {
     "name": "stdout",
     "output_type": "stream",
     "text": [
      "Fitting:  vornamen\n",
      "[LibLinear]Fitting:  heroische fantasy\n",
      "[LibLinear]Fitting:  joballtag_karriere\n",
      "[LibLinear]Fitting:  psychothriller\n",
      "[LibLinear]Fitting:  große gefühle\n",
      "[LibLinear]Fitting:  feiern_feste\n",
      "[LibLinear]Fitting:  medizin_forensik\n",
      "[LibLinear]Fitting:  phantastik\n",
      "[LibLinear]Fitting:  ökologie_umweltschutz\n",
      "[LibLinear]Fitting:  aktuelle debatten\n",
      "[LibLinear]Fitting:  ganzheitliche psychologie lebenshilfe\n",
      "[LibLinear]Fitting:  nordamerikanische literatur\n",
      "[LibLinear]Fitting:  babys_kleinkinder\n",
      "[LibLinear]Fitting:  schwangerschaft_geburt\n",
      "[LibLinear]Fitting:  tod_trauer\n",
      "[LibLinear]Fitting:  nordische krimis\n",
      "[LibLinear]Fitting:  gesunde ernährung\n",
      "[LibLinear]Fitting:  junge literatur\n",
      "[LibLinear]Fitting:  kreatives\n",
      "[LibLinear]Fitting:  einfamilienhausbau\n",
      "[LibLinear]Fitting:  künstler_dichter_denker\n",
      "[LibLinear]Fitting:  themenkochbuch\n",
      "[LibLinear]Fitting:  abenteuer_action\n",
      "[LibLinear]Fitting:  science thriller\n",
      "[LibLinear]Fitting:  justizthriller\n",
      "[LibLinear]Fitting:  besser leben\n",
      "[LibLinear]Fitting:  starke frauen\n",
      "[LibLinear]Fitting:  gesellschaftskritik\n",
      "[LibLinear]Fitting:  psychologie partnerschaft_sexualität\n",
      "[LibLinear]Fitting:  krankheit\n",
      "[LibLinear]Fitting:  abenteuerfantasy\n",
      "[LibLinear]Fitting:  kirchen_theologiegeschichte\n",
      "[LibLinear]Fitting:  biblische theologie at\n",
      "[LibLinear]Fitting:  biblische theologie nt\n",
      "[LibLinear]Fitting:  politik_gesellschaft andere länder_kulturen\n",
      "[LibLinear]Fitting:  hard science fiction\n",
      "[LibLinear]Fitting:  all age fantasy\n",
      "[LibLinear]Fitting:  trauma\n",
      "[LibLinear]Fitting:  krisen_ängste\n",
      "[LibLinear]Fitting:  space opera\n",
      "[LibLinear]Fitting:  19_20 jahrhundert\n",
      "[LibLinear]Fitting:  agenten_spionagethriller\n",
      "[LibLinear]Fitting:  französische literatur\n",
      "[LibLinear]Fitting:  selbstcoaching\n",
      "[LibLinear]Fitting:  kopftraining\n",
      "[LibLinear]Fitting:  erzählungen_kurzgeschichten\n",
      "[LibLinear]Fitting:  gartengestaltung\n",
      "[LibLinear]Fitting:  weltpolitik_globalisierung\n",
      "[LibLinear]Fitting:  internet\n",
      "[LibLinear]Fitting:  geschenkbuch_briefkarten\n",
      "[LibLinear]Fitting:  reiseberichte\n",
      "[LibLinear]Fitting:  literatur aus spanien_lateinamerika\n",
      "[LibLinear]Fitting:  romantische komödien\n",
      "[LibLinear]Fitting:  märchen_legenden_sagen\n",
      "[LibLinear]Fitting:  humorvolle unterhaltung\n",
      "[LibLinear]Fitting:  natur_wissenschaft_technik tiere\n",
      "[LibLinear]Fitting:  familiensaga\n",
      "[LibLinear]Fitting:  wellness\n",
      "[LibLinear]Fitting:  romanbiographien\n",
      "[LibLinear]Fitting:  patientenratgeber\n",
      "[LibLinear]Fitting:  politische theorien\n",
      "[LibLinear]Fitting:  erotik_sex\n",
      "[LibLinear]Fitting:  rätsel_spiele\n",
      "[LibLinear]Fitting:  politiker\n",
      "[LibLinear]Fitting:  futurehistory\n",
      "[LibLinear]Fitting:  gerichtsmedizin_pathologie\n",
      "[LibLinear]Fitting:  spirituelles leben\n",
      "[LibLinear]Fitting:  nationalsozialismus\n",
      "[LibLinear]Fitting:  musterbriefe_rhetorik\n",
      "[LibLinear]Fitting:  einzelthemen der theologie\n",
      "[LibLinear]Fitting:  dystopie\n",
      "[LibLinear]Fitting:  lyrik\n",
      "[LibLinear]Fitting:  literatur aus russland_osteuropa\n",
      "[LibLinear]Fitting:  regionalkrimis\n",
      "[LibLinear]Fitting:  starköche\n",
      "[LibLinear]Fitting:  yoga_pilates_stretching\n",
      "[LibLinear]Fitting:  pflanzen_garten\n",
      "[LibLinear]Fitting:  jenseits_wiedergeburt\n",
      "[LibLinear]Fitting:  fitnesstraining\n",
      "[LibLinear]Fitting:  problemzonen\n",
      "[LibLinear]Fitting:  italienische literatur\n",
      "[LibLinear]Fitting:  christlicher glauben\n",
      "[LibLinear]Fitting:  handwerk farbe praxis\n",
      "[LibLinear]Fitting:  handwerk farbe grundlagenwissen\n",
      "[LibLinear]Fitting:  östliche weisheit\n",
      "[LibLinear]Fitting:  ernährung\n",
      "[LibLinear]Fitting:  magen_darm\n",
      "[LibLinear]Fitting:  nahrungsmittelintoleranz\n",
      "[LibLinear]Fitting:  deutschsprachige literatur\n",
      "[LibLinear]Fitting:  mittelalter\n",
      "[LibLinear]Fitting:  historische krimis\n",
      "[LibLinear]Fitting:  kindererziehung\n",
      "[LibLinear]Fitting:  körpertherapien\n",
      "[LibLinear]Fitting:  high fantasy\n",
      "[LibLinear]Fitting:  science fiction sachbuch\n",
      "[LibLinear]Fitting:  pubertät\n",
      "[LibLinear]Fitting:  länderküche\n",
      "[LibLinear]Fitting:  styling\n",
      "[LibLinear]Fitting:  schönheitspflege\n",
      "[LibLinear]Fitting:  getränke\n",
      "[LibLinear]Fitting:  ladythriller\n",
      "[LibLinear]Fitting:  abschied_trauer_neubeginn\n",
      "[LibLinear]Fitting:  laufen_nordic walking\n",
      "[LibLinear]Fitting:  neue wirtschaftsmodelle\n",
      "[LibLinear]Fitting:  utopie\n",
      "[LibLinear]Fitting:  afrikanische literatur\n",
      "[LibLinear]Fitting:  science fiction science fantasy\n",
      "[LibLinear]Fitting:  englische literatur\n",
      "[LibLinear]Fitting:  steampunk\n",
      "[LibLinear]Fitting:  alternativwelten\n",
      "[LibLinear]Fitting:  geschichte nach 45\n",
      "[LibLinear]Fitting:  spiritualität_religion weltreligionen\n",
      "[LibLinear]Fitting:  theologie religionspädagogik\n",
      "[LibLinear]Fitting:  raucherentwöhnung\n",
      "[LibLinear]Fitting:  funny fantasy\n",
      "[LibLinear]Fitting:  skandinavische literatur\n",
      "[LibLinear]Fitting:  film_musik\n",
      "[LibLinear]Fitting:  westliche wege\n",
      "[LibLinear]Fitting:  entspannung_meditation\n",
      "[LibLinear]Fitting:  kindergarten_pädagogik\n",
      "[LibLinear]Fitting:  schule_lernen\n",
      "[LibLinear]Fitting:  spiele_beschäftigung\n",
      "[LibLinear]Fitting:  psychologie lebenshilfe\n",
      "[LibLinear]Fitting:  persönlichkeitsentwicklung\n",
      "[LibLinear]Fitting:  mysterythriller\n",
      "[LibLinear]Fitting:  homöopathie_bachblüten\n",
      "[LibLinear]Fitting:  liebe_beziehung\n",
      "[LibLinear]Fitting:  literaturgeschichte_kritik\n",
      "[LibLinear]Fitting:  ernährung_kochen\n",
      "[LibLinear]Fitting:  wandern_bergsteigen\n",
      "[LibLinear]Fitting:  sucht_abhängigkeit\n",
      "[LibLinear]Fitting:  politthriller\n",
      "[LibLinear]Fitting:  sterbebegleitung_hospizarbeit\n",
      "[LibLinear]Fitting:  50 plus\n",
      "[LibLinear]Fitting:  job_karriere\n",
      "[LibLinear]Fitting:  konfirmation\n",
      "[LibLinear]Fitting:  gemeindearbeit religionspädagogik\n",
      "[LibLinear]Fitting:  kasualien_sakramente\n",
      "[LibLinear]Fitting:  schauspieler_regisseure\n",
      "[LibLinear]Fitting:  praktische anleitungen\n",
      "[LibLinear]Fitting:  rücken_gelenke\n",
      "[LibLinear]Fitting:  unternehmen_manager\n",
      "[LibLinear]Fitting:  landschaftsgestaltung\n",
      "[LibLinear]Fitting:  krimikomödien\n",
      "[LibLinear]Fitting:  musiker_sänger\n",
      "[LibLinear]Fitting:  freizeit_hobby tiere\n",
      "[LibLinear]Fitting:  gebete_andachten\n",
      "[LibLinear]Fitting:  glauben mit kindern\n",
      "[LibLinear]Fitting:  dark fantasy\n",
      "[LibLinear]Fitting:  lesen_kochen\n",
      "[LibLinear]Fitting:  kunst_kunstgeschichte\n",
      "[LibLinear]Fitting:  flirt_partnersuche\n",
      "[LibLinear]Fitting:  partnerschaft_sex\n",
      "[LibLinear]Fitting:  kommunikation\n",
      "[LibLinear]Fitting:  wissen der naturvölker\n",
      "[LibLinear]Fitting:  urban fantasy\n",
      "[LibLinear]Fitting:  andere länder\n",
      "[LibLinear]Fitting:  21 jahrhundert\n",
      "[LibLinear]Fitting:  engel_schutzgeister\n",
      "[LibLinear]Fitting:  chakren_aura\n",
      "[LibLinear]Fitting:  science fiction satire\n",
      "[LibLinear]Fitting:  bauherrenratgeber\n",
      "[LibLinear]Fitting:  bautechnik\n",
      "[LibLinear]Fitting:  systematische theologie\n",
      "[LibLinear]Fitting:  praktische theologie\n",
      "[LibLinear]Fitting:  kosmologie\n",
      "[LibLinear]Fitting:  literatur aus fernost\n",
      "[LibLinear]Fitting:  bibeln_katechismus\n",
      "[LibLinear]Fitting:  humoristische nachschlagewerke\n",
      "[LibLinear]Fitting:  wohnen\n",
      "[LibLinear]Fitting:  länder_städte_regionen\n",
      "[LibLinear]Fitting:  spirituelle entwicklung\n",
      "[LibLinear]Fitting:  indische literatur\n",
      "[LibLinear]Fitting:  cyberpunk\n",
      "[LibLinear]Fitting:  wissenschaftler\n",
      "[LibLinear]Fitting:  dying earth\n",
      "[LibLinear]Fitting:  monographien\n",
      "[LibLinear]Fitting:  gesang_liederbücher\n",
      "[LibLinear]Fitting:  innenarchitektur\n",
      "[LibLinear]Fitting:  baumaterialien\n",
      "[LibLinear]Fitting:  antike_neulateinische literatur\n",
      "[LibLinear]Fitting:  gemeindearbeit mit kindern_jugendlichen\n",
      "[LibLinear]Fitting:  wissenschaftsthriller\n",
      "[LibLinear]Fitting:  ökothriller\n",
      "[LibLinear]Fitting:  fantasy science fantasy\n",
      "[LibLinear]Fitting:  psychotherapie\n",
      "[LibLinear]Fitting:  farbratgeber\n",
      "[LibLinear]Fitting:  hausmittel\n",
      "[LibLinear]Fitting:  schicksalsberichte andere länder_kulturen\n",
      "[LibLinear]Fitting:  design_lifestyle\n",
      "[LibLinear]Fitting:  diakonie_seelsorge\n",
      "[LibLinear]Fitting:  gemeindearbeit sachbuch\n",
      "[LibLinear]Fitting:  gottesdienst_predigt\n",
      "[LibLinear]Fitting:  sprache_sprechen\n",
      "[LibLinear]Fitting:  zeit geschichte andere länder_kulturen\n",
      "[LibLinear]Fitting:  arbeitstechniken\n",
      "[LibLinear]Fitting:  mantras_mudras\n",
      "[LibLinear]Fitting:  nszeit_nachkriegszeit\n",
      "[LibLinear]Fitting:  kinderschicksal\n",
      "[LibLinear]Fitting:  altbausanierung_denkmalpflege\n",
      "[LibLinear]Fitting:  neuere geschichte\n",
      "[LibLinear]Fitting:  umgangsformen\n",
      "[LibLinear]Fitting:  geschichte_theorie\n",
      "[LibLinear]Fitting:  familie_religion\n",
      "[LibLinear]Fitting:  niederländische literatur\n",
      "[LibLinear]Fitting:  handwerk farbe gestaltung\n",
      "[LibLinear]Fitting:  historische fantasy\n",
      "[LibLinear]Fitting:  alte geschichte\n",
      "[LibLinear]Fitting:  fantasy_sfthriller\n",
      "[LibLinear]Fitting:  bewerbung\n",
      "[LibLinear]Fitting:  wirtschaftsthriller\n",
      "[LibLinear]Fitting:  bibel in gerechter sprache\n",
      "[LibLinear]Fitting:  fahrzeuge_technik\n",
      "[LibLinear]Fitting:  handwerk holz gestaltung\n",
      "[LibLinear]Fitting:  handwerk holz grundlagenwissen\n",
      "[LibLinear]Fitting:  anthologien\n",
      "[LibLinear]Fitting:  handwerk holz praxis\n",
      "[LibLinear]Fitting:  bibeln_bibelarbeit\n",
      "[LibLinear]Fitting:  theologie weltreligionen\n",
      "[LibLinear]Fitting:  dialog der traditionen\n",
      "[LibLinear]Fitting:  magie_hexerei\n",
      "[LibLinear]Fitting:  tierkrimis\n",
      "[LibLinear]Fitting:  medizinthriller\n",
      "[LibLinear]Fitting:  literatur des nahen ostens\n",
      "[LibLinear]Fitting:  kirchenthriller\n",
      "[LibLinear]Fitting:  spielewelten\n",
      "[LibLinear]Fitting:  astrologie_sternzeichen\n",
      "[LibLinear]Fitting:  stadtplanung\n",
      "[LibLinear]Fitting:  feministische theologie\n",
      "[LibLinear]Fitting:  entwurfs_detailplanung\n",
      "[LibLinear]Fitting:  street art\n",
      "[LibLinear]Fitting:  trennung\n",
      "[LibLinear]Fitting:  philosophie\n",
      "[LibLinear]Fitting:  tarot\n",
      "[LibLinear]Fitting:  systemische therapie_familienaufstellung\n",
      "[LibLinear]Fitting:  bauaufgaben\n",
      "[LibLinear]Fitting:  griechische literatur\n",
      "[LibLinear]Fitting:  gartendesigner\n",
      "[LibLinear]Fitting:  urgeschichte\n",
      "[LibLinear]Fitting:  reden_glückwünsche\n",
      "[LibLinear]Fitting:  antiquitäten\n",
      "[LibLinear]Fitting:  theater_ballett\n",
      "[LibLinear]"
     ]
    }
   ],
   "source": [
    "preds_level3 = np.zeros((len(test), len(label_ids_level3)))\n",
    "\n",
    "for index, label_id in enumerate(label_ids_level3):\n",
    "    label_values = train3[label_id].values\n",
    "    print('Fitting: ', label_id)\n",
    "    m,r = get_model(label_values, trn_term_doc_level3)\n",
    "    preds_level3[:,index] = m.predict_proba(test_term_doc_level3.multiply(r))[:,1] # why all rows, first column?!"
   ]
  },
  {
   "cell_type": "code",
   "execution_count": 503,
   "metadata": {
    "collapsed": false
   },
   "outputs": [
    {
     "data": {
      "text/plain": [
       "(2079, 242)"
      ]
     },
     "execution_count": 503,
     "metadata": {},
     "output_type": "execute_result"
    }
   ],
   "source": [
    "len(preds_level3), len(preds_level3[0,:]) # 2079 elements, 242 classes"
   ]
  },
  {
   "cell_type": "markdown",
   "metadata": {},
   "source": [
    "### Level 3 Predictions"
   ]
  },
  {
   "cell_type": "code",
   "execution_count": 504,
   "metadata": {
    "collapsed": false
   },
   "outputs": [],
   "source": [
    "# NOTE: Multileafs for LEVEL3!\n",
    "def new_answers2(answers_list2, cutoff=0.7, multi_label_cutoff=1.0):\n",
    "    new_ansers_list = []\n",
    "    \n",
    "    for index, item in enumerate(answers_list2):\n",
    "      new_label_strings = []\n",
    "\n",
    "      isbn = item[0]\n",
    "      labels_level1 = item[1] #  can contain one or two labels\n",
    "      labels_level2 = item[2] # can contain one or two labels\n",
    "    \n",
    "      # Find next labels if 2nd level is not empty\n",
    "      if(labels_level2 != []):\n",
    "        labels_next = find_next_level(labels_level2[0])\n",
    "        \n",
    "        new_labels = get_nextlevel_preds(preds_level3[index],labels_level3,labels_next) \n",
    "        max_labels = get_max_from_list_multi(new_labels, cutoff=multi_label_cutoff)\n",
    "\n",
    "        new_label_strings.append(max_labels)\n",
    "        \n",
    "        # For the cases where there are two level 2 labels\n",
    "        if(len(labels_level2) > 1):\n",
    "          labels_next2 = find_next_level(labels_level2[1])        \n",
    "          new_labels2 = get_nextlevel_preds(preds_level3[index],labels_level3,labels_next2)\n",
    "          max_labels2 = get_max_from_list(new_labels2, cutoff=cutoff)\n",
    "          if(max_labels2 != ()):\n",
    "            new_label_strings.append([max_labels2[0]])\n",
    "\n",
    "        new_entry = [isbn, labels_level1, labels_level2, new_label_strings]\n",
    "        \n",
    "      else:\n",
    "        new_entry = [isbn, labels_level1, labels_level2]\n",
    "\n",
    "      new_ansers_list.append(new_entry)\n",
    "    return new_ansers_list"
   ]
  },
  {
   "cell_type": "markdown",
   "metadata": {},
   "source": [
    "### Write Final Output File"
   ]
  },
  {
   "cell_type": "code",
   "execution_count": 505,
   "metadata": {
    "collapsed": false
   },
   "outputs": [],
   "source": [
    "answers_list3 = new_answers2(answers_list2, cutoff=0.7, multi_label_cutoff=0.15)"
   ]
  },
  {
   "cell_type": "code",
   "execution_count": 506,
   "metadata": {
    "collapsed": false
   },
   "outputs": [],
   "source": [
    "answers_taskB = answers_list_to_file(answers_list3)"
   ]
  },
  {
   "cell_type": "code",
   "execution_count": 507,
   "metadata": {
    "collapsed": true
   },
   "outputs": [],
   "source": [
    "write_answerfile(answers_taskA, answers_taskB)"
   ]
  },
  {
   "cell_type": "markdown",
   "metadata": {},
   "source": [
    "## Runtime"
   ]
  },
  {
   "cell_type": "code",
   "execution_count": 83,
   "metadata": {
    "collapsed": false
   },
   "outputs": [],
   "source": [
    "# Print the total time the notebook ran\n",
    "elapsed_final = timeit.default_timer() - start_time"
   ]
  },
  {
   "cell_type": "code",
   "execution_count": 84,
   "metadata": {
    "collapsed": false
   },
   "outputs": [
    {
     "name": "stdout",
     "output_type": "stream",
     "text": [
      "Running time level 1: 0:8:24.\n",
      "\n",
      "Running time level 2: 0:21:58.\n",
      "\n",
      "Total running time: 0:46:55.\n",
      "\n"
     ]
    }
   ],
   "source": [
    "mins1, secs1 = divmod(elapsed_first, 60)\n",
    "hours1, mins1 = divmod(mins1, 60)\n",
    "\n",
    "print(\"Running time level 1: %d:%d:%d.\\n\" % (hours1, mins1, secs1))\n",
    "\n",
    "mins2, secs2 = divmod(elapsed_second, 60)\n",
    "hours2, mins2 = divmod(mins2, 60)\n",
    "\n",
    "print(\"Running time level 2: %d:%d:%d.\\n\" % (hours2, mins2, secs2))\n",
    "\n",
    "mins3, secs3 = divmod(elapsed_final, 60)\n",
    "hours3, mins3 = divmod(mins3, 60)\n",
    "\n",
    "print(\"Total running time: %d:%d:%d.\\n\" % (hours3, mins3, secs3))"
   ]
  },
  {
   "cell_type": "markdown",
   "metadata": {},
   "source": [
    "## ---- Model Search ----"
   ]
  },
  {
   "cell_type": "markdown",
   "metadata": {},
   "source": [
    "## Imports and data loading"
   ]
  },
  {
   "cell_type": "markdown",
   "metadata": {},
   "source": [
    "The provided training-data from phase one of the competition is split 80/20 into train and test."
   ]
  },
  {
   "cell_type": "code",
   "execution_count": 110,
   "metadata": {
    "collapsed": true
   },
   "outputs": [],
   "source": [
    "# Imports\n",
    "import scipy as scipy"
   ]
  },
  {
   "cell_type": "code",
   "execution_count": 111,
   "metadata": {
    "collapsed": false
   },
   "outputs": [
    {
     "data": {
      "text/plain": [
       "(14548, 14548)"
      ]
     },
     "execution_count": 111,
     "metadata": {},
     "output_type": "execute_result"
    }
   ],
   "source": [
    "# Data-loading\n",
    "X_tmp = train['body'].copy()\n",
    "y_tmp = train[label_ids].copy()\n",
    "len(X_tmp), len(y_tmp)"
   ]
  },
  {
   "cell_type": "code",
   "execution_count": 112,
   "metadata": {
    "collapsed": true
   },
   "outputs": [],
   "source": [
    "# Setup\n",
    "test_percentage=0.2"
   ]
  },
  {
   "cell_type": "markdown",
   "metadata": {},
   "source": [
    "## Vectorize"
   ]
  },
  {
   "cell_type": "code",
   "execution_count": 113,
   "metadata": {
    "collapsed": false
   },
   "outputs": [],
   "source": [
    "vec = TfidfVectorizer(analyzer='word', ngram_range=(1,1), tokenizer=tokenize_spacy,\n",
    "               min_df=4, max_df=0.4, strip_accents='unicode', use_idf=True,\n",
    "               smooth_idf=True, sublinear_tf=True, lowercase=False, binary=False)\n",
    "X_vec = vec.fit_transform(X_tmp)"
   ]
  },
  {
   "cell_type": "code",
   "execution_count": 527,
   "metadata": {
    "collapsed": false
   },
   "outputs": [
    {
     "data": {
      "text/plain": [
       "<1x23648 sparse matrix of type '<class 'numpy.float64'>'\n",
       "\twith 41 stored elements in Compressed Sparse Row format>"
      ]
     },
     "execution_count": 527,
     "metadata": {},
     "output_type": "execute_result"
    }
   ],
   "source": [
    "X_vec[0]"
   ]
  },
  {
   "cell_type": "code",
   "execution_count": 114,
   "metadata": {
    "collapsed": false
   },
   "outputs": [
    {
     "data": {
      "text/plain": [
       "(<11638x23648 sparse matrix of type '<class 'numpy.float64'>'\n",
       " \twith 693282 stored elements in Compressed Sparse Row format>,\n",
       " <2910x23648 sparse matrix of type '<class 'numpy.float64'>'\n",
       " \twith 172121 stored elements in Compressed Sparse Row format>)"
      ]
     },
     "execution_count": 114,
     "metadata": {},
     "output_type": "execute_result"
    }
   ],
   "source": [
    "X_train, X_test = train_test_split(X_vec, test_size=test_percentage, shuffle=False)\n",
    "X_train, X_test"
   ]
  },
  {
   "cell_type": "code",
   "execution_count": 115,
   "metadata": {
    "collapsed": false
   },
   "outputs": [
    {
     "data": {
      "text/plain": [
       "(11638, 2910)"
      ]
     },
     "execution_count": 115,
     "metadata": {},
     "output_type": "execute_result"
    }
   ],
   "source": [
    "y_train_tmp, y_test_tmp = train_test_split(y_tmp, test_size=test_percentage, shuffle=False)\n",
    "\n",
    "len(y_train_tmp), len(y_test_tmp)"
   ]
  },
  {
   "cell_type": "code",
   "execution_count": 116,
   "metadata": {
    "collapsed": false
   },
   "outputs": [
    {
     "name": "stderr",
     "output_type": "stream",
     "text": [
      "//anaconda/envs/python3/lib/python3.5/site-packages/ipykernel/__main__.py:1: FutureWarning: Method .as_matrix will be removed in a future version. Use .values instead.\n",
      "  if __name__ == '__main__':\n"
     ]
    },
    {
     "data": {
      "text/plain": [
       "<11638x8 sparse matrix of type '<class 'numpy.int64'>'\n",
       "\twith 12440 stored elements in COOrdinate format>"
      ]
     },
     "execution_count": 116,
     "metadata": {},
     "output_type": "execute_result"
    }
   ],
   "source": [
    "y_train = y_train_tmp.as_matrix()\n",
    "y_train = scipy.sparse.coo_matrix(y_train_tmp, dtype=int)\n",
    "y_train"
   ]
  },
  {
   "cell_type": "code",
   "execution_count": 117,
   "metadata": {
    "collapsed": false
   },
   "outputs": [
    {
     "name": "stderr",
     "output_type": "stream",
     "text": [
      "//anaconda/envs/python3/lib/python3.5/site-packages/ipykernel/__main__.py:1: FutureWarning: Method .as_matrix will be removed in a future version. Use .values instead.\n",
      "  if __name__ == '__main__':\n"
     ]
    },
    {
     "data": {
      "text/plain": [
       "<2910x8 sparse matrix of type '<class 'numpy.int64'>'\n",
       "\twith 3113 stored elements in COOrdinate format>"
      ]
     },
     "execution_count": 117,
     "metadata": {},
     "output_type": "execute_result"
    }
   ],
   "source": [
    "y_test = y_test_tmp.as_matrix()\n",
    "y_test = scipy.sparse.coo_matrix(y_test_tmp, dtype=int)\n",
    "y_test"
   ]
  },
  {
   "cell_type": "code",
   "execution_count": 118,
   "metadata": {
    "collapsed": false
   },
   "outputs": [
    {
     "data": {
      "text/plain": [
       "[('text', 'TEXT')]"
      ]
     },
     "execution_count": 118,
     "metadata": {},
     "output_type": "execute_result"
    }
   ],
   "source": [
    "feature_names = [('text', 'TEXT')]\n",
    "feature_names"
   ]
  },
  {
   "cell_type": "code",
   "execution_count": 119,
   "metadata": {
    "collapsed": false
   },
   "outputs": [
    {
     "data": {
      "text/plain": [
       "[('ratgeber', ['0', '1']),\n",
       " ('kinderbuch_jugendbuch', ['0', '1']),\n",
       " ('literatur_unterhaltung', ['0', '1']),\n",
       " ('sachbuch', ['0', '1']),\n",
       " ('ganzheitliches bewusstsein', ['0', '1']),\n",
       " ('architektur_garten', ['0', '1']),\n",
       " ('glaube_ethik', ['0', '1']),\n",
       " ('künste', ['0', '1'])]"
      ]
     },
     "execution_count": 119,
     "metadata": {},
     "output_type": "execute_result"
    }
   ],
   "source": [
    "label_names = list(zip(label_ids, [['0', '1'] for x in label_ids]))\n",
    "label_names"
   ]
  },
  {
   "cell_type": "markdown",
   "metadata": {},
   "source": [
    "## Test of different models"
   ]
  },
  {
   "cell_type": "code",
   "execution_count": 121,
   "metadata": {
    "collapsed": true
   },
   "outputs": [],
   "source": [
    "import sklearn.metrics as metrics\n",
    "from sklearn.ensemble import VotingClassifier"
   ]
  },
  {
   "cell_type": "code",
   "execution_count": 270,
   "metadata": {
    "collapsed": true
   },
   "outputs": [],
   "source": [
    "def prediction_from_model(model, X_train, y_train, y_test):\n",
    "  classifier = OneVsRestClassifier(model)\n",
    "  classifier.fit(X_train, y_train)\n",
    "  prediction = classifier.predict(X_test)\n",
    "  return metrics.f1_score(y_test, prediction, average='micro')"
   ]
  },
  {
   "cell_type": "markdown",
   "metadata": {},
   "source": [
    "### Decision Trees"
   ]
  },
  {
   "cell_type": "code",
   "execution_count": 266,
   "metadata": {
    "collapsed": true
   },
   "outputs": [],
   "source": [
    "from sklearn.tree import DecisionTreeClassifier"
   ]
  },
  {
   "cell_type": "markdown",
   "metadata": {},
   "source": [
    "#### Vanilla"
   ]
  },
  {
   "cell_type": "code",
   "execution_count": 298,
   "metadata": {
    "collapsed": true
   },
   "outputs": [],
   "source": [
    "# criterion='gini' (alternative: 'entropy'), splitter='best' (alternative: 'random'),\n",
    "# max_depth=None, min_samples_split=2, min_samples_leaf=1, min_weight_fraction_leaf=0.0,\n",
    "# class_weight=None, max_features=None (int, float, 'auto', 'sqrt', 'log2')\n",
    "model_dt_vanilla = DecisionTreeClassifier(random_state=seed)"
   ]
  },
  {
   "cell_type": "code",
   "execution_count": 299,
   "metadata": {
    "collapsed": false
   },
   "outputs": [
    {
     "data": {
      "text/plain": [
       "0.60491432266408007"
      ]
     },
     "execution_count": 299,
     "metadata": {},
     "output_type": "execute_result"
    }
   ],
   "source": [
    "prediction_from_model(model_dt_vanilla, X_train, y_train, y_test) # 0.60491432266408007"
   ]
  },
  {
   "cell_type": "markdown",
   "metadata": {},
   "source": [
    "#### Optimized"
   ]
  },
  {
   "cell_type": "code",
   "execution_count": 377,
   "metadata": {
    "collapsed": false
   },
   "outputs": [],
   "source": [
    "model_dt = DecisionTreeClassifier(random_state=seed, splitter='random', min_samples_split=15)"
   ]
  },
  {
   "cell_type": "code",
   "execution_count": 378,
   "metadata": {
    "collapsed": false
   },
   "outputs": [
    {
     "data": {
      "text/plain": [
       "0.61245110821382009"
      ]
     },
     "execution_count": 378,
     "metadata": {},
     "output_type": "execute_result"
    }
   ],
   "source": [
    "prediction_from_model(model_dt, X_train, y_train, y_test) # 0.61245110821382009"
   ]
  },
  {
   "cell_type": "markdown",
   "metadata": {},
   "source": [
    "### Random Forest"
   ]
  },
  {
   "cell_type": "code",
   "execution_count": null,
   "metadata": {
    "collapsed": true
   },
   "outputs": [],
   "source": [
    "from sklearn.ensemble import RandomForestClassifier"
   ]
  },
  {
   "cell_type": "markdown",
   "metadata": {},
   "source": [
    "#### Vanilla"
   ]
  },
  {
   "cell_type": "code",
   "execution_count": 302,
   "metadata": {
    "collapsed": true
   },
   "outputs": [],
   "source": [
    "model_rf_vanilla = RandomForestClassifier(random_state=seed)"
   ]
  },
  {
   "cell_type": "code",
   "execution_count": 291,
   "metadata": {
    "collapsed": false
   },
   "outputs": [
    {
     "name": "stderr",
     "output_type": "stream",
     "text": [
      "//anaconda/envs/python3/lib/python3.5/site-packages/sklearn/ensemble/forest.py:248: FutureWarning: The default value of n_estimators will change from 10 in version 0.20 to 100 in 0.22.\n",
      "  \"10 in version 0.20 to 100 in 0.22.\", FutureWarning)\n",
      "//anaconda/envs/python3/lib/python3.5/site-packages/sklearn/ensemble/forest.py:248: FutureWarning: The default value of n_estimators will change from 10 in version 0.20 to 100 in 0.22.\n",
      "  \"10 in version 0.20 to 100 in 0.22.\", FutureWarning)\n",
      "//anaconda/envs/python3/lib/python3.5/site-packages/sklearn/ensemble/forest.py:248: FutureWarning: The default value of n_estimators will change from 10 in version 0.20 to 100 in 0.22.\n",
      "  \"10 in version 0.20 to 100 in 0.22.\", FutureWarning)\n",
      "//anaconda/envs/python3/lib/python3.5/site-packages/sklearn/ensemble/forest.py:248: FutureWarning: The default value of n_estimators will change from 10 in version 0.20 to 100 in 0.22.\n",
      "  \"10 in version 0.20 to 100 in 0.22.\", FutureWarning)\n",
      "//anaconda/envs/python3/lib/python3.5/site-packages/sklearn/ensemble/forest.py:248: FutureWarning: The default value of n_estimators will change from 10 in version 0.20 to 100 in 0.22.\n",
      "  \"10 in version 0.20 to 100 in 0.22.\", FutureWarning)\n",
      "//anaconda/envs/python3/lib/python3.5/site-packages/sklearn/ensemble/forest.py:248: FutureWarning: The default value of n_estimators will change from 10 in version 0.20 to 100 in 0.22.\n",
      "  \"10 in version 0.20 to 100 in 0.22.\", FutureWarning)\n",
      "//anaconda/envs/python3/lib/python3.5/site-packages/sklearn/ensemble/forest.py:248: FutureWarning: The default value of n_estimators will change from 10 in version 0.20 to 100 in 0.22.\n",
      "  \"10 in version 0.20 to 100 in 0.22.\", FutureWarning)\n",
      "//anaconda/envs/python3/lib/python3.5/site-packages/sklearn/ensemble/forest.py:248: FutureWarning: The default value of n_estimators will change from 10 in version 0.20 to 100 in 0.22.\n",
      "  \"10 in version 0.20 to 100 in 0.22.\", FutureWarning)\n"
     ]
    },
    {
     "data": {
      "text/plain": [
       "0.61246504194966034"
      ]
     },
     "execution_count": 291,
     "metadata": {},
     "output_type": "execute_result"
    }
   ],
   "source": [
    "prediction_from_model(model_rf_vanilla, X_train, y_train, y_test) # 0.61246504194966034"
   ]
  },
  {
   "cell_type": "markdown",
   "metadata": {},
   "source": [
    "#### Optimized"
   ]
  },
  {
   "cell_type": "code",
   "execution_count": 303,
   "metadata": {
    "collapsed": true
   },
   "outputs": [],
   "source": [
    "model_rf = RandomForestClassifier(random_state=seed, n_estimators=200, min_samples_split=5,\n",
    "                                  bootstrap=False, class_weight='balanced_subsample', n_jobs=-1)"
   ]
  },
  {
   "cell_type": "code",
   "execution_count": 304,
   "metadata": {
    "collapsed": false
   },
   "outputs": [
    {
     "data": {
      "text/plain": [
       "0.66666666666666663"
      ]
     },
     "execution_count": 304,
     "metadata": {},
     "output_type": "execute_result"
    }
   ],
   "source": [
    "prediction_from_model(model_rf, X_train, y_train, y_test) # 0.6667"
   ]
  },
  {
   "cell_type": "markdown",
   "metadata": {},
   "source": [
    "### K-Nearest Neighbors"
   ]
  },
  {
   "cell_type": "code",
   "execution_count": 156,
   "metadata": {
    "collapsed": true
   },
   "outputs": [],
   "source": [
    "from sklearn.neighbors import KNeighborsClassifier\n",
    "# https://scikit-learn.org/stable/modules/neighbors.html#classification"
   ]
  },
  {
   "cell_type": "markdown",
   "metadata": {},
   "source": [
    "#### Vanilla"
   ]
  },
  {
   "cell_type": "code",
   "execution_count": 318,
   "metadata": {
    "collapsed": false
   },
   "outputs": [],
   "source": [
    "# n_neighbors=5, weights=’uniform’, algorithm=’auto’, leaf_size=30, p=2\n",
    "# metric=’minkowski’, metric_params=None, n_jobs=None, **kwargs\n",
    "model_knn_vanilla = KNeighborsClassifier()"
   ]
  },
  {
   "cell_type": "code",
   "execution_count": 384,
   "metadata": {
    "collapsed": false
   },
   "outputs": [
    {
     "data": {
      "text/plain": [
       "0.71636228102869925"
      ]
     },
     "execution_count": 384,
     "metadata": {},
     "output_type": "execute_result"
    }
   ],
   "source": [
    "prediction_from_model(model_knn_vanilla, X_train, y_train, y_test) # 0.71636228102869925"
   ]
  },
  {
   "cell_type": "markdown",
   "metadata": {},
   "source": [
    "#### Optimized"
   ]
  },
  {
   "cell_type": "code",
   "execution_count": 385,
   "metadata": {
    "collapsed": true
   },
   "outputs": [],
   "source": [
    "# p = 1, this is equivalent to using manhattan_distance (l1), and euclidean_distance (l2) for p = 2\n",
    "model_knn = KNeighborsClassifier(weights='distance', n_neighbors=9, n_jobs=-1) # euclidean distance"
   ]
  },
  {
   "cell_type": "code",
   "execution_count": 386,
   "metadata": {
    "collapsed": false
   },
   "outputs": [
    {
     "data": {
      "text/plain": [
       "0.73769585253456216"
      ]
     },
     "execution_count": 386,
     "metadata": {},
     "output_type": "execute_result"
    }
   ],
   "source": [
    "prediction_from_model(model_knn, X_train, y_train, y_test) # 0.73769585253456216"
   ]
  },
  {
   "cell_type": "markdown",
   "metadata": {},
   "source": [
    "### Logistic Regression"
   ]
  },
  {
   "cell_type": "markdown",
   "metadata": {},
   "source": [
    "#### Vanilla"
   ]
  },
  {
   "cell_type": "code",
   "execution_count": 379,
   "metadata": {
    "collapsed": true
   },
   "outputs": [],
   "source": [
    "# random_state=None: If None, the random number generator is the RandomState instance used by np.random\n",
    "model_lr_vanilla = LogisticRegression(random_state=seed)"
   ]
  },
  {
   "cell_type": "code",
   "execution_count": 382,
   "metadata": {
    "collapsed": false
   },
   "outputs": [
    {
     "name": "stderr",
     "output_type": "stream",
     "text": [
      "//anaconda/envs/python3/lib/python3.5/site-packages/sklearn/linear_model/logistic.py:432: FutureWarning: Default solver will be changed to 'lbfgs' in 0.22. Specify a solver to silence this warning.\n",
      "  FutureWarning)\n"
     ]
    },
    {
     "data": {
      "text/plain": [
       "0.69192876089427802"
      ]
     },
     "execution_count": 382,
     "metadata": {},
     "output_type": "execute_result"
    }
   ],
   "source": [
    "prediction_from_model(model_lr_vanilla, X_train, y_train, y_test) # 0.69192876089427802"
   ]
  },
  {
   "cell_type": "markdown",
   "metadata": {},
   "source": [
    "#### Optimized"
   ]
  },
  {
   "cell_type": "code",
   "execution_count": null,
   "metadata": {
    "collapsed": true
   },
   "outputs": [],
   "source": [
    "model_lr = LogisticRegression(C=40.0, dual=False, solver='liblinear', multi_class='auto', max_iter=1000,\n",
    "                           penalty='l2', class_weight='balanced', verbose=1)"
   ]
  },
  {
   "cell_type": "code",
   "execution_count": 383,
   "metadata": {
    "collapsed": false
   },
   "outputs": [
    {
     "name": "stdout",
     "output_type": "stream",
     "text": [
      "[LibLinear][LibLinear][LibLinear][LibLinear][LibLinear][LibLinear][LibLinear][LibLinear]"
     ]
    },
    {
     "data": {
      "text/plain": [
       "0.78828099708643573"
      ]
     },
     "execution_count": 383,
     "metadata": {},
     "output_type": "execute_result"
    }
   ],
   "source": [
    "prediction_from_model(model_lr, X_train, y_train, y_test) # 0.78828099708643573"
   ]
  },
  {
   "cell_type": "markdown",
   "metadata": {},
   "source": [
    "### Multinomial Naive Bayes"
   ]
  },
  {
   "cell_type": "code",
   "execution_count": 390,
   "metadata": {
    "collapsed": true
   },
   "outputs": [],
   "source": [
    "from sklearn.naive_bayes import MultinomialNB"
   ]
  },
  {
   "cell_type": "markdown",
   "metadata": {},
   "source": [
    "#### Vanilla"
   ]
  },
  {
   "cell_type": "code",
   "execution_count": null,
   "metadata": {
    "collapsed": true
   },
   "outputs": [],
   "source": [
    "# alpha=1.0, fit_prior=True, class_prior=None\n",
    "model_mnb_vanilla = MultinomialNB()"
   ]
  },
  {
   "cell_type": "code",
   "execution_count": 391,
   "metadata": {
    "collapsed": false
   },
   "outputs": [
    {
     "data": {
      "text/plain": [
       "0.62527190033616764"
      ]
     },
     "execution_count": 391,
     "metadata": {},
     "output_type": "execute_result"
    }
   ],
   "source": [
    "prediction_from_model(model_mnb_vanilla, X_train, y_train, y_test) # 0.62527190033616764"
   ]
  },
  {
   "cell_type": "markdown",
   "metadata": {},
   "source": [
    "#### Optimized"
   ]
  },
  {
   "cell_type": "code",
   "execution_count": 430,
   "metadata": {
    "collapsed": true
   },
   "outputs": [],
   "source": [
    "model_mnb = MultinomialNB(alpha=0.08)"
   ]
  },
  {
   "cell_type": "code",
   "execution_count": 431,
   "metadata": {
    "collapsed": false
   },
   "outputs": [
    {
     "data": {
      "text/plain": [
       "0.77026346702466875"
      ]
     },
     "execution_count": 431,
     "metadata": {},
     "output_type": "execute_result"
    }
   ],
   "source": [
    "prediction_from_model(model_mnb, X_train, y_train, y_test) # 0.77026346702466875"
   ]
  },
  {
   "cell_type": "markdown",
   "metadata": {},
   "source": [
    "### Linear SVC"
   ]
  },
  {
   "cell_type": "code",
   "execution_count": null,
   "metadata": {
    "collapsed": true
   },
   "outputs": [],
   "source": [
    "from sklearn.svm import LinearSVC, SVC"
   ]
  },
  {
   "cell_type": "markdown",
   "metadata": {},
   "source": [
    "#### Vanilla"
   ]
  },
  {
   "cell_type": "code",
   "execution_count": 388,
   "metadata": {
    "collapsed": false
   },
   "outputs": [],
   "source": [
    "# model_svm_vanilla = LinearSVC()\n",
    "\n",
    "# Needed due to lack of predict_proba() for LinearSVC -> very slow\n",
    "model_svm_vanilla = SVC(random_state=seed, kernel='linear', probability=True)"
   ]
  },
  {
   "cell_type": "code",
   "execution_count": 389,
   "metadata": {
    "collapsed": false
   },
   "outputs": [
    {
     "name": "stdout",
     "output_type": "stream",
     "text": [
      "CPU times: user 15min 32s, sys: 4.31 s, total: 15min 36s\n",
      "Wall time: 15min 40s\n"
     ]
    },
    {
     "data": {
      "text/plain": [
       "0.77313276193807945"
      ]
     },
     "execution_count": 389,
     "metadata": {},
     "output_type": "execute_result"
    }
   ],
   "source": [
    "%%time\n",
    "prediction_from_model(model_svm_vanilla, X_train, y_train, y_test) # 0.77313276193807945"
   ]
  },
  {
   "cell_type": "markdown",
   "metadata": {},
   "source": [
    "#### Optimized"
   ]
  },
  {
   "cell_type": "code",
   "execution_count": 251,
   "metadata": {
    "collapsed": true
   },
   "outputs": [],
   "source": [
    "#model_svm = LinearSVC(C=1.0, class_weight='balanced') # 0.78895527208138228\n",
    "# Needed due to lack of predict_proba() for LinearSVC -> very slow\n",
    "# 0.78816793893129766\n",
    "model_svm = SVC(kernel='linear', probability=True, C=1.0, class_weight='balanced')"
   ]
  },
  {
   "cell_type": "code",
   "execution_count": 432,
   "metadata": {
    "collapsed": false
   },
   "outputs": [
    {
     "name": "stdout",
     "output_type": "stream",
     "text": [
      "CPU times: user 17min 46s, sys: 3.04 s, total: 17min 49s\n",
      "Wall time: 17min 51s\n"
     ]
    },
    {
     "data": {
      "text/plain": [
       "0.78816793893129766"
      ]
     },
     "execution_count": 432,
     "metadata": {},
     "output_type": "execute_result"
    }
   ],
   "source": [
    "%%time\n",
    "prediction_from_model(model_svm, X_train, y_train, y_test) # 0.78816793893129766"
   ]
  },
  {
   "cell_type": "markdown",
   "metadata": {},
   "source": [
    "### SVC"
   ]
  },
  {
   "cell_type": "markdown",
   "metadata": {},
   "source": [
    "#### Vanilla"
   ]
  },
  {
   "cell_type": "code",
   "execution_count": 441,
   "metadata": {
    "collapsed": true
   },
   "outputs": [],
   "source": [
    "model_svc_vanilla = SVC()"
   ]
  },
  {
   "cell_type": "code",
   "execution_count": 442,
   "metadata": {
    "collapsed": false
   },
   "outputs": [
    {
     "name": "stdout",
     "output_type": "stream",
     "text": [
      "CPU times: user 3min 8s, sys: 961 ms, total: 3min 9s\n",
      "Wall time: 3min 10s\n"
     ]
    },
    {
     "name": "stderr",
     "output_type": "stream",
     "text": [
      "//anaconda/envs/python3/lib/python3.5/site-packages/sklearn/svm/base.py:196: FutureWarning: The default value of gamma will change from 'auto' to 'scale' in version 0.22 to account better for unscaled features. Set gamma explicitly to 'auto' or 'scale' to avoid this warning.\n",
      "  \"avoid this warning.\", FutureWarning)\n"
     ]
    },
    {
     "data": {
      "text/plain": [
       "0.51270131163871824"
      ]
     },
     "execution_count": 442,
     "metadata": {},
     "output_type": "execute_result"
    }
   ],
   "source": [
    "%%time\n",
    "prediction_from_model(model_svc_vanilla, X_train, y_train, y_test) # 0.51270131163871824"
   ]
  },
  {
   "cell_type": "markdown",
   "metadata": {},
   "source": [
    "#### Optimized"
   ]
  },
  {
   "cell_type": "code",
   "execution_count": 443,
   "metadata": {
    "collapsed": true
   },
   "outputs": [],
   "source": [
    "model_svc = SVC(C=15900.0, class_weight='balanced', cache_size=500)"
   ]
  },
  {
   "cell_type": "code",
   "execution_count": 444,
   "metadata": {
    "collapsed": false
   },
   "outputs": [
    {
     "name": "stdout",
     "output_type": "stream",
     "text": [
      "CPU times: user 3min 40s, sys: 996 ms, total: 3min 41s\n",
      "Wall time: 3min 42s\n"
     ]
    },
    {
     "name": "stderr",
     "output_type": "stream",
     "text": [
      "//anaconda/envs/python3/lib/python3.5/site-packages/sklearn/svm/base.py:196: FutureWarning: The default value of gamma will change from 'auto' to 'scale' in version 0.22 to account better for unscaled features. Set gamma explicitly to 'auto' or 'scale' to avoid this warning.\n",
      "  \"avoid this warning.\", FutureWarning)\n"
     ]
    },
    {
     "data": {
      "text/plain": [
       "0.78778083077420391"
      ]
     },
     "execution_count": 444,
     "metadata": {},
     "output_type": "execute_result"
    }
   ],
   "source": [
    "%%time\n",
    "prediction_from_model(model_svc, X_train, y_train, y_test) # 0.78778083077420391"
   ]
  },
  {
   "cell_type": "markdown",
   "metadata": {},
   "source": [
    "### Ensemble"
   ]
  },
  {
   "cell_type": "code",
   "execution_count": null,
   "metadata": {
    "collapsed": true
   },
   "outputs": [],
   "source": [
    "ensemble = VotingClassifier(estimators=[('Logistic Regression', model_lr),\n",
    "                                        ('KNN', model_knn),\n",
    "                                        ('Naive Bayes', model_mnb)],\n",
    "                            voting='soft')"
   ]
  },
  {
   "cell_type": "code",
   "execution_count": 459,
   "metadata": {
    "collapsed": true
   },
   "outputs": [],
   "source": [
    "#model_dt\n",
    "#model_rf\n",
    "#model_mnb\n",
    "#model_knn\n",
    "#model_svc\n",
    "#model_svm\n",
    "#model_lr\n",
    "top2_estimators = [('4', model_knn), ('7', model_lr)]\n",
    "\n",
    "top2b_estimators = [('3', model_mnb), ('7', model_lr)]\n",
    "\n",
    "top3_estimators = [('3', model_mnb), ('4', model_knn), ('7', model_lr)]\n",
    "\n",
    "all_estimators = [('1', model_dt),('2', model_rf), ('3', model_mnb), ('4', model_knn), ('7', model_lr)]\n",
    "\n",
    "ensemble_top2 = VotingClassifier(estimators=top2_estimators,\n",
    "                            voting='soft')\n",
    "\n",
    "ensemble_top2b = VotingClassifier(estimators=top2b_estimators,\n",
    "                            voting='soft')\n",
    "\n",
    "ensemble_top3 = VotingClassifier(estimators=top3_estimators,\n",
    "                            voting='soft')\n",
    "\n",
    "ensemble_all = VotingClassifier(estimators=all_estimators,\n",
    "                            voting='soft')\n",
    "# Soft (cannot use hard because predict_proba is not defined)\n",
    "# model_lr, model_knn, model_mnb: 0.79495052882975081"
   ]
  },
  {
   "cell_type": "code",
   "execution_count": 456,
   "metadata": {
    "collapsed": false
   },
   "outputs": [
    {
     "name": "stdout",
     "output_type": "stream",
     "text": [
      "[LibLinear][LibLinear][LibLinear][LibLinear][LibLinear][LibLinear][LibLinear][LibLinear]CPU times: user 15.7 s, sys: 42.3 s, total: 57.9 s\n",
      "Wall time: 55.8 s\n"
     ]
    },
    {
     "data": {
      "text/plain": [
       "0.80006788866259326"
      ]
     },
     "execution_count": 456,
     "metadata": {},
     "output_type": "execute_result"
    }
   ],
   "source": [
    "%%time\n",
    "prediction_from_model(ensemble_top2, X_train, y_train, y_test) # 0.80006788866259326"
   ]
  },
  {
   "cell_type": "code",
   "execution_count": 460,
   "metadata": {
    "collapsed": false
   },
   "outputs": [
    {
     "name": "stdout",
     "output_type": "stream",
     "text": [
      "[LibLinear][LibLinear][LibLinear][LibLinear][LibLinear][LibLinear][LibLinear][LibLinear]CPU times: user 7.84 s, sys: 225 ms, total: 8.06 s\n",
      "Wall time: 2.06 s\n"
     ]
    },
    {
     "data": {
      "text/plain": [
       "0.79670239076669425"
      ]
     },
     "execution_count": 460,
     "metadata": {},
     "output_type": "execute_result"
    }
   ],
   "source": [
    "%%time\n",
    "prediction_from_model(ensemble_top2b, X_train, y_train, y_test) # 0.79670239076669425"
   ]
  },
  {
   "cell_type": "code",
   "execution_count": 457,
   "metadata": {
    "collapsed": false
   },
   "outputs": [
    {
     "name": "stdout",
     "output_type": "stream",
     "text": [
      "[LibLinear][LibLinear][LibLinear][LibLinear][LibLinear][LibLinear][LibLinear][LibLinear]CPU times: user 15.7 s, sys: 41.6 s, total: 57.3 s\n",
      "Wall time: 54.6 s\n"
     ]
    },
    {
     "data": {
      "text/plain": [
       "0.79495052882975081"
      ]
     },
     "execution_count": 457,
     "metadata": {},
     "output_type": "execute_result"
    }
   ],
   "source": [
    "%%time\n",
    "prediction_from_model(ensemble_top3, X_train, y_train, y_test) # 0.79495052882975081"
   ]
  },
  {
   "cell_type": "code",
   "execution_count": 458,
   "metadata": {
    "collapsed": false
   },
   "outputs": [
    {
     "name": "stdout",
     "output_type": "stream",
     "text": [
      "[LibLinear][LibLinear][LibLinear][LibLinear][LibLinear][LibLinear][LibLinear][LibLinear]CPU times: user 2min 48s, sys: 41.4 s, total: 3min 29s\n",
      "Wall time: 3min 23s\n"
     ]
    },
    {
     "data": {
      "text/plain": [
       "0.77105907025515563"
      ]
     },
     "execution_count": 458,
     "metadata": {},
     "output_type": "execute_result"
    }
   ],
   "source": [
    "%%time\n",
    "prediction_from_model(ensemble_all, X_train, y_train, y_test) # 0.77105907025515563"
   ]
  }
 ],
 "metadata": {
  "kernelspec": {
   "display_name": "Python 3",
   "language": "python",
   "name": "python3"
  },
  "language_info": {
   "codemirror_mode": {
    "name": "ipython",
    "version": 3
   },
   "file_extension": ".py",
   "mimetype": "text/x-python",
   "name": "python",
   "nbconvert_exporter": "python",
   "pygments_lexer": "ipython3",
   "version": "3.5.0"
  }
 },
 "nbformat": 4,
 "nbformat_minor": 0
}
