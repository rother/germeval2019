{
 "cells": [
  {
   "cell_type": "code",
   "execution_count": 1,
   "metadata": {
    "collapsed": false
   },
   "outputs": [
    {
     "name": "stderr",
     "output_type": "stream",
     "text": [
      "//anaconda/envs/python3/lib/python3.5/site-packages/sklearn/utils/fixes.py:313: FutureWarning: numpy not_equal will not check object identity in the future. The comparison did not return the same result as suggested by the identity (`is`)) and will change.\n",
      "  _nan_object_mask = _nan_object_array != _nan_object_array\n"
     ]
    }
   ],
   "source": [
    "import pandas as pd, numpy as np\n",
    "from sklearn.linear_model import LogisticRegression\n",
    "from sklearn.feature_extraction.text import CountVectorizer, TfidfVectorizer"
   ]
  },
  {
   "cell_type": "code",
   "execution_count": 2,
   "metadata": {
    "collapsed": true
   },
   "outputs": [],
   "source": [
    "# Uncomment to get complete text output and not truncated text from data frames\n",
    "pd.set_option('display.max_colwidth', -1)"
   ]
  },
  {
   "cell_type": "code",
   "execution_count": 3,
   "metadata": {
    "collapsed": true
   },
   "outputs": [],
   "source": [
    "# 2018 Files\n",
    "# Train: 5009 labeled\n",
    "# Test: 3532 labeled\n",
    "\n",
    "#file_head = 'germeval2018_training.csv' # 5009 labeled\n",
    "#file_testset = 'germeval2018_test.csv'\n",
    "\n",
    "# For submission\n",
    "#file_head = 'germeval2019_training_subtask12.csv' \n",
    "file_train18 = 'germeval2018.training.txt' # 5009 labeled\n",
    "file_test18 = 'germeval2018.test_.txt' # 3532 labeled\n",
    "file_train19 = 'germeval2019_training_subtask12.txt' # 3995 labeled (removed one problem-tweet -> 3994)\n",
    "file_list = [file_train18, file_test18, file_train19] # should be length 12.536\n",
    "\n",
    "file_testset = 'germeval2019_Testdata_Subtask12.txt' # 3031 unlabeled"
   ]
  },
  {
   "cell_type": "code",
   "execution_count": 4,
   "metadata": {
    "collapsed": false
   },
   "outputs": [
    {
     "name": "stderr",
     "output_type": "stream",
     "text": [
      "//anaconda/envs/python3/lib/python3.5/site-packages/ipykernel/__main__.py:6: ParserWarning: Falling back to the 'python' engine because the 'c' engine does not support regex separators (separators > 1 char and different from '\\s+' are interpreted as regex); you can avoid this warning by specifying engine='python'.\n"
     ]
    }
   ],
   "source": [
    "# Dev\n",
    "#df_tweets_tsh = pd.read_csv(file_head, delimiter='\\t', header=None)\n",
    "\n",
    "# Submission\n",
    "df_tweets_tsh = pd.concat([pd.read_csv(f, delimiter='\\t', header=None) for f in file_list ])\n",
    "test = pd.read_csv(file_testset, sep='\\r\\n', encoding='utf-8-sig', header=None, names=['text', 'label', 'fine'])"
   ]
  },
  {
   "cell_type": "code",
   "execution_count": 5,
   "metadata": {
    "collapsed": true
   },
   "outputs": [],
   "source": [
    "#f0 = pd.read_csv(file_testset, delimiter='\\t', header=None)\n",
    "#f1 = pd.read_csv(file_train18, delimiter='\\t', header=None)\n",
    "#f2 = pd.read_csv(file_test18, delimiter='\\t', header=None)\n",
    "#f3 = pd.read_csv(file_train19, delimiter='\\t', encoding='utf-8-sig', header=None)\n",
    "#len(f0), len(f1), len(f2), len(f3) # (3031, 5009, 3398, 3994)\n",
    "#f3[3780:3820] # +1 # 3780 ok -> 3820 falsch -> 3789/3790 = problem"
   ]
  },
  {
   "cell_type": "code",
   "execution_count": 6,
   "metadata": {
    "collapsed": false
   },
   "outputs": [
    {
     "data": {
      "text/plain": [
       "(12387, 3031)"
      ]
     },
     "execution_count": 6,
     "metadata": {},
     "output_type": "execute_result"
    }
   ],
   "source": [
    "len(df_tweets_tsh), len(test)"
   ]
  },
  {
   "cell_type": "markdown",
   "metadata": {},
   "source": [
    "### Fix the Seed for Reproducible Results"
   ]
  },
  {
   "cell_type": "code",
   "execution_count": 7,
   "metadata": {
    "collapsed": true
   },
   "outputs": [],
   "source": [
    "import random\n",
    "\n",
    "seed = 23\n",
    "#torch.manual_seed(seed)\n",
    "#torch.cuda.manual_seed_all(seed)\n",
    "np.random.seed(seed)\n",
    "random.seed(seed)"
   ]
  },
  {
   "cell_type": "code",
   "execution_count": 8,
   "metadata": {
    "collapsed": true
   },
   "outputs": [],
   "source": [
    "import re\n",
    "def my_preprocess_text(in_text):\n",
    "    username_re = re.compile(r'(^|[^@\\w])@(\\w{1,15})\\b') # @username\n",
    "    url_re = re.compile(r'http\\S+') # urls\n",
    "    in_text = re.sub('RT', '', in_text.rstrip()) # remove \"RT\"\n",
    "    in_text = re.sub('\\:', '', in_text.rstrip()) # remove \":\"\n",
    "    in_text = re.sub('\\'s', '', in_text.rstrip()) # remove \"'s\" -> try without this\n",
    "    in_text = re.sub('#', '', in_text.rstrip()) # remove \"#\"\n",
    "    in_text = re.sub(url_re, 'xx_url', in_text.rstrip()) # replace urls with xx_url\n",
    "    return re.sub(username_re, ' xx_username', in_text.rstrip()).lstrip() # replace @username with xx_username\n",
    "    # TODO: replace multiple usernames in a row ?! "
   ]
  },
  {
   "cell_type": "code",
   "execution_count": 9,
   "metadata": {
    "collapsed": false
   },
   "outputs": [
    {
     "data": {
      "text/html": [
       "<div>\n",
       "<style scoped>\n",
       "    .dataframe tbody tr th:only-of-type {\n",
       "        vertical-align: middle;\n",
       "    }\n",
       "\n",
       "    .dataframe tbody tr th {\n",
       "        vertical-align: top;\n",
       "    }\n",
       "\n",
       "    .dataframe thead th {\n",
       "        text-align: right;\n",
       "    }\n",
       "</style>\n",
       "<table border=\"1\" class=\"dataframe\">\n",
       "  <thead>\n",
       "    <tr style=\"text-align: right;\">\n",
       "      <th></th>\n",
       "      <th>0</th>\n",
       "      <th>1</th>\n",
       "      <th>2</th>\n",
       "    </tr>\n",
       "  </thead>\n",
       "  <tbody>\n",
       "    <tr>\n",
       "      <th>0</th>\n",
       "      <td>xx_username Liebe Corinna, wir würden dich gerne als Moderatorin für uns gewinnen! Wärst du begeisterbar?</td>\n",
       "      <td>OTHER</td>\n",
       "      <td>OTHER</td>\n",
       "    </tr>\n",
       "    <tr>\n",
       "      <th>1</th>\n",
       "      <td>xx_username Sie haben ja auch Recht. Unser Tweet war etwas missverständlich. Dass das BVerfG Sachleistungen nicht ausschließt, kritisieren wir.</td>\n",
       "      <td>OTHER</td>\n",
       "      <td>OTHER</td>\n",
       "    </tr>\n",
       "    <tr>\n",
       "      <th>2</th>\n",
       "      <td>xx_username fröhlicher gruß aus der schönsten stadt der welt theo ⚓️</td>\n",
       "      <td>OTHER</td>\n",
       "      <td>OTHER</td>\n",
       "    </tr>\n",
       "    <tr>\n",
       "      <th>3</th>\n",
       "      <td>xx_username Amis hätten alles und jeden gewählt...nur Hillary wollten sie nicht und eine Fortsetzung von Obama-Politik erst recht nicht..!</td>\n",
       "      <td>OTHER</td>\n",
       "      <td>OTHER</td>\n",
       "    </tr>\n",
       "    <tr>\n",
       "      <th>4</th>\n",
       "      <td>xx_username kein verläßlicher Verhandlungspartner. Nachkarteln nach den Sondierzngsgesprächen - schickt diese Stümper SPD in die Versenkung.</td>\n",
       "      <td>OFFENSE</td>\n",
       "      <td>INSULT</td>\n",
       "    </tr>\n",
       "  </tbody>\n",
       "</table>\n",
       "</div>"
      ],
      "text/plain": [
       "                                                                                                                                                 0  \\\n",
       "0  xx_username Liebe Corinna, wir würden dich gerne als Moderatorin für uns gewinnen! Wärst du begeisterbar?                                         \n",
       "1  xx_username Sie haben ja auch Recht. Unser Tweet war etwas missverständlich. Dass das BVerfG Sachleistungen nicht ausschließt, kritisieren wir.   \n",
       "2  xx_username fröhlicher gruß aus der schönsten stadt der welt theo ⚓️                                                                              \n",
       "3  xx_username Amis hätten alles und jeden gewählt...nur Hillary wollten sie nicht und eine Fortsetzung von Obama-Politik erst recht nicht..!        \n",
       "4  xx_username kein verläßlicher Verhandlungspartner. Nachkarteln nach den Sondierzngsgesprächen - schickt diese Stümper SPD in die Versenkung.      \n",
       "\n",
       "         1       2  \n",
       "0  OTHER    OTHER   \n",
       "1  OTHER    OTHER   \n",
       "2  OTHER    OTHER   \n",
       "3  OTHER    OTHER   \n",
       "4  OFFENSE  INSULT  "
      ]
     },
     "execution_count": 9,
     "metadata": {},
     "output_type": "execute_result"
    }
   ],
   "source": [
    "df_tweets_tsh[0] = df_tweets_tsh[0].apply(my_preprocess_text)\n",
    "df_tweets_tsh.head()"
   ]
  },
  {
   "cell_type": "code",
   "execution_count": 10,
   "metadata": {
    "collapsed": false
   },
   "outputs": [
    {
     "data": {
      "text/html": [
       "<div>\n",
       "<style scoped>\n",
       "    .dataframe tbody tr th:only-of-type {\n",
       "        vertical-align: middle;\n",
       "    }\n",
       "\n",
       "    .dataframe tbody tr th {\n",
       "        vertical-align: top;\n",
       "    }\n",
       "\n",
       "    .dataframe thead th {\n",
       "        text-align: right;\n",
       "    }\n",
       "</style>\n",
       "<table border=\"1\" class=\"dataframe\">\n",
       "  <thead>\n",
       "    <tr style=\"text-align: right;\">\n",
       "      <th></th>\n",
       "      <th>text</th>\n",
       "      <th>label</th>\n",
       "      <th>fine</th>\n",
       "    </tr>\n",
       "  </thead>\n",
       "  <tbody>\n",
       "    <tr>\n",
       "      <th>0</th>\n",
       "      <td>xx_username xx_username Komisch das die Realitätsverweigerung immer von linken erbärmlichen Correctiv Accounts ausgeht...</td>\n",
       "      <td>NaN</td>\n",
       "      <td>NaN</td>\n",
       "    </tr>\n",
       "    <tr>\n",
       "      <th>1</th>\n",
       "      <td>xx_username xx_username xx_username xx_username CDU steht seid Strauss, Kohl, Schäuble, vdLeyen für Korruption, Schwarzgeld, und dies überall...</td>\n",
       "      <td>NaN</td>\n",
       "      <td>NaN</td>\n",
       "    </tr>\n",
       "    <tr>\n",
       "      <th>2</th>\n",
       "      <td>xx_username Die Gesichter, Namen, Religion der Täter würde zur Aufklärung beitragen...</td>\n",
       "      <td>NaN</td>\n",
       "      <td>NaN</td>\n",
       "    </tr>\n",
       "    <tr>\n",
       "      <th>3</th>\n",
       "      <td>xx_username Wie verwirrt muss man sein um sich zu weigern die Tatsachen anzuerkennen, das dieser Hass von Ferkel importiert wurde....was bezweckt man damit sich selber so zu belügen, unverständlich</td>\n",
       "      <td>NaN</td>\n",
       "      <td>NaN</td>\n",
       "    </tr>\n",
       "    <tr>\n",
       "      <th>4</th>\n",
       "      <td>xx_username xx_username Weil die AfD den Ferkelfunk abschaffen will, deshalb haben die Linken Zecken, Schmarotzer Angst für ihr kacken arbeiten zu müssen, deshalb sind die Führer treu und senden jeden Dreck, Lüge...</td>\n",
       "      <td>NaN</td>\n",
       "      <td>NaN</td>\n",
       "    </tr>\n",
       "  </tbody>\n",
       "</table>\n",
       "</div>"
      ],
      "text/plain": [
       "                                                                                                                                                                                                                      text  \\\n",
       "0  xx_username xx_username Komisch das die Realitätsverweigerung immer von linken erbärmlichen Correctiv Accounts ausgeht...                                                                                                 \n",
       "1  xx_username xx_username xx_username xx_username CDU steht seid Strauss, Kohl, Schäuble, vdLeyen für Korruption, Schwarzgeld, und dies überall...                                                                          \n",
       "2  xx_username Die Gesichter, Namen, Religion der Täter würde zur Aufklärung beitragen...                                                                                                                                    \n",
       "3  xx_username Wie verwirrt muss man sein um sich zu weigern die Tatsachen anzuerkennen, das dieser Hass von Ferkel importiert wurde....was bezweckt man damit sich selber so zu belügen, unverständlich                     \n",
       "4  xx_username xx_username Weil die AfD den Ferkelfunk abschaffen will, deshalb haben die Linken Zecken, Schmarotzer Angst für ihr kacken arbeiten zu müssen, deshalb sind die Führer treu und senden jeden Dreck, Lüge...   \n",
       "\n",
       "   label  fine  \n",
       "0 NaN    NaN    \n",
       "1 NaN    NaN    \n",
       "2 NaN    NaN    \n",
       "3 NaN    NaN    \n",
       "4 NaN    NaN    "
      ]
     },
     "execution_count": 10,
     "metadata": {},
     "output_type": "execute_result"
    }
   ],
   "source": [
    "test['text'] = test['text'].apply(my_preprocess_text)\n",
    "test.head()"
   ]
  },
  {
   "cell_type": "code",
   "execution_count": 11,
   "metadata": {
    "collapsed": false
   },
   "outputs": [
    {
     "data": {
      "text/html": [
       "<div>\n",
       "<style scoped>\n",
       "    .dataframe tbody tr th:only-of-type {\n",
       "        vertical-align: middle;\n",
       "    }\n",
       "\n",
       "    .dataframe tbody tr th {\n",
       "        vertical-align: top;\n",
       "    }\n",
       "\n",
       "    .dataframe thead th {\n",
       "        text-align: right;\n",
       "    }\n",
       "</style>\n",
       "<table border=\"1\" class=\"dataframe\">\n",
       "  <thead>\n",
       "    <tr style=\"text-align: right;\">\n",
       "      <th></th>\n",
       "      <th>text</th>\n",
       "      <th>labels</th>\n",
       "      <th>other</th>\n",
       "      <th>offense</th>\n",
       "    </tr>\n",
       "  </thead>\n",
       "  <tbody>\n",
       "    <tr>\n",
       "      <th>0</th>\n",
       "      <td>xx_username Liebe Corinna, wir würden dich gerne als Moderatorin für uns gewinnen! Wärst du begeisterbar?</td>\n",
       "      <td>OTHER</td>\n",
       "      <td>1</td>\n",
       "      <td>0</td>\n",
       "    </tr>\n",
       "    <tr>\n",
       "      <th>1</th>\n",
       "      <td>xx_username Sie haben ja auch Recht. Unser Tweet war etwas missverständlich. Dass das BVerfG Sachleistungen nicht ausschließt, kritisieren wir.</td>\n",
       "      <td>OTHER</td>\n",
       "      <td>1</td>\n",
       "      <td>0</td>\n",
       "    </tr>\n",
       "    <tr>\n",
       "      <th>2</th>\n",
       "      <td>xx_username fröhlicher gruß aus der schönsten stadt der welt theo ⚓️</td>\n",
       "      <td>OTHER</td>\n",
       "      <td>1</td>\n",
       "      <td>0</td>\n",
       "    </tr>\n",
       "    <tr>\n",
       "      <th>3</th>\n",
       "      <td>xx_username Amis hätten alles und jeden gewählt...nur Hillary wollten sie nicht und eine Fortsetzung von Obama-Politik erst recht nicht..!</td>\n",
       "      <td>OTHER</td>\n",
       "      <td>1</td>\n",
       "      <td>0</td>\n",
       "    </tr>\n",
       "    <tr>\n",
       "      <th>4</th>\n",
       "      <td>xx_username kein verläßlicher Verhandlungspartner. Nachkarteln nach den Sondierzngsgesprächen - schickt diese Stümper SPD in die Versenkung.</td>\n",
       "      <td>OFFENSE</td>\n",
       "      <td>0</td>\n",
       "      <td>1</td>\n",
       "    </tr>\n",
       "  </tbody>\n",
       "</table>\n",
       "</div>"
      ],
      "text/plain": [
       "                                                                                                                                              text  \\\n",
       "0  xx_username Liebe Corinna, wir würden dich gerne als Moderatorin für uns gewinnen! Wärst du begeisterbar?                                         \n",
       "1  xx_username Sie haben ja auch Recht. Unser Tweet war etwas missverständlich. Dass das BVerfG Sachleistungen nicht ausschließt, kritisieren wir.   \n",
       "2  xx_username fröhlicher gruß aus der schönsten stadt der welt theo ⚓️                                                                              \n",
       "3  xx_username Amis hätten alles und jeden gewählt...nur Hillary wollten sie nicht und eine Fortsetzung von Obama-Politik erst recht nicht..!        \n",
       "4  xx_username kein verläßlicher Verhandlungspartner. Nachkarteln nach den Sondierzngsgesprächen - schickt diese Stümper SPD in die Versenkung.      \n",
       "\n",
       "    labels  other  offense  \n",
       "0  OTHER    1      0        \n",
       "1  OTHER    1      0        \n",
       "2  OTHER    1      0        \n",
       "3  OTHER    1      0        \n",
       "4  OFFENSE  0      1        "
      ]
     },
     "execution_count": 11,
     "metadata": {},
     "output_type": "execute_result"
    }
   ],
   "source": [
    "# Transform from the format text, binary, fine to\n",
    "# text, other, offense for binary classification\n",
    "# 1) Copy\n",
    "df_tweets_tsh_new = df_tweets_tsh.copy()\n",
    "# 2) Remove 3rd column\n",
    "del(df_tweets_tsh_new[2])\n",
    "# 3) Add 'other', 'offense' and use column names\n",
    "df_tweets_tsh_new.columns = ['text', 'labels']\n",
    "df_tweets_tsh_new['other'] = 0\n",
    "df_tweets_tsh_new['offense'] = 0\n",
    "# 4) Fill 'other' and 'offense'\n",
    "mask_other = df_tweets_tsh_new.labels == 'OTHER'\n",
    "mask_offense = df_tweets_tsh_new.labels == 'OFFENSE'\n",
    "\n",
    "df_tweets_tsh_new.loc[mask_other, 'other'] = 1\n",
    "df_tweets_tsh_new.loc[mask_offense, 'offense'] = 1\n",
    "df_tweets_tsh_new.head()"
   ]
  },
  {
   "cell_type": "code",
   "execution_count": 12,
   "metadata": {
    "collapsed": true
   },
   "outputs": [],
   "source": [
    "# Use all tweets for training\n",
    "train_df_tweets_tsh = df_tweets_tsh_new.copy()"
   ]
  },
  {
   "cell_type": "code",
   "execution_count": 13,
   "metadata": {
    "collapsed": false
   },
   "outputs": [
    {
     "data": {
      "text/html": [
       "<div>\n",
       "<style scoped>\n",
       "    .dataframe tbody tr th:only-of-type {\n",
       "        vertical-align: middle;\n",
       "    }\n",
       "\n",
       "    .dataframe tbody tr th {\n",
       "        vertical-align: top;\n",
       "    }\n",
       "\n",
       "    .dataframe thead th {\n",
       "        text-align: right;\n",
       "    }\n",
       "</style>\n",
       "<table border=\"1\" class=\"dataframe\">\n",
       "  <thead>\n",
       "    <tr style=\"text-align: right;\">\n",
       "      <th></th>\n",
       "      <th>text</th>\n",
       "      <th>labels</th>\n",
       "      <th>other</th>\n",
       "      <th>offense</th>\n",
       "    </tr>\n",
       "  </thead>\n",
       "  <tbody>\n",
       "    <tr>\n",
       "      <th>0</th>\n",
       "      <td>xx_username Liebe Corinna, wir würden dich gerne als Moderatorin für uns gewinnen! Wärst du begeisterbar?</td>\n",
       "      <td>OTHER</td>\n",
       "      <td>1</td>\n",
       "      <td>0</td>\n",
       "    </tr>\n",
       "    <tr>\n",
       "      <th>1</th>\n",
       "      <td>xx_username Sie haben ja auch Recht. Unser Tweet war etwas missverständlich. Dass das BVerfG Sachleistungen nicht ausschließt, kritisieren wir.</td>\n",
       "      <td>OTHER</td>\n",
       "      <td>1</td>\n",
       "      <td>0</td>\n",
       "    </tr>\n",
       "    <tr>\n",
       "      <th>2</th>\n",
       "      <td>xx_username fröhlicher gruß aus der schönsten stadt der welt theo ⚓️</td>\n",
       "      <td>OTHER</td>\n",
       "      <td>1</td>\n",
       "      <td>0</td>\n",
       "    </tr>\n",
       "    <tr>\n",
       "      <th>3</th>\n",
       "      <td>xx_username Amis hätten alles und jeden gewählt...nur Hillary wollten sie nicht und eine Fortsetzung von Obama-Politik erst recht nicht..!</td>\n",
       "      <td>OTHER</td>\n",
       "      <td>1</td>\n",
       "      <td>0</td>\n",
       "    </tr>\n",
       "    <tr>\n",
       "      <th>4</th>\n",
       "      <td>xx_username kein verläßlicher Verhandlungspartner. Nachkarteln nach den Sondierzngsgesprächen - schickt diese Stümper SPD in die Versenkung.</td>\n",
       "      <td>OFFENSE</td>\n",
       "      <td>0</td>\n",
       "      <td>1</td>\n",
       "    </tr>\n",
       "  </tbody>\n",
       "</table>\n",
       "</div>"
      ],
      "text/plain": [
       "                                                                                                                                              text  \\\n",
       "0  xx_username Liebe Corinna, wir würden dich gerne als Moderatorin für uns gewinnen! Wärst du begeisterbar?                                         \n",
       "1  xx_username Sie haben ja auch Recht. Unser Tweet war etwas missverständlich. Dass das BVerfG Sachleistungen nicht ausschließt, kritisieren wir.   \n",
       "2  xx_username fröhlicher gruß aus der schönsten stadt der welt theo ⚓️                                                                              \n",
       "3  xx_username Amis hätten alles und jeden gewählt...nur Hillary wollten sie nicht und eine Fortsetzung von Obama-Politik erst recht nicht..!        \n",
       "4  xx_username kein verläßlicher Verhandlungspartner. Nachkarteln nach den Sondierzngsgesprächen - schickt diese Stümper SPD in die Versenkung.      \n",
       "\n",
       "    labels  other  offense  \n",
       "0  OTHER    1      0        \n",
       "1  OTHER    1      0        \n",
       "2  OTHER    1      0        \n",
       "3  OTHER    1      0        \n",
       "4  OFFENSE  0      1        "
      ]
     },
     "execution_count": 13,
     "metadata": {},
     "output_type": "execute_result"
    }
   ],
   "source": [
    "train_df_tweets_tsh.head()"
   ]
  },
  {
   "cell_type": "code",
   "execution_count": 14,
   "metadata": {
    "collapsed": false
   },
   "outputs": [
    {
     "data": {
      "text/plain": [
       "0    xx_username Liebe Corinna, wir würden dich gerne als Moderatorin für uns gewinnen! Wärst du begeisterbar?                   \n",
       "0    Meine Mutter hat mir erzählt, dass mein Vater einen Wahlkreiskandidaten nicht gewählt hat, weil der gegen die Homo-Ehe ist ☺\n",
       "0    xx_username Hat die Polizei keine Kanone mehr ? 20 mal in die Munition laufen lassen und Ruhe ist .                         \n",
       "Name: text, dtype: object"
      ]
     },
     "execution_count": 14,
     "metadata": {},
     "output_type": "execute_result"
    }
   ],
   "source": [
    "train_df_tweets_tsh.text[0]"
   ]
  },
  {
   "cell_type": "code",
   "execution_count": 15,
   "metadata": {
    "collapsed": false
   },
   "outputs": [
    {
     "data": {
      "text/plain": [
       "(141.51126180673288, 114.77643275298111, 4617)"
      ]
     },
     "execution_count": 15,
     "metadata": {},
     "output_type": "execute_result"
    }
   ],
   "source": [
    "lens = train_df_tweets_tsh.text.str.len()\n",
    "lens.mean(), lens.std(), lens.max()"
   ]
  },
  {
   "cell_type": "code",
   "execution_count": 16,
   "metadata": {
    "collapsed": true
   },
   "outputs": [],
   "source": [
    "lens.hist();"
   ]
  },
  {
   "cell_type": "code",
   "execution_count": 17,
   "metadata": {
    "collapsed": true
   },
   "outputs": [],
   "source": [
    "# long_tweets = train_df_tweets_tsh.text.str.len() > 500 # ok, da diverse tokens verwendet werden\n",
    "# train_df_tweets_tsh[long_tweets]"
   ]
  },
  {
   "cell_type": "code",
   "execution_count": 18,
   "metadata": {
    "collapsed": false
   },
   "outputs": [
    {
     "data": {
      "text/html": [
       "<div>\n",
       "<style scoped>\n",
       "    .dataframe tbody tr th:only-of-type {\n",
       "        vertical-align: middle;\n",
       "    }\n",
       "\n",
       "    .dataframe tbody tr th {\n",
       "        vertical-align: top;\n",
       "    }\n",
       "\n",
       "    .dataframe thead th {\n",
       "        text-align: right;\n",
       "    }\n",
       "</style>\n",
       "<table border=\"1\" class=\"dataframe\">\n",
       "  <thead>\n",
       "    <tr style=\"text-align: right;\">\n",
       "      <th></th>\n",
       "      <th>other</th>\n",
       "      <th>offense</th>\n",
       "      <th>none</th>\n",
       "    </tr>\n",
       "  </thead>\n",
       "  <tbody>\n",
       "    <tr>\n",
       "      <th>count</th>\n",
       "      <td>12387.000000</td>\n",
       "      <td>12387.000000</td>\n",
       "      <td>12387.0</td>\n",
       "    </tr>\n",
       "    <tr>\n",
       "      <th>mean</th>\n",
       "      <td>0.667393</td>\n",
       "      <td>0.332607</td>\n",
       "      <td>0.0</td>\n",
       "    </tr>\n",
       "    <tr>\n",
       "      <th>std</th>\n",
       "      <td>0.471166</td>\n",
       "      <td>0.471166</td>\n",
       "      <td>0.0</td>\n",
       "    </tr>\n",
       "    <tr>\n",
       "      <th>min</th>\n",
       "      <td>0.000000</td>\n",
       "      <td>0.000000</td>\n",
       "      <td>0.0</td>\n",
       "    </tr>\n",
       "    <tr>\n",
       "      <th>25%</th>\n",
       "      <td>0.000000</td>\n",
       "      <td>0.000000</td>\n",
       "      <td>0.0</td>\n",
       "    </tr>\n",
       "    <tr>\n",
       "      <th>50%</th>\n",
       "      <td>1.000000</td>\n",
       "      <td>0.000000</td>\n",
       "      <td>0.0</td>\n",
       "    </tr>\n",
       "    <tr>\n",
       "      <th>75%</th>\n",
       "      <td>1.000000</td>\n",
       "      <td>1.000000</td>\n",
       "      <td>0.0</td>\n",
       "    </tr>\n",
       "    <tr>\n",
       "      <th>max</th>\n",
       "      <td>1.000000</td>\n",
       "      <td>1.000000</td>\n",
       "      <td>0.0</td>\n",
       "    </tr>\n",
       "  </tbody>\n",
       "</table>\n",
       "</div>"
      ],
      "text/plain": [
       "              other       offense     none\n",
       "count  12387.000000  12387.000000  12387.0\n",
       "mean   0.667393      0.332607      0.0    \n",
       "std    0.471166      0.471166      0.0    \n",
       "min    0.000000      0.000000      0.0    \n",
       "25%    0.000000      0.000000      0.0    \n",
       "50%    1.000000      0.000000      0.0    \n",
       "75%    1.000000      1.000000      0.0    \n",
       "max    1.000000      1.000000      0.0    "
      ]
     },
     "execution_count": 18,
     "metadata": {},
     "output_type": "execute_result"
    }
   ],
   "source": [
    "label_cols = ['other', 'offense']\n",
    "train_df_tweets_tsh['none'] = 1-train_df_tweets_tsh[label_cols].max(axis=1)\n",
    "train_df_tweets_tsh.describe()"
   ]
  },
  {
   "cell_type": "code",
   "execution_count": 19,
   "metadata": {
    "collapsed": true
   },
   "outputs": [],
   "source": [
    "# None-Tokenizer works surprisingly well :o\n",
    "def tokenize_dummy(s):\n",
    "  return s.split(' ')"
   ]
  },
  {
   "cell_type": "code",
   "execution_count": 20,
   "metadata": {
    "collapsed": false
   },
   "outputs": [],
   "source": [
    "#from fastai import *\n",
    "#from fastai.text import *\n",
    "\n",
    "#tokenizer_fastai = Tokenizer(lang='de', n_cpus=8)"
   ]
  },
  {
   "cell_type": "code",
   "execution_count": 21,
   "metadata": {
    "collapsed": true
   },
   "outputs": [],
   "source": [
    "LEMMATIZE = False\n",
    "\n",
    "import spacy\n",
    "nlp = spacy.load('de')\n",
    "\n",
    "def tokenize_spacy(corpus, lemma=LEMMATIZE):\n",
    "  doc = nlp(corpus)\n",
    "  if lemma:\n",
    "    return list(str(x.lemma_) for x in doc) # lemma_ to get string instead of hash\n",
    "  else:\n",
    "    return list(str(x) for x in doc)"
   ]
  },
  {
   "cell_type": "code",
   "execution_count": 22,
   "metadata": {
    "collapsed": true
   },
   "outputs": [],
   "source": [
    "COMMENT = 'text'\n",
    "#n = train_df_tweets_tsh.shape[0]\n",
    "vec = TfidfVectorizer(analyzer='char', ngram_range=(3,6), tokenizer=tokenize_spacy,\n",
    "               min_df=4, max_df=0.4, strip_accents='unicode', use_idf=True,\n",
    "               smooth_idf=False, sublinear_tf=True, lowercase=True, binary=False)\n",
    "trn_term_doc = vec.fit_transform(train_df_tweets_tsh[COMMENT])\n",
    "test_term_doc = vec.transform(test[COMMENT])"
   ]
  },
  {
   "cell_type": "code",
   "execution_count": 23,
   "metadata": {
    "collapsed": false
   },
   "outputs": [
    {
     "data": {
      "text/plain": [
       "(<12387x142224 sparse matrix of type '<class 'numpy.float64'>'\n",
       " \twith 4974562 stored elements in Compressed Sparse Row format>,\n",
       " <3031x142224 sparse matrix of type '<class 'numpy.float64'>'\n",
       " \twith 1345018 stored elements in Compressed Sparse Row format>)"
      ]
     },
     "execution_count": 23,
     "metadata": {},
     "output_type": "execute_result"
    }
   ],
   "source": [
    "trn_term_doc, test_term_doc"
   ]
  },
  {
   "cell_type": "code",
   "execution_count": 24,
   "metadata": {
    "collapsed": true
   },
   "outputs": [],
   "source": [
    "#vec.vocabulary_\n",
    "#vec"
   ]
  },
  {
   "cell_type": "code",
   "execution_count": 25,
   "metadata": {
    "collapsed": true
   },
   "outputs": [],
   "source": [
    "def pr(y_i, y):\n",
    "    p = x[y==y_i].sum(0)\n",
    "    return (p+1) / ((y==y_i).sum()+1)"
   ]
  },
  {
   "cell_type": "code",
   "execution_count": 26,
   "metadata": {
    "collapsed": true
   },
   "outputs": [],
   "source": [
    "x = trn_term_doc\n",
    "test_x = test_term_doc"
   ]
  },
  {
   "cell_type": "code",
   "execution_count": 27,
   "metadata": {
    "collapsed": true
   },
   "outputs": [],
   "source": [
    "# other, offense\n",
    "class_weight = {0: 2, 1: 1}\n",
    "\n",
    "def get_mdl(y):\n",
    "    y = y.values\n",
    "    r = np.log(pr(1,y) / pr(0,y))\n",
    "    m = LogisticRegression(C=14.0, dual=False, solver='saga', multi_class='auto', penalty='l2', \n",
    "                           class_weight='balanced', max_iter=500) # class_weight='balanced'\n",
    "    x_nb = x.multiply(r)\n",
    "    return m.fit(x_nb, y), r"
   ]
  },
  {
   "cell_type": "code",
   "execution_count": 28,
   "metadata": {
    "collapsed": false
   },
   "outputs": [
    {
     "name": "stdout",
     "output_type": "stream",
     "text": [
      "fit other\n",
      "fit offense\n"
     ]
    }
   ],
   "source": [
    "preds = np.zeros((len(test), len(label_cols)))\n",
    "\n",
    "for i, j in enumerate(label_cols):\n",
    "    print('fit', j)\n",
    "    m,r = get_mdl(train_df_tweets_tsh[j])\n",
    "    preds[:,i] = m.predict_proba(test_x.multiply(r))[:,1]"
   ]
  },
  {
   "cell_type": "code",
   "execution_count": 29,
   "metadata": {
    "collapsed": true
   },
   "outputs": [],
   "source": [
    "# All predictions for the testset file\n",
    "predictions = pd.DataFrame(preds, columns = label_cols)\n",
    "#predictions"
   ]
  },
  {
   "cell_type": "code",
   "execution_count": 30,
   "metadata": {
    "collapsed": false
   },
   "outputs": [
    {
     "data": {
      "text/plain": [
       "'xx_username Genau der Piotoitsche Gelsenkirchener...wie gut das der Stempel noch frisch ist, dann kann man das toitsch sein sogar noch riechen...'"
      ]
     },
     "execution_count": 30,
     "metadata": {},
     "output_type": "execute_result"
    }
   ],
   "source": [
    "submission = test.copy()\n",
    "del(submission['fine'])\n",
    "submission['text'][21]"
   ]
  },
  {
   "cell_type": "code",
   "execution_count": 31,
   "metadata": {
    "collapsed": false,
    "scrolled": false
   },
   "outputs": [
    {
     "name": "stderr",
     "output_type": "stream",
     "text": [
      "//anaconda/envs/python3/lib/python3.5/site-packages/ipykernel/__main__.py:9: SettingWithCopyWarning: \n",
      "A value is trying to be set on a copy of a slice from a DataFrame\n",
      "\n",
      "See the caveats in the documentation: http://pandas.pydata.org/pandas-docs/stable/indexing.html#indexing-view-versus-copy\n",
      "//anaconda/envs/python3/lib/python3.5/site-packages/pandas/core/indexing.py:189: SettingWithCopyWarning: \n",
      "A value is trying to be set on a copy of a slice from a DataFrame\n",
      "\n",
      "See the caveats in the documentation: http://pandas.pydata.org/pandas-docs/stable/indexing.html#indexing-view-versus-copy\n",
      "  self._setitem_with_indexer(indexer, value)\n"
     ]
    },
    {
     "data": {
      "text/html": [
       "<div>\n",
       "<style scoped>\n",
       "    .dataframe tbody tr th:only-of-type {\n",
       "        vertical-align: middle;\n",
       "    }\n",
       "\n",
       "    .dataframe tbody tr th {\n",
       "        vertical-align: top;\n",
       "    }\n",
       "\n",
       "    .dataframe thead th {\n",
       "        text-align: right;\n",
       "    }\n",
       "</style>\n",
       "<table border=\"1\" class=\"dataframe\">\n",
       "  <thead>\n",
       "    <tr style=\"text-align: right;\">\n",
       "      <th></th>\n",
       "      <th>text</th>\n",
       "      <th>label</th>\n",
       "      <th>fine</th>\n",
       "    </tr>\n",
       "  </thead>\n",
       "  <tbody>\n",
       "    <tr>\n",
       "      <th>0</th>\n",
       "      <td>xx_username xx_username Komisch das die Realitätsverweigerung immer von linken erbärmlichen Correctiv Accounts ausgeht...</td>\n",
       "      <td>OTHER</td>\n",
       "      <td>OTHER</td>\n",
       "    </tr>\n",
       "    <tr>\n",
       "      <th>1</th>\n",
       "      <td>xx_username xx_username xx_username xx_username CDU steht seid Strauss, Kohl, Schäuble, vdLeyen für Korruption, Schwarzgeld, und dies überall...</td>\n",
       "      <td>OTHER</td>\n",
       "      <td>OTHER</td>\n",
       "    </tr>\n",
       "    <tr>\n",
       "      <th>2</th>\n",
       "      <td>xx_username Die Gesichter, Namen, Religion der Täter würde zur Aufklärung beitragen...</td>\n",
       "      <td>OTHER</td>\n",
       "      <td>OTHER</td>\n",
       "    </tr>\n",
       "    <tr>\n",
       "      <th>3</th>\n",
       "      <td>xx_username Wie verwirrt muss man sein um sich zu weigern die Tatsachen anzuerkennen, das dieser Hass von Ferkel importiert wurde....was bezweckt man damit sich selber so zu belügen, unverständlich</td>\n",
       "      <td>OFFENSE</td>\n",
       "      <td>OTHER</td>\n",
       "    </tr>\n",
       "    <tr>\n",
       "      <th>4</th>\n",
       "      <td>xx_username xx_username Weil die AfD den Ferkelfunk abschaffen will, deshalb haben die Linken Zecken, Schmarotzer Angst für ihr kacken arbeiten zu müssen, deshalb sind die Führer treu und senden jeden Dreck, Lüge...</td>\n",
       "      <td>OFFENSE</td>\n",
       "      <td>OTHER</td>\n",
       "    </tr>\n",
       "  </tbody>\n",
       "</table>\n",
       "</div>"
      ],
      "text/plain": [
       "                                                                                                                                                                                                                      text  \\\n",
       "0  xx_username xx_username Komisch das die Realitätsverweigerung immer von linken erbärmlichen Correctiv Accounts ausgeht...                                                                                                 \n",
       "1  xx_username xx_username xx_username xx_username CDU steht seid Strauss, Kohl, Schäuble, vdLeyen für Korruption, Schwarzgeld, und dies überall...                                                                          \n",
       "2  xx_username Die Gesichter, Namen, Religion der Täter würde zur Aufklärung beitragen...                                                                                                                                    \n",
       "3  xx_username Wie verwirrt muss man sein um sich zu weigern die Tatsachen anzuerkennen, das dieser Hass von Ferkel importiert wurde....was bezweckt man damit sich selber so zu belügen, unverständlich                     \n",
       "4  xx_username xx_username Weil die AfD den Ferkelfunk abschaffen will, deshalb haben die Linken Zecken, Schmarotzer Angst für ihr kacken arbeiten zu müssen, deshalb sind die Führer treu und senden jeden Dreck, Lüge...   \n",
       "\n",
       "     label   fine  \n",
       "0  OTHER    OTHER  \n",
       "1  OTHER    OTHER  \n",
       "2  OTHER    OTHER  \n",
       "3  OFFENSE  OTHER  \n",
       "4  OFFENSE  OTHER  "
      ]
     },
     "execution_count": 31,
     "metadata": {},
     "output_type": "execute_result"
    }
   ],
   "source": [
    "submission = test.copy()\n",
    "submission['fine'] = 'OTHER' # dummy label for binary classification\n",
    "for index,row in submission.iterrows():\n",
    "  if( preds[index][1] >=0.485):\n",
    "    #print('OFFENSE')\n",
    "    submission['label'][index] = 'OFFENSE'\n",
    "  else:\n",
    "    #print('OTHER')\n",
    "    submission['label'][index] = 'OTHER'\n",
    "submission.head()"
   ]
  },
  {
   "cell_type": "code",
   "execution_count": 32,
   "metadata": {
    "collapsed": true
   },
   "outputs": [],
   "source": [
    "# 1,1 ngrams -> 62.95 (C=40.0); lowercase=False\n",
    "# 1,2 ngrams -> 62.88 (C=40.0); lowercase=False\n",
    "\n",
    "# 1,1 ngrams -> 64.47 (C=1.0); lowercase=False\n",
    "\n",
    "# 1,1 ngrams -> 66.41 (C=1.0); lowercase=True\n",
    "# 1,2 ngrams -> 65.88 (C=1.0); lowercase=True\n",
    "# 1,3 ngrams -> 65.80 (C=1.0); lowercase=True\n",
    "# 1,4 ngrams -> 66.02  (C=1.0); lowercase=True\n",
    "# 1,5 ngrams -> 65.87 (C=1.0); lowercase=True\n",
    "# 1,6 ngrams -> 65.87 (C=1.0); lowercase=True\n",
    "\n",
    "# 1,4 ngrams ->  65.79 (C=1.0); lowercase=True; class_weight='balanced'\n",
    "\n",
    "# 3,3 ngrams -> 58.07\n",
    "\n",
    "# 1,4 ngrams ->  66.02 (C=1.0); lowercase=True; 4/1.0\n",
    "# 1,4 ngrams ->  64.07(C=1.0); lowercase=True; 2/0.8\n",
    "\n",
    "# 1,1 ngrams ->  66.41 (C=1.0); lowercase=True; 4/0.8\n",
    "# 1,1 ngrams ->  66.99 (C=4.0); lowercase=True; 4/0.8\n",
    "# 1,1 ngrams ->  67.69 (C=4.0); lowercase=True; 3/0.8\n",
    "# 1,1 ngrams ->  67.97 (C=4.0); lowercase=True; 2/0.8\n",
    "# 1,1 ngrams ->  61.61 (C=4.0); lowercase=True; 1/0.8\n",
    "\n",
    "# 1,1 ngrams ->  63.06 (C=8.0); lowercase=True; 2/0.8\n",
    "# 1,1 ngrams ->  66.26 (C=1.0); lowercase=True; 2/0.8\n",
    "# 1,1 ngrams ->  67.47 (C=2.0); lowercase=True; 2/0.8\n",
    "# 1,1 ngrams ->  68.05 (C=3.0); lowercase=True; 2/0.8*\n",
    "\n",
    "# 1,1 ngrams ->  61.88 (C=3.0); lowercase=True; 3/0.8\n",
    "# 1,1 ngrams ->  68.00 (C=3.5); lowercase=True; 2/0.8\n",
    "\n",
    "# 1,2 ngrams ->  66.16 (C=3.0); lowercase=True; 2/0.8\n",
    "# 1,3 ngrams ->  65.93 (C=3.0); lowercase=True; 2/0.8\n",
    "# 1,4 ngrams ->  65.95 (C=3.0); lowercase=True; 2/0.8\n",
    "\n",
    "# 2,3 ngrams ->  59.88 (C=3.0); lowercase=True; 2/0.8\n",
    "\n",
    "# character level\n",
    "# 3,6 ngrams -> 70.71 (c=4.0); lowercase=True; 4/1.0\n",
    "# 3,6 ngrams -> 69.03 (c=4.0); lowercase=False; 4/1.0\n",
    "\n",
    "# 3,6 ngrams -> 71.03 (c=8.0); lowercase=True; 4/1.0\n",
    "# 3,6 ngrams -> 69.17 (c=2.0); lowercase=True; 4/1.0\n",
    "# 3,6 ngrams -> 70.79 (c=6.0); lowercase=True; 4/1.0\n",
    "# 3,6 ngrams -> 71.56 (c=16.0); lowercase=True; 4/1.0\n",
    "# 3,6 ngrams -> 71.11 (c=32.0); lowercase=True; 4/1.0\n",
    "# 3,6 ngrams -> 71.04 (c=24.0); lowercase=True; 4/1.0\n",
    "# 3,6 ngrams -> 71.29 (c=20.0); lowercase=True; 4/1.0\n",
    "# 3,6 ngrams -> 71.39 (c=18.0); lowercase=True; 4/1.0\n",
    "# 3,6 ngrams -> 71.38 (c=12.0); lowercase=True; 4/1.0\n",
    "# 3,6 ngrams -> 71.71* (c=14.0); lowercase=True; 4/1.0\n",
    "# 3,6 ngrams -> 71.57 (c=15.0); lowercase=True; 4/1.0\n",
    "# 3,6 ngrams -> 71.45 (c=17.0); lowercase=True; 4/1.0\n",
    "\n",
    "# 3,6 ngrams -> 71.14 (c=14.0); lowercase=True; 5/1.0\n",
    "# 3,6 ngrams -> 71.23 (c=14.0); lowercase=True; 3/1.0\n",
    "# 3,6 ngrams -> 71.21 (c=14.0); lowercase=True; 3/0.5\n",
    "# 3,6 ngrams -> 71.57 (c=14.0); lowercase=True; 4/0.5\n",
    "\n",
    "# 3,6 ngrams -> 69.32 (c=14.0); lowercase=True; 4/1.0; l1 regularization\n",
    "\n",
    "# 3,10 ngrams -> 70.89 (c=14.0); lowercase=True; 4/1.0\n",
    "# 3,8 ngrams ->  70.92 (c=14.0); lowercase=True; 4/1.0\n",
    "# 2,6 ngrams ->  71.07 (c=14.0); lowercase=True; 4/1.0\n",
    "# 2,5 ngrams ->  71.15 (c=14.0); lowercase=True; 4/1.0\n",
    "# 4,7 ngrams ->  71.34 (c=14.0); lowercase=True; 4/1.0\n",
    "# 5,8 ngrams ->  69.84 (c=14.0); lowercase=True; 4/1.0\n",
    "\n",
    "# 3,6 ngrams -> 71.61 (c=14.0); lowercase=True; 4/0.4\n",
    "\n",
    "# 1,10 ngrams -> 70.70\n",
    "# 1,6 ngrams -> 70.99\n",
    "# 1,40 ngrams -> 69.71\n",
    "\n",
    "# Class labels (strangely balanced works best)\n",
    "# 2/1: 70.3\n",
    "# 1/2: 71.95\n",
    "# balanced: 72.28*\n",
    "\n",
    "# Cutoff (note that this should be 0.5)\n",
    "# 0.5 -> 72.28\n",
    "# 0.51 -> 72.14\n",
    "# 0.55 -> 71.76\n",
    "# 0.6 -> 71.59\n",
    "# 0.4 -> 71.20\n",
    "\n",
    "# 0.495 -> 72.47\n",
    "# 0.49 -> 72.47\n",
    "# 0.485 -> 72.62* (lemmatized: 72.58)\n",
    "# 0.48 -> 72.44\n",
    "\n",
    "# 0.47 -> 72.24\n",
    "\n",
    "submission.to_csv('naive.csv', sep='\\t', line_terminator='\\n', header=None, index=False, encoding='utf-8-sig')"
   ]
  },
  {
   "cell_type": "markdown",
   "metadata": {},
   "source": [
    "### Fine grained task"
   ]
  },
  {
   "cell_type": "code",
   "execution_count": 33,
   "metadata": {
    "collapsed": false
   },
   "outputs": [
    {
     "data": {
      "text/html": [
       "<div>\n",
       "<style scoped>\n",
       "    .dataframe tbody tr th:only-of-type {\n",
       "        vertical-align: middle;\n",
       "    }\n",
       "\n",
       "    .dataframe tbody tr th {\n",
       "        vertical-align: top;\n",
       "    }\n",
       "\n",
       "    .dataframe thead th {\n",
       "        text-align: right;\n",
       "    }\n",
       "</style>\n",
       "<table border=\"1\" class=\"dataframe\">\n",
       "  <thead>\n",
       "    <tr style=\"text-align: right;\">\n",
       "      <th></th>\n",
       "      <th>text</th>\n",
       "      <th>labels</th>\n",
       "      <th>other</th>\n",
       "      <th>offense</th>\n",
       "      <th>abuse</th>\n",
       "      <th>insult</th>\n",
       "      <th>profanity</th>\n",
       "    </tr>\n",
       "  </thead>\n",
       "  <tbody>\n",
       "    <tr>\n",
       "      <th>0</th>\n",
       "      <td>@corinnamilborn Liebe Corinna, wir würden dich gerne als Moderatorin für uns gewinnen! Wärst du begeisterbar?</td>\n",
       "      <td>OTHER</td>\n",
       "      <td>1</td>\n",
       "      <td>0</td>\n",
       "      <td>0</td>\n",
       "      <td>0</td>\n",
       "      <td>0</td>\n",
       "    </tr>\n",
       "    <tr>\n",
       "      <th>1</th>\n",
       "      <td>@Martin28a Sie haben ja auch Recht. Unser Tweet war etwas missverständlich. Dass das BVerfG Sachleistungen nicht ausschließt, kritisieren wir.</td>\n",
       "      <td>OTHER</td>\n",
       "      <td>1</td>\n",
       "      <td>0</td>\n",
       "      <td>0</td>\n",
       "      <td>0</td>\n",
       "      <td>0</td>\n",
       "    </tr>\n",
       "    <tr>\n",
       "      <th>2</th>\n",
       "      <td>@ahrens_theo fröhlicher gruß aus der schönsten stadt der welt theo ⚓️</td>\n",
       "      <td>OTHER</td>\n",
       "      <td>1</td>\n",
       "      <td>0</td>\n",
       "      <td>0</td>\n",
       "      <td>0</td>\n",
       "      <td>0</td>\n",
       "    </tr>\n",
       "    <tr>\n",
       "      <th>3</th>\n",
       "      <td>@dushanwegner Amis hätten alles und jeden gewählt...nur Hillary wollten sie nicht und eine Fortsetzung von Obama-Politik erst recht nicht..!</td>\n",
       "      <td>OTHER</td>\n",
       "      <td>1</td>\n",
       "      <td>0</td>\n",
       "      <td>0</td>\n",
       "      <td>0</td>\n",
       "      <td>0</td>\n",
       "    </tr>\n",
       "    <tr>\n",
       "      <th>4</th>\n",
       "      <td>@spdde kein verläßlicher Verhandlungspartner. Nachkarteln nach den Sondierzngsgesprächen - schickt diese Stümper #SPD in die Versenkung.</td>\n",
       "      <td>INSULT</td>\n",
       "      <td>0</td>\n",
       "      <td>0</td>\n",
       "      <td>0</td>\n",
       "      <td>1</td>\n",
       "      <td>0</td>\n",
       "    </tr>\n",
       "  </tbody>\n",
       "</table>\n",
       "</div>"
      ],
      "text/plain": [
       "                                                                                                                                             text  \\\n",
       "0  @corinnamilborn Liebe Corinna, wir würden dich gerne als Moderatorin für uns gewinnen! Wärst du begeisterbar?                                    \n",
       "1  @Martin28a Sie haben ja auch Recht. Unser Tweet war etwas missverständlich. Dass das BVerfG Sachleistungen nicht ausschließt, kritisieren wir.   \n",
       "2  @ahrens_theo fröhlicher gruß aus der schönsten stadt der welt theo ⚓️                                                                            \n",
       "3  @dushanwegner Amis hätten alles und jeden gewählt...nur Hillary wollten sie nicht und eine Fortsetzung von Obama-Politik erst recht nicht..!     \n",
       "4  @spdde kein verläßlicher Verhandlungspartner. Nachkarteln nach den Sondierzngsgesprächen - schickt diese Stümper #SPD in die Versenkung.         \n",
       "\n",
       "   labels  other  offense  abuse  insult  profanity  \n",
       "0  OTHER   1      0        0      0       0          \n",
       "1  OTHER   1      0        0      0       0          \n",
       "2  OTHER   1      0        0      0       0          \n",
       "3  OTHER   1      0        0      0       0          \n",
       "4  INSULT  0      0        0      1       0          "
      ]
     },
     "execution_count": 33,
     "metadata": {},
     "output_type": "execute_result"
    }
   ],
   "source": [
    "# Transform from the format text, binary, fine to\n",
    "# text, 'other', 'offense', 'abuse', 'insult', 'profanity' for finegrained classification\n",
    "# 1) Copy\n",
    "#df_tweets_tsh_fine = pd.read_csv(file_head, delimiter='\\t', header=None)\n",
    "df_tweets_tsh_fine = pd.concat([pd.read_csv(f, delimiter='\\t', header=None) for f in file_list ])\n",
    "\n",
    "# 2) Remove 2rd column\n",
    "del(df_tweets_tsh_fine[1])\n",
    "# 3) Add 'other', 'offense', 'abuse', 'insult', 'profanity' and use column names\n",
    "df_tweets_tsh_fine.columns = ['text', 'labels']\n",
    "df_tweets_tsh_fine['other'] = 0\n",
    "df_tweets_tsh_fine['offense'] = 0\n",
    "df_tweets_tsh_fine['abuse'] = 0\n",
    "df_tweets_tsh_fine['insult'] = 0\n",
    "df_tweets_tsh_fine['profanity'] = 0\n",
    "\n",
    "# 4) Fill 'other' and 'offense'\n",
    "mask_other = df_tweets_tsh_fine.labels == 'OTHER'\n",
    "mask_offense = df_tweets_tsh_fine.labels == 'OFFENSE'\n",
    "mask_abuse = df_tweets_tsh_fine.labels == 'ABUSE'\n",
    "mask_insult = df_tweets_tsh_fine.labels == 'INSULT'\n",
    "mask_profanity = df_tweets_tsh_fine.labels == 'PROFANITY'\n",
    "\n",
    "df_tweets_tsh_fine.loc[mask_other, 'other'] = 1\n",
    "df_tweets_tsh_fine.loc[mask_offense, 'offense'] = 1\n",
    "df_tweets_tsh_fine.loc[mask_abuse, 'abuse'] = 1\n",
    "df_tweets_tsh_fine.loc[mask_insult, 'insult'] = 1\n",
    "df_tweets_tsh_fine.loc[mask_profanity, 'profanity'] = 1\n",
    "\n",
    "df_tweets_tsh_fine.head()"
   ]
  },
  {
   "cell_type": "code",
   "execution_count": 34,
   "metadata": {
    "collapsed": true
   },
   "outputs": [],
   "source": [
    "train_df_tweets_tsh_fine = df_tweets_tsh_fine.copy()"
   ]
  },
  {
   "cell_type": "code",
   "execution_count": 35,
   "metadata": {
    "collapsed": false
   },
   "outputs": [
    {
     "data": {
      "text/html": [
       "<div>\n",
       "<style scoped>\n",
       "    .dataframe tbody tr th:only-of-type {\n",
       "        vertical-align: middle;\n",
       "    }\n",
       "\n",
       "    .dataframe tbody tr th {\n",
       "        vertical-align: top;\n",
       "    }\n",
       "\n",
       "    .dataframe thead th {\n",
       "        text-align: right;\n",
       "    }\n",
       "</style>\n",
       "<table border=\"1\" class=\"dataframe\">\n",
       "  <thead>\n",
       "    <tr style=\"text-align: right;\">\n",
       "      <th></th>\n",
       "      <th>text</th>\n",
       "      <th>labels</th>\n",
       "      <th>other</th>\n",
       "      <th>offense</th>\n",
       "      <th>abuse</th>\n",
       "      <th>insult</th>\n",
       "      <th>profanity</th>\n",
       "    </tr>\n",
       "  </thead>\n",
       "  <tbody>\n",
       "    <tr>\n",
       "      <th>0</th>\n",
       "      <td>@corinnamilborn Liebe Corinna, wir würden dich gerne als Moderatorin für uns gewinnen! Wärst du begeisterbar?</td>\n",
       "      <td>OTHER</td>\n",
       "      <td>1</td>\n",
       "      <td>0</td>\n",
       "      <td>0</td>\n",
       "      <td>0</td>\n",
       "      <td>0</td>\n",
       "    </tr>\n",
       "    <tr>\n",
       "      <th>1</th>\n",
       "      <td>@Martin28a Sie haben ja auch Recht. Unser Tweet war etwas missverständlich. Dass das BVerfG Sachleistungen nicht ausschließt, kritisieren wir.</td>\n",
       "      <td>OTHER</td>\n",
       "      <td>1</td>\n",
       "      <td>0</td>\n",
       "      <td>0</td>\n",
       "      <td>0</td>\n",
       "      <td>0</td>\n",
       "    </tr>\n",
       "    <tr>\n",
       "      <th>2</th>\n",
       "      <td>@ahrens_theo fröhlicher gruß aus der schönsten stadt der welt theo ⚓️</td>\n",
       "      <td>OTHER</td>\n",
       "      <td>1</td>\n",
       "      <td>0</td>\n",
       "      <td>0</td>\n",
       "      <td>0</td>\n",
       "      <td>0</td>\n",
       "    </tr>\n",
       "    <tr>\n",
       "      <th>3</th>\n",
       "      <td>@dushanwegner Amis hätten alles und jeden gewählt...nur Hillary wollten sie nicht und eine Fortsetzung von Obama-Politik erst recht nicht..!</td>\n",
       "      <td>OTHER</td>\n",
       "      <td>1</td>\n",
       "      <td>0</td>\n",
       "      <td>0</td>\n",
       "      <td>0</td>\n",
       "      <td>0</td>\n",
       "    </tr>\n",
       "    <tr>\n",
       "      <th>4</th>\n",
       "      <td>@spdde kein verläßlicher Verhandlungspartner. Nachkarteln nach den Sondierzngsgesprächen - schickt diese Stümper #SPD in die Versenkung.</td>\n",
       "      <td>INSULT</td>\n",
       "      <td>0</td>\n",
       "      <td>0</td>\n",
       "      <td>0</td>\n",
       "      <td>1</td>\n",
       "      <td>0</td>\n",
       "    </tr>\n",
       "  </tbody>\n",
       "</table>\n",
       "</div>"
      ],
      "text/plain": [
       "                                                                                                                                             text  \\\n",
       "0  @corinnamilborn Liebe Corinna, wir würden dich gerne als Moderatorin für uns gewinnen! Wärst du begeisterbar?                                    \n",
       "1  @Martin28a Sie haben ja auch Recht. Unser Tweet war etwas missverständlich. Dass das BVerfG Sachleistungen nicht ausschließt, kritisieren wir.   \n",
       "2  @ahrens_theo fröhlicher gruß aus der schönsten stadt der welt theo ⚓️                                                                            \n",
       "3  @dushanwegner Amis hätten alles und jeden gewählt...nur Hillary wollten sie nicht und eine Fortsetzung von Obama-Politik erst recht nicht..!     \n",
       "4  @spdde kein verläßlicher Verhandlungspartner. Nachkarteln nach den Sondierzngsgesprächen - schickt diese Stümper #SPD in die Versenkung.         \n",
       "\n",
       "   labels  other  offense  abuse  insult  profanity  \n",
       "0  OTHER   1      0        0      0       0          \n",
       "1  OTHER   1      0        0      0       0          \n",
       "2  OTHER   1      0        0      0       0          \n",
       "3  OTHER   1      0        0      0       0          \n",
       "4  INSULT  0      0        0      1       0          "
      ]
     },
     "execution_count": 35,
     "metadata": {},
     "output_type": "execute_result"
    }
   ],
   "source": [
    "train_df_tweets_tsh_fine.head()"
   ]
  },
  {
   "cell_type": "code",
   "execution_count": 36,
   "metadata": {
    "collapsed": false
   },
   "outputs": [
    {
     "data": {
      "text/html": [
       "<div>\n",
       "<style scoped>\n",
       "    .dataframe tbody tr th:only-of-type {\n",
       "        vertical-align: middle;\n",
       "    }\n",
       "\n",
       "    .dataframe tbody tr th {\n",
       "        vertical-align: top;\n",
       "    }\n",
       "\n",
       "    .dataframe thead th {\n",
       "        text-align: right;\n",
       "    }\n",
       "</style>\n",
       "<table border=\"1\" class=\"dataframe\">\n",
       "  <thead>\n",
       "    <tr style=\"text-align: right;\">\n",
       "      <th></th>\n",
       "      <th>other</th>\n",
       "      <th>offense</th>\n",
       "      <th>abuse</th>\n",
       "      <th>insult</th>\n",
       "      <th>profanity</th>\n",
       "      <th>none</th>\n",
       "    </tr>\n",
       "  </thead>\n",
       "  <tbody>\n",
       "    <tr>\n",
       "      <th>count</th>\n",
       "      <td>12387.000000</td>\n",
       "      <td>12387.0</td>\n",
       "      <td>12387.000000</td>\n",
       "      <td>12387.000000</td>\n",
       "      <td>12387.000000</td>\n",
       "      <td>12387.0</td>\n",
       "    </tr>\n",
       "    <tr>\n",
       "      <th>mean</th>\n",
       "      <td>0.667393</td>\n",
       "      <td>0.0</td>\n",
       "      <td>0.182853</td>\n",
       "      <td>0.128118</td>\n",
       "      <td>0.021636</td>\n",
       "      <td>0.0</td>\n",
       "    </tr>\n",
       "    <tr>\n",
       "      <th>std</th>\n",
       "      <td>0.471166</td>\n",
       "      <td>0.0</td>\n",
       "      <td>0.386562</td>\n",
       "      <td>0.334235</td>\n",
       "      <td>0.145496</td>\n",
       "      <td>0.0</td>\n",
       "    </tr>\n",
       "    <tr>\n",
       "      <th>min</th>\n",
       "      <td>0.000000</td>\n",
       "      <td>0.0</td>\n",
       "      <td>0.000000</td>\n",
       "      <td>0.000000</td>\n",
       "      <td>0.000000</td>\n",
       "      <td>0.0</td>\n",
       "    </tr>\n",
       "    <tr>\n",
       "      <th>25%</th>\n",
       "      <td>0.000000</td>\n",
       "      <td>0.0</td>\n",
       "      <td>0.000000</td>\n",
       "      <td>0.000000</td>\n",
       "      <td>0.000000</td>\n",
       "      <td>0.0</td>\n",
       "    </tr>\n",
       "    <tr>\n",
       "      <th>50%</th>\n",
       "      <td>1.000000</td>\n",
       "      <td>0.0</td>\n",
       "      <td>0.000000</td>\n",
       "      <td>0.000000</td>\n",
       "      <td>0.000000</td>\n",
       "      <td>0.0</td>\n",
       "    </tr>\n",
       "    <tr>\n",
       "      <th>75%</th>\n",
       "      <td>1.000000</td>\n",
       "      <td>0.0</td>\n",
       "      <td>0.000000</td>\n",
       "      <td>0.000000</td>\n",
       "      <td>0.000000</td>\n",
       "      <td>0.0</td>\n",
       "    </tr>\n",
       "    <tr>\n",
       "      <th>max</th>\n",
       "      <td>1.000000</td>\n",
       "      <td>0.0</td>\n",
       "      <td>1.000000</td>\n",
       "      <td>1.000000</td>\n",
       "      <td>1.000000</td>\n",
       "      <td>0.0</td>\n",
       "    </tr>\n",
       "  </tbody>\n",
       "</table>\n",
       "</div>"
      ],
      "text/plain": [
       "              other  offense         abuse        insult     profanity  \\\n",
       "count  12387.000000  12387.0  12387.000000  12387.000000  12387.000000   \n",
       "mean   0.667393      0.0      0.182853      0.128118      0.021636       \n",
       "std    0.471166      0.0      0.386562      0.334235      0.145496       \n",
       "min    0.000000      0.0      0.000000      0.000000      0.000000       \n",
       "25%    0.000000      0.0      0.000000      0.000000      0.000000       \n",
       "50%    1.000000      0.0      0.000000      0.000000      0.000000       \n",
       "75%    1.000000      0.0      0.000000      0.000000      0.000000       \n",
       "max    1.000000      0.0      1.000000      1.000000      1.000000       \n",
       "\n",
       "          none  \n",
       "count  12387.0  \n",
       "mean   0.0      \n",
       "std    0.0      \n",
       "min    0.0      \n",
       "25%    0.0      \n",
       "50%    0.0      \n",
       "75%    0.0      \n",
       "max    0.0      "
      ]
     },
     "execution_count": 36,
     "metadata": {},
     "output_type": "execute_result"
    }
   ],
   "source": [
    "label_cols_fine = ['other', 'abuse', 'insult', 'profanity']\n",
    "train_df_tweets_tsh_fine['none'] = 1-train_df_tweets_tsh_fine[label_cols_fine].max(axis=1)\n",
    "train_df_tweets_tsh_fine.describe()"
   ]
  },
  {
   "cell_type": "code",
   "execution_count": 37,
   "metadata": {
    "collapsed": true
   },
   "outputs": [],
   "source": [
    "COMMENT = 'text'\n",
    "#n = train_df_tweets_tsh_fine.shape[0]\n",
    "vec = TfidfVectorizer(analyzer='char', ngram_range=(3,6), tokenizer=tokenize_spacy,\n",
    "               min_df=4, max_df=1.0, strip_accents='unicode', use_idf=True,\n",
    "               smooth_idf=False, sublinear_tf=True, lowercase=True, binary=False)\n",
    "trn_term_doc_fine = vec.fit_transform(train_df_tweets_tsh_fine[COMMENT])\n",
    "test_term_doc_fine = vec.transform(test[COMMENT])"
   ]
  },
  {
   "cell_type": "code",
   "execution_count": 38,
   "metadata": {
    "collapsed": false
   },
   "outputs": [
    {
     "data": {
      "text/plain": [
       "(<12387x174575 sparse matrix of type '<class 'numpy.float64'>'\n",
       " \twith 5742240 stored elements in Compressed Sparse Row format>,\n",
       " <3031x174575 sparse matrix of type '<class 'numpy.float64'>'\n",
       " \twith 1381344 stored elements in Compressed Sparse Row format>)"
      ]
     },
     "execution_count": 38,
     "metadata": {},
     "output_type": "execute_result"
    }
   ],
   "source": [
    "trn_term_doc_fine, test_term_doc_fine"
   ]
  },
  {
   "cell_type": "code",
   "execution_count": 39,
   "metadata": {
    "collapsed": true
   },
   "outputs": [],
   "source": [
    "x = trn_term_doc_fine\n",
    "test_x = test_term_doc_fine"
   ]
  },
  {
   "cell_type": "code",
   "execution_count": 40,
   "metadata": {
    "collapsed": true
   },
   "outputs": [],
   "source": [
    "# other, abuse, insult, profanity\n",
    "# class_weight = {}\n",
    "\n",
    "def get_mdl(y):\n",
    "    y = y.values\n",
    "    r = np.log(pr(1,y) / pr(0,y))\n",
    "    m = LogisticRegression(C=14.0, dual=False, solver='saga', multi_class='auto', penalty='l2', max_iter=500, class_weight='balanced') # class_weight='balanced'\n",
    "    x_nb = x.multiply(r)\n",
    "    return m.fit(x_nb, y), r"
   ]
  },
  {
   "cell_type": "code",
   "execution_count": 41,
   "metadata": {
    "collapsed": false
   },
   "outputs": [
    {
     "name": "stdout",
     "output_type": "stream",
     "text": [
      "fit other\n",
      "fit abuse\n",
      "fit insult\n",
      "fit profanity\n"
     ]
    },
    {
     "name": "stderr",
     "output_type": "stream",
     "text": [
      "//anaconda/envs/python3/lib/python3.5/site-packages/sklearn/linear_model/sag.py:334: ConvergenceWarning: The max_iter was reached which means the coef_ did not converge\n",
      "  \"the coef_ did not converge\", ConvergenceWarning)\n"
     ]
    }
   ],
   "source": [
    "preds = np.zeros((len(test), len(label_cols_fine)))\n",
    "\n",
    "for i, j in enumerate(label_cols_fine):\n",
    "    print('fit', j)\n",
    "    m,r = get_mdl(train_df_tweets_tsh_fine[j])\n",
    "    preds[:,i] = m.predict_proba(test_x.multiply(r))[:,1]"
   ]
  },
  {
   "cell_type": "code",
   "execution_count": 42,
   "metadata": {
    "collapsed": true
   },
   "outputs": [],
   "source": [
    "# All predictions for the testset file\n",
    "predictions = pd.DataFrame(preds, columns = label_cols_fine)\n",
    "#predictions"
   ]
  },
  {
   "cell_type": "code",
   "execution_count": 43,
   "metadata": {
    "collapsed": false
   },
   "outputs": [
    {
     "data": {
      "text/plain": [
       "'xx_username Genau der Piotoitsche Gelsenkirchener...wie gut das der Stempel noch frisch ist, dann kann man das toitsch sein sogar noch riechen...'"
      ]
     },
     "execution_count": 43,
     "metadata": {},
     "output_type": "execute_result"
    }
   ],
   "source": [
    "submission = test.copy()\n",
    "#del(submission['fine'])\n",
    "submission['text'][21]"
   ]
  },
  {
   "cell_type": "code",
   "execution_count": 44,
   "metadata": {
    "collapsed": true
   },
   "outputs": [],
   "source": [
    "def max_from_labels(pred, labels):\n",
    "    return labels[np.argmax(pred)].upper()"
   ]
  },
  {
   "cell_type": "code",
   "execution_count": 45,
   "metadata": {
    "collapsed": false
   },
   "outputs": [
    {
     "name": "stderr",
     "output_type": "stream",
     "text": [
      "//anaconda/envs/python3/lib/python3.5/site-packages/ipykernel/__main__.py:3: SettingWithCopyWarning: \n",
      "A value is trying to be set on a copy of a slice from a DataFrame\n",
      "\n",
      "See the caveats in the documentation: http://pandas.pydata.org/pandas-docs/stable/indexing.html#indexing-view-versus-copy\n",
      "  app.launch_new_instance()\n",
      "//anaconda/envs/python3/lib/python3.5/site-packages/pandas/core/indexing.py:189: SettingWithCopyWarning: \n",
      "A value is trying to be set on a copy of a slice from a DataFrame\n",
      "\n",
      "See the caveats in the documentation: http://pandas.pydata.org/pandas-docs/stable/indexing.html#indexing-view-versus-copy\n",
      "  self._setitem_with_indexer(indexer, value)\n",
      "//anaconda/envs/python3/lib/python3.5/site-packages/ipykernel/__main__.py:4: SettingWithCopyWarning: \n",
      "A value is trying to be set on a copy of a slice from a DataFrame\n",
      "\n",
      "See the caveats in the documentation: http://pandas.pydata.org/pandas-docs/stable/indexing.html#indexing-view-versus-copy\n"
     ]
    }
   ],
   "source": [
    "#submission['label'] = 'OTHER' # dummy label for fine classification\n",
    "for index,row in submission.iterrows():\n",
    "  submission['label'][index] = max_from_labels(preds[index], label_cols_fine)\n",
    "  submission['fine'][index] = max_from_labels(preds[index], label_cols_fine)"
   ]
  },
  {
   "cell_type": "code",
   "execution_count": 46,
   "metadata": {
    "collapsed": true
   },
   "outputs": [],
   "source": [
    "# 3,6c -> 45.67\n",
    "# 3,7c -> 43.8\n",
    "# 3,6c -> 44.41 (1/2 classes)\n",
    "# 3,6c -> 45.71* (2/1 classes)\n",
    "# 3,6c -> 45.43 (3/1 classes)\n",
    "\n",
    "# Balanced\n",
    "# 4/1.0; 3,6c -> 45.72* (balanced) -> same lemmatized\n",
    "submission.to_csv('naive2.csv', sep='\\t', line_terminator='\\n', header=None, index=False, encoding='utf-8-sig')"
   ]
  },
  {
   "cell_type": "code",
   "execution_count": 47,
   "metadata": {
    "collapsed": true
   },
   "outputs": [],
   "source": [
    "#for index,row in submission.iterrows():\n",
    "#  print(preds[index])"
   ]
  }
 ],
 "metadata": {
  "kernelspec": {
   "display_name": "Python 3",
   "language": "python",
   "name": "python3"
  },
  "language_info": {
   "codemirror_mode": {
    "name": "ipython",
    "version": 3
   },
   "file_extension": ".py",
   "mimetype": "text/x-python",
   "name": "python",
   "nbconvert_exporter": "python",
   "pygments_lexer": "ipython3",
   "version": "3.5.0"
  }
 },
 "nbformat": 4,
 "nbformat_minor": 2
}
